{
 "cells": [
  {
   "attachments": {},
   "cell_type": "markdown",
   "metadata": {},
   "source": [
    "# Advanced Python"
   ]
  },
  {
   "attachments": {},
   "cell_type": "markdown",
   "metadata": {},
   "source": [
    "### Task 1: Python Classes"
   ]
  },
  {
   "attachments": {},
   "cell_type": "markdown",
   "metadata": {},
   "source": [
    "1a. Define a class named Student with the following attributes: student_id, student_name, and class_name. Use the __init__ method to initialize these attributes."
   ]
  },
  {
   "cell_type": "code",
   "execution_count": 1,
   "metadata": {},
   "outputs": [],
   "source": [
    "class Student: \n",
    "    def __init__(self, student_id, student_name, class_name):\n",
    "        self.student_id = student_id\n",
    "        self.student_name = student_name\n",
    "        self.class_name = class_name "
   ]
  },
  {
   "attachments": {},
   "cell_type": "markdown",
   "metadata": {},
   "source": [
    "1b. Create an instance of the Student class named student with the following details: ‘V12’ as student_id, ‘Frank Gibson’ as student_name, and ‘V’ as class_name."
   ]
  },
  {
   "cell_type": "code",
   "execution_count": 2,
   "metadata": {},
   "outputs": [],
   "source": [
    "student = Student('V12', 'Frank Gibson', 'V')"
   ]
  },
  {
   "attachments": {},
   "cell_type": "markdown",
   "metadata": {},
   "source": [
    "1c. Print the dictionary representation of the student object using the following method:\n",
    "\n",
    "```\n",
    "__dict__\n",
    "```"
   ]
  },
  {
   "cell_type": "code",
   "execution_count": 3,
   "metadata": {},
   "outputs": [
    {
     "name": "stdout",
     "output_type": "stream",
     "text": [
      "{'student_id': 'V12', 'student_name': 'Frank Gibson', 'class_name': 'V'}\n"
     ]
    }
   ],
   "source": [
    "print(student.__dict__)"
   ]
  },
  {
   "attachments": {},
   "cell_type": "markdown",
   "metadata": {},
   "source": [
    "2a. Import the math module: This module provides access to mathematical functions defined by the C standard"
   ]
  },
  {
   "cell_type": "code",
   "execution_count": 4,
   "metadata": {},
   "outputs": [],
   "source": [
    "import math"
   ]
  },
  {
   "attachments": {},
   "cell_type": "markdown",
   "metadata": {},
   "source": [
    "2b. Define a class named Circle: This class will have two methods: calculate_circle_area and calculate_circle_perimeter\n",
    "\n",
    "These should include the correct calculations"
   ]
  },
  {
   "cell_type": "code",
   "execution_count": 5,
   "metadata": {},
   "outputs": [],
   "source": [
    "class Circle:\n",
    "    def __init__(self, radius):\n",
    "        self.radius = radius\n",
    "    \n",
    "    def calculate_circle_area(self):\n",
    "        return math.pi * self.radius**2\n",
    "    \n",
    "    def calculate_circle_perimeter(self):\n",
    "        return 2 * math.pi * self.radius"
   ]
  },
  {
   "attachments": {},
   "cell_type": "markdown",
   "metadata": {},
   "source": [
    "2c. Create an instance of the Circle class: Prompt the user to input the radius of the circle, then create an instance of the Circle class with this radius."
   ]
  },
  {
   "cell_type": "code",
   "execution_count": 7,
   "metadata": {},
   "outputs": [
    {
     "name": "stdin",
     "output_type": "stream",
     "text": [
      "Input the radius of the circle:  3\n"
     ]
    }
   ],
   "source": [
    "radius = float(input(\"Input the radius of the circle: \"))\n",
    "circle = Circle(radius)"
   ]
  },
  {
   "attachments": {},
   "cell_type": "markdown",
   "metadata": {},
   "source": [
    "2d. Calculate and print the area and perimeter of the circle: Use the calculate_circle_area and calculate_circle_perimeter methods of the Circle class to calculate and print the area and perimeter of the circle."
   ]
  },
  {
   "cell_type": "code",
   "execution_count": 8,
   "metadata": {},
   "outputs": [
    {
     "name": "stdout",
     "output_type": "stream",
     "text": [
      "Area of the circle: 28.274333882308138\n",
      "Perimeter of the circle: 18.84955592153876\n"
     ]
    }
   ],
   "source": [
    "area = circle.calculate_circle_area()\n",
    "perimeter = circle.calculate_circle_perimeter()\n",
    "print(\"Area of the circle:\", area)\n",
    "print(\"Perimeter of the circle:\", perimeter)"
   ]
  },
  {
   "attachments": {},
   "cell_type": "markdown",
   "metadata": {},
   "source": [
    "##### Constructors and Destructors"
   ]
  },
  {
   "attachments": {},
   "cell_type": "markdown",
   "metadata": {},
   "source": [
    "3a. Create a class Person with a constructor that initializes two attributes: name and age. Also, define a destructor that prints a message with the Person name attribute when an object of this class is destroyed."
   ]
  },
  {
   "cell_type": "code",
   "execution_count": 9,
   "metadata": {},
   "outputs": [],
   "source": [
    "class Person:\n",
    "    def __init__(self, name, age):\n",
    "        self.name = name\n",
    "        self.age = age\n",
    "\n",
    "    def __del__(self):\n",
    "        print(f'{self.name} object has been deleted.')"
   ]
  },
  {
   "attachments": {},
   "cell_type": "markdown",
   "metadata": {},
   "source": [
    "3b. Create a Person object from 3a and then delete the object using the del command."
   ]
  },
  {
   "cell_type": "code",
   "execution_count": 10,
   "metadata": {},
   "outputs": [
    {
     "name": "stdout",
     "output_type": "stream",
     "text": [
      "John object has been deleted.\n"
     ]
    }
   ],
   "source": [
    "# Create an object of the Person class\n",
    "p = Person('John', 25)\n",
    "\n",
    "# Delete the object\n",
    "del p"
   ]
  },
  {
   "attachments": {},
   "cell_type": "markdown",
   "metadata": {},
   "source": [
    "### Task 2: Inheritance and Polymorphism"
   ]
  },
  {
   "attachments": {},
   "cell_type": "markdown",
   "metadata": {},
   "source": [
    "1a. Create a class Animal with a method eat that prints “Eating…”.\n",
    "\n",
    "Then create a class Dog that inherits from Animal and has a method bark that prints “Barking…”."
   ]
  },
  {
   "cell_type": "code",
   "execution_count": 11,
   "metadata": {},
   "outputs": [],
   "source": [
    "class Animal:\n",
    "    def eat(self):\n",
    "        print(\"Eating...\")\n",
    "\n",
    "class Dog(Animal):\n",
    "    def bark(self):\n",
    "        print(\"Barking...\")"
   ]
  },
  {
   "attachments": {},
   "cell_type": "markdown",
   "metadata": {},
   "source": [
    "1b. Create an object of the Dog class.\n",
    "\n",
    "Call the eat method from the Animal class\n",
    "\n",
    "Call the bark method from the Dog class"
   ]
  },
  {
   "cell_type": "code",
   "execution_count": 12,
   "metadata": {},
   "outputs": [
    {
     "name": "stdout",
     "output_type": "stream",
     "text": [
      "Eating...\n",
      "Barking...\n"
     ]
    }
   ],
   "source": [
    "# Create an object of the Dog class\n",
    "d = Dog()\n",
    "\n",
    "# Call the eat method from the Animal class\n",
    "d.eat()\n",
    "\n",
    "# Call the bark method from the Dog class\n",
    "d.bark()"
   ]
  },
  {
   "attachments": {},
   "cell_type": "markdown",
   "metadata": {},
   "source": [
    "2a. Create a class Person with a constructor that initializes an attribute name."
   ]
  },
  {
   "cell_type": "code",
   "execution_count": 13,
   "metadata": {},
   "outputs": [],
   "source": [
    "class Person:\n",
    "    def __init__(self, name):\n",
    "        self.name = name"
   ]
  },
  {
   "attachments": {},
   "cell_type": "markdown",
   "metadata": {},
   "source": [
    "2b. Create a class Employee that inherits from Person and also has an attribute id."
   ]
  },
  {
   "cell_type": "code",
   "execution_count": 14,
   "metadata": {},
   "outputs": [],
   "source": [
    "class Employee(Person):\n",
    "    def __init__(self, name, id):\n",
    "        super().__init__(name)\n",
    "        self.id = id"
   ]
  },
  {
   "attachments": {},
   "cell_type": "markdown",
   "metadata": {},
   "source": [
    "2c. Create an object of the Employee class.\n"
   ]
  },
  {
   "cell_type": "code",
   "execution_count": 15,
   "metadata": {},
   "outputs": [],
   "source": [
    "# Create an object of the Employee class\n",
    "e = Employee('John', '123')"
   ]
  },
  {
   "attachments": {},
   "cell_type": "markdown",
   "metadata": {},
   "source": [
    "2d. Print the name and id of the employee."
   ]
  },
  {
   "cell_type": "code",
   "execution_count": 16,
   "metadata": {},
   "outputs": [
    {
     "name": "stdout",
     "output_type": "stream",
     "text": [
      "John\n",
      "123\n"
     ]
    }
   ],
   "source": [
    "# Print the name and id of the employee\n",
    "print(e.name)\n",
    "print(e.id)"
   ]
  },
  {
   "attachments": {},
   "cell_type": "markdown",
   "metadata": {},
   "source": [
    "### Task 3: Encapsulation"
   ]
  },
  {
   "attachments": {},
   "cell_type": "markdown",
   "metadata": {},
   "source": [
    "1a. Create a class Person with two private attributes: name and age.\n",
    "\n",
    "Provide getter and setter methods for these attributes."
   ]
  },
  {
   "cell_type": "code",
   "execution_count": 17,
   "metadata": {},
   "outputs": [],
   "source": [
    "class Person:\n",
    "    def __init__(self, name, age):\n",
    "        self.__name = name\n",
    "        self.__age = age\n",
    "\n",
    "    def get_name(self):\n",
    "        return self.__name\n",
    "\n",
    "    def set_name(self, name):\n",
    "        self.__name = name\n",
    "\n",
    "    def get_age(self):\n",
    "        return self.__age\n",
    "\n",
    "    def set_age(self, age):\n",
    "        self.__age = age\n"
   ]
  },
  {
   "attachments": {},
   "cell_type": "markdown",
   "metadata": {},
   "source": [
    "1b. Create an object of the Person class.\n",
    "\n",
    "Get the name and age using the getter methods.\n",
    "\n",
    "Set the name and age using the setter methods.\n",
    "\n",
    "Get the updated name and age"
   ]
  },
  {
   "cell_type": "code",
   "execution_count": 18,
   "metadata": {},
   "outputs": [
    {
     "name": "stdout",
     "output_type": "stream",
     "text": [
      "John\n",
      "25\n",
      "Jane\n",
      "30\n"
     ]
    }
   ],
   "source": [
    "# Create an object of the Person class\n",
    "p = Person('John', 25)\n",
    "\n",
    "# Get the name and age using the getter methods\n",
    "print(p.get_name())\n",
    "print(p.get_age())\n",
    "\n",
    "# Set the name and age using the setter methods\n",
    "p.set_name('Jane')\n",
    "p.set_age(30)\n",
    "\n",
    "# Get the updated name and age\n",
    "print(p.get_name())\n",
    "print(p.get_age())"
   ]
  },
  {
   "attachments": {},
   "cell_type": "markdown",
   "metadata": {},
   "source": [
    "2a. Create a class Circle with a private attribute radius.\n",
    "\n",
    "Provide getter and setter methods for this attribute.\n",
    "\n",
    "Also provide a method area that calculates the area of the circle."
   ]
  },
  {
   "cell_type": "code",
   "execution_count": 19,
   "metadata": {},
   "outputs": [],
   "source": [
    "class Circle:\n",
    "    def __init__(self, radius):\n",
    "        self.__radius = radius\n",
    "\n",
    "    def get_radius(self):\n",
    "        return self.__radius\n",
    "\n",
    "    def set_radius(self, radius):\n",
    "        self.__radius = radius\n",
    "\n",
    "    def area(self):\n",
    "        return 3.14 * self.__radius * self.__radius"
   ]
  },
  {
   "attachments": {},
   "cell_type": "markdown",
   "metadata": {},
   "source": [
    "2b. Create an object of the Circle class.\n",
    "\n",
    "Get the radius using the getter method.\n",
    "\n",
    "Calculate and print the area of the circle.\n",
    "\n",
    "Set the radius using the setter method."
   ]
  },
  {
   "cell_type": "code",
   "execution_count": 20,
   "metadata": {},
   "outputs": [
    {
     "name": "stdout",
     "output_type": "stream",
     "text": [
      "5\n",
      "78.5\n"
     ]
    }
   ],
   "source": [
    "# Create an object of the Circle class\n",
    "c = Circle(5)\n",
    "\n",
    "# Get the radius using the getter method\n",
    "print(c.get_radius())\n",
    "\n",
    "# Calculate and print the area of the circle\n",
    "print(c.area())\n",
    "\n",
    "# Set the radius using the setter method\n",
    "c.set_radius(10)"
   ]
  },
  {
   "attachments": {},
   "cell_type": "markdown",
   "metadata": {},
   "source": [
    "2c. Get the updated radius and calculate the new area."
   ]
  },
  {
   "cell_type": "code",
   "execution_count": 21,
   "metadata": {},
   "outputs": [
    {
     "name": "stdout",
     "output_type": "stream",
     "text": [
      "10\n",
      "314.0\n"
     ]
    }
   ],
   "source": [
    "# Get the updated radius and calculate the new area\n",
    "print(c.get_radius())\n",
    "print(c.area())"
   ]
  },
  {
   "attachments": {},
   "cell_type": "markdown",
   "metadata": {},
   "source": [
    "### Task 4: Exception Handling"
   ]
  },
  {
   "attachments": {},
   "cell_type": "markdown",
   "metadata": {},
   "source": [
    "1. Write a Python program to handle an error that occurs when you try to divide by zero."
   ]
  },
  {
   "cell_type": "code",
   "execution_count": 22,
   "metadata": {},
   "outputs": [
    {
     "name": "stdout",
     "output_type": "stream",
     "text": [
      "You can't divide by zero!\n"
     ]
    }
   ],
   "source": [
    "try:\n",
    "    result = 10 / 0\n",
    "except ZeroDivisionError:\n",
    "    print(\"You can't divide by zero!\")"
   ]
  },
  {
   "attachments": {},
   "cell_type": "markdown",
   "metadata": {},
   "source": [
    "2. Write a Python program to handle an error that occurs when you try to convert a string to an integer."
   ]
  },
  {
   "cell_type": "code",
   "execution_count": 23,
   "metadata": {},
   "outputs": [
    {
     "name": "stdout",
     "output_type": "stream",
     "text": [
      "That's not a valid number!\n"
     ]
    }
   ],
   "source": [
    "try:\n",
    "    num = int('abc')\n",
    "except ValueError:\n",
    "    print(\"That's not a valid number!\")"
   ]
  },
  {
   "attachments": {},
   "cell_type": "markdown",
   "metadata": {},
   "source": [
    "3. Write a Python program to handle an error that occurs when you try to open a file that doesn’t exist."
   ]
  },
  {
   "cell_type": "code",
   "execution_count": 24,
   "metadata": {},
   "outputs": [
    {
     "name": "stdout",
     "output_type": "stream",
     "text": [
      "The file doesn't exist!\n"
     ]
    }
   ],
   "source": [
    "try:\n",
    "    file = open('non_existent_file.txt', 'r')\n",
    "except FileNotFoundError:\n",
    "    print(\"The file doesn't exist!\")\n"
   ]
  },
  {
   "attachments": {},
   "cell_type": "markdown",
   "metadata": {},
   "source": [
    "4. Write a Python program that uses a try/except/else block. The else block should run if no exceptions were raised in the try block."
   ]
  },
  {
   "cell_type": "code",
   "execution_count": 25,
   "metadata": {},
   "outputs": [
    {
     "name": "stdout",
     "output_type": "stream",
     "text": [
      "No exceptions were raised.\n"
     ]
    }
   ],
   "source": [
    "try:\n",
    "    num = int('123')\n",
    "except ValueError:\n",
    "    print(\"That's not a valid number!\")\n",
    "else:\n",
    "    print(\"No exceptions were raised.\")\n"
   ]
  },
  {
   "attachments": {},
   "cell_type": "markdown",
   "metadata": {},
   "source": [
    "5. Write a Python program to handle an error that occurs when you try to divide by zero.\n",
    "\n",
    "Use a finally block to print a message regardless of whether an exception was raised."
   ]
  },
  {
   "cell_type": "code",
   "execution_count": 26,
   "metadata": {},
   "outputs": [
    {
     "name": "stdout",
     "output_type": "stream",
     "text": [
      "You can't divide by zero!\n",
      "This message is printed no matter what.\n"
     ]
    }
   ],
   "source": [
    "try:\n",
    "    result = 10 / 0\n",
    "except ZeroDivisionError:\n",
    "    print(\"You can't divide by zero!\")\n",
    "finally:\n",
    "    print(\"This message is printed no matter what.\")"
   ]
  },
  {
   "attachments": {},
   "cell_type": "markdown",
   "metadata": {},
   "source": [
    "6. Write a Python program to handle an error that occurs when you try to convert a string to an integer. Use a finally block to print a message regardless of whether an exception was raised."
   ]
  },
  {
   "cell_type": "code",
   "execution_count": 27,
   "metadata": {},
   "outputs": [
    {
     "name": "stdout",
     "output_type": "stream",
     "text": [
      "That's not a valid number!\n",
      "This message is printed no matter what.\n"
     ]
    }
   ],
   "source": [
    "try:\n",
    "    num = int('abc')\n",
    "except ValueError:\n",
    "    print(\"That's not a valid number!\")\n",
    "finally:\n",
    "    print(\"This message is printed no matter what.\")"
   ]
  },
  {
   "attachments": {},
   "cell_type": "markdown",
   "metadata": {},
   "source": [
    "### Task 5: Functional Programming"
   ]
  },
  {
   "attachments": {},
   "cell_type": "markdown",
   "metadata": {},
   "source": [
    "1a. Write a lambda function that takes two numbers and returns their sum.\n",
    "\n",
    "```\n",
    "sum = lambda x, y: x + y\n",
    "```\n"
   ]
  },
  {
   "cell_type": "code",
   "execution_count": 30,
   "metadata": {},
   "outputs": [],
   "source": [
    "sum = lambda x, y: x + y"
   ]
  },
  {
   "cell_type": "code",
   "execution_count": 31,
   "metadata": {},
   "outputs": [
    {
     "name": "stdout",
     "output_type": "stream",
     "text": [
      "8\n"
     ]
    }
   ],
   "source": [
    "# Call the lambda function with two numbers\n",
    "result = sum(5, 3)\n",
    "\n",
    "# Print the result\n",
    "print(result)"
   ]
  },
  {
   "attachments": {},
   "cell_type": "markdown",
   "metadata": {},
   "source": [
    "1b. Print the result."
   ]
  },
  {
   "cell_type": "code",
   "execution_count": null,
   "metadata": {},
   "outputs": [],
   "source": []
  },
  {
   "attachments": {},
   "cell_type": "markdown",
   "metadata": {},
   "source": [
    "2a. Write a lambda function that takes a string and returns its length.\n"
   ]
  },
  {
   "cell_type": "code",
   "execution_count": 32,
   "metadata": {},
   "outputs": [],
   "source": [
    "length = lambda s: len(s)"
   ]
  },
  {
   "attachments": {},
   "cell_type": "markdown",
   "metadata": {},
   "source": [
    "2b. Call the lambda function with a string."
   ]
  },
  {
   "cell_type": "code",
   "execution_count": 33,
   "metadata": {},
   "outputs": [],
   "source": [
    "# Call the lambda function with a string\n",
    "result = length('Hello, world!')"
   ]
  },
  {
   "attachments": {},
   "cell_type": "markdown",
   "metadata": {},
   "source": [
    "2c. Print the result."
   ]
  },
  {
   "cell_type": "code",
   "execution_count": 34,
   "metadata": {},
   "outputs": [
    {
     "name": "stdout",
     "output_type": "stream",
     "text": [
      "13\n"
     ]
    }
   ],
   "source": [
    "# Print the result\n",
    "print(result)"
   ]
  },
  {
   "attachments": {},
   "cell_type": "markdown",
   "metadata": {},
   "source": [
    "3a. Use the map function and a lambda function to square all numbers in a list.\n",
    "\n",
    "```\n",
    "numbers = [1, 2, 3, 4, 5]\n",
    "```"
   ]
  },
  {
   "cell_type": "code",
   "execution_count": 35,
   "metadata": {},
   "outputs": [],
   "source": [
    "numbers = [1, 2, 3, 4, 5]\n",
    "squares = map(lambda x: x**2, numbers)"
   ]
  },
  {
   "attachments": {},
   "cell_type": "markdown",
   "metadata": {},
   "source": [
    "3b. Convert the map object to a list and print it."
   ]
  },
  {
   "cell_type": "code",
   "execution_count": 36,
   "metadata": {},
   "outputs": [
    {
     "name": "stdout",
     "output_type": "stream",
     "text": [
      "[1, 4, 9, 16, 25]\n"
     ]
    }
   ],
   "source": [
    "# Convert the map object to a list and print it\n",
    "print(list(squares))"
   ]
  },
  {
   "attachments": {},
   "cell_type": "markdown",
   "metadata": {},
   "source": [
    "4a. Use the filter function and a lambda function to remove all odd numbers from a list.\n",
    "\n",
    "```\n",
    "numbers = [1, 2, 3, 4, 5]\n",
    "```"
   ]
  },
  {
   "cell_type": "code",
   "execution_count": 37,
   "metadata": {},
   "outputs": [],
   "source": [
    "numbers = [1, 2, 3, 4, 5]\n",
    "even_numbers = filter(lambda x: x % 2 == 0, numbers)"
   ]
  },
  {
   "attachments": {},
   "cell_type": "markdown",
   "metadata": {},
   "source": [
    "4b. Convert the filter object to a list and print it."
   ]
  },
  {
   "cell_type": "code",
   "execution_count": 38,
   "metadata": {},
   "outputs": [
    {
     "name": "stdout",
     "output_type": "stream",
     "text": [
      "[2, 4]\n"
     ]
    }
   ],
   "source": [
    "# Convert the filter object to a list and print it\n",
    "print(list(even_numbers))"
   ]
  },
  {
   "attachments": {},
   "cell_type": "markdown",
   "metadata": {},
   "source": [
    "5a. Use the reduce function and a lambda function to find the product of all numbers in a list.\n",
    "\n",
    "```\n",
    "from functools import reduce\n",
    "\n",
    "numbers = [1, 2, 3, 4, 5]\n",
    "```"
   ]
  },
  {
   "cell_type": "code",
   "execution_count": 39,
   "metadata": {},
   "outputs": [],
   "source": [
    "from functools import reduce\n",
    "\n",
    "numbers = [1, 2, 3, 4, 5]\n",
    "product = reduce(lambda x, y: x * y, numbers)"
   ]
  },
  {
   "attachments": {},
   "cell_type": "markdown",
   "metadata": {},
   "source": [
    "5b. Print the product"
   ]
  },
  {
   "cell_type": "code",
   "execution_count": 40,
   "metadata": {},
   "outputs": [
    {
     "name": "stdout",
     "output_type": "stream",
     "text": [
      "120\n"
     ]
    }
   ],
   "source": [
    "# Print the product\n",
    "print(product)"
   ]
  },
  {
   "attachments": {},
   "cell_type": "markdown",
   "metadata": {},
   "source": [
    "6a. Use the map function and a lambda function to convert all strings in a list to uppercase.\n",
    "\n",
    "```\n",
    "strings = ['hello', 'world']\n",
    "```"
   ]
  },
  {
   "cell_type": "code",
   "execution_count": 41,
   "metadata": {},
   "outputs": [],
   "source": [
    "strings = ['hello', 'world']\n",
    "upper_strings = map(lambda s: s.upper(), strings)"
   ]
  },
  {
   "attachments": {},
   "cell_type": "markdown",
   "metadata": {},
   "source": [
    "6b. Convert the map object to a list and print it."
   ]
  },
  {
   "cell_type": "code",
   "execution_count": 42,
   "metadata": {},
   "outputs": [
    {
     "name": "stdout",
     "output_type": "stream",
     "text": [
      "['HELLO', 'WORLD']\n"
     ]
    }
   ],
   "source": [
    "# Convert the map object to a list and print it\n",
    "print(list(upper_strings))"
   ]
  },
  {
   "attachments": {},
   "cell_type": "markdown",
   "metadata": {},
   "source": [
    "7a. Use the filter function and a lambda function to remove all strings from a list that have length less than 5.\n",
    "\n",
    "```\n",
    "['hello', 'hi', 'world', 'cat']\n",
    "```"
   ]
  },
  {
   "cell_type": "code",
   "execution_count": 43,
   "metadata": {},
   "outputs": [],
   "source": [
    "strings = ['hello', 'hi', 'world', 'cat']\n",
    "long_strings = filter(lambda s: len(s) >= 5, strings)"
   ]
  },
  {
   "attachments": {},
   "cell_type": "markdown",
   "metadata": {},
   "source": [
    "7b. Convert the filter object to a list and print it."
   ]
  },
  {
   "cell_type": "code",
   "execution_count": null,
   "metadata": {},
   "outputs": [],
   "source": []
  },
  {
   "attachments": {},
   "cell_type": "markdown",
   "metadata": {},
   "source": [
    "8a. Use the reduce function and a lambda function to concatenate all strings in a list.\n",
    "\n",
    "```\n",
    "from functools import reduce\n",
    "\n",
    "strings = ['hello', ' ', 'world']\n",
    "```"
   ]
  },
  {
   "cell_type": "code",
   "execution_count": 44,
   "metadata": {},
   "outputs": [],
   "source": [
    "from functools import reduce\n",
    "\n",
    "strings = ['hello', ' ', 'world']\n",
    "concatenated = reduce(lambda s1, s2: s1 + s2, strings)\n"
   ]
  },
  {
   "attachments": {},
   "cell_type": "markdown",
   "metadata": {},
   "source": [
    "8b. Print the concatenated string."
   ]
  },
  {
   "cell_type": "code",
   "execution_count": 45,
   "metadata": {},
   "outputs": [
    {
     "name": "stdout",
     "output_type": "stream",
     "text": [
      "hello world\n"
     ]
    }
   ],
   "source": [
    "# Print the concatenated string\n",
    "print(concatenated)"
   ]
  },
  {
   "attachments": {},
   "cell_type": "markdown",
   "metadata": {},
   "source": [
    "9a. Use the map function and a lambda function to calculate the length of all strings in a list.\n",
    "\n",
    "```\n",
    "['hello', 'world']\n",
    "```"
   ]
  },
  {
   "cell_type": "code",
   "execution_count": 46,
   "metadata": {},
   "outputs": [],
   "source": [
    "strings = ['hello', 'world']\n",
    "lengths = map(lambda s: len(s), strings)"
   ]
  },
  {
   "attachments": {},
   "cell_type": "markdown",
   "metadata": {},
   "source": [
    "9b. Convert the map object to a list and print it."
   ]
  },
  {
   "cell_type": "code",
   "execution_count": 47,
   "metadata": {},
   "outputs": [
    {
     "name": "stdout",
     "output_type": "stream",
     "text": [
      "[5, 5]\n"
     ]
    }
   ],
   "source": [
    "# Convert the map object to a list and print it\n",
    "print(list(lengths))"
   ]
  },
  {
   "attachments": {},
   "cell_type": "markdown",
   "metadata": {},
   "source": [
    "10a. Use the filter function and a lambda function to remove all strings from a list that do not start with the letter ‘h’.\n",
    "\n",
    "```\n",
    "['hello', 'hi', 'world', 'cat']\n",
    "```"
   ]
  },
  {
   "cell_type": "code",
   "execution_count": 48,
   "metadata": {},
   "outputs": [],
   "source": [
    "strings = ['hello', 'hi', 'world', 'cat']\n",
    "h_strings = filter(lambda s: s[0] == 'h', strings)"
   ]
  },
  {
   "attachments": {},
   "cell_type": "markdown",
   "metadata": {},
   "source": [
    "10b. Convert the filter object to a list and print it."
   ]
  },
  {
   "cell_type": "code",
   "execution_count": 49,
   "metadata": {},
   "outputs": [
    {
     "name": "stdout",
     "output_type": "stream",
     "text": [
      "['hello', 'hi']\n"
     ]
    }
   ],
   "source": [
    "# Convert the filter object to a list and print it\n",
    "print(list(h_strings))"
   ]
  },
  {
   "attachments": {},
   "cell_type": "markdown",
   "metadata": {},
   "source": [
    "### Task 6: List Comprehension"
   ]
  },
  {
   "attachments": {},
   "cell_type": "markdown",
   "metadata": {},
   "source": [
    "1. Create a list of squares for all numbers from 1 to 5.\n",
    "\n",
    "Print the result."
   ]
  },
  {
   "cell_type": "code",
   "execution_count": 50,
   "metadata": {},
   "outputs": [
    {
     "name": "stdout",
     "output_type": "stream",
     "text": [
      "[1, 4, 9, 16, 25]\n"
     ]
    }
   ],
   "source": [
    "squares = [x**2 for x in range(1, 6)]\n",
    "print(squares)  # prints: [1, 4, 9, 16, 25]"
   ]
  },
  {
   "attachments": {},
   "cell_type": "markdown",
   "metadata": {},
   "source": [
    "2. Create a list of all even numbers from 1 to 10.\n",
    "\n",
    "Print the result.\n",
    "\n",
    "Note: this will contain a conditional(if) using and require some research into the modulus % operator."
   ]
  },
  {
   "cell_type": "code",
   "execution_count": 51,
   "metadata": {},
   "outputs": [
    {
     "name": "stdout",
     "output_type": "stream",
     "text": [
      "[2, 4, 6, 8, 10]\n"
     ]
    }
   ],
   "source": [
    "even_numbers = [x for x in range(1, 11) if x % 2 == 0]\n",
    "print(even_numbers)  # prints: [2, 4, 6, 8, 10]"
   ]
  },
  {
   "attachments": {},
   "cell_type": "markdown",
   "metadata": {},
   "source": [
    "3. Create a list of all uppercase characters in a string.\n",
    "\n",
    "```\n",
    "string = Hello World\n",
    "```\n",
    "\n",
    "Print the result.\n",
    "\n",
    "Note: This will contain a conditional(if) using .isupper() function."
   ]
  },
  {
   "cell_type": "code",
   "execution_count": 52,
   "metadata": {},
   "outputs": [
    {
     "name": "stdout",
     "output_type": "stream",
     "text": [
      "['H', 'W']\n"
     ]
    }
   ],
   "source": [
    "string = 'Hello World'\n",
    "uppercase_chars = [char for char in string if char.isupper()]\n",
    "print(uppercase_chars)  # prints: ['H', 'W']"
   ]
  },
  {
   "attachments": {},
   "cell_type": "markdown",
   "metadata": {},
   "source": [
    "4. Create a list of lengths of all words in a sentence.\n",
    "\n",
    "Print the result.\n",
    "\n",
    "```\n",
    "sentence = Hello world this is a test\n",
    "```\n",
    "\n",
    "Note: Can utilise .split()"
   ]
  },
  {
   "cell_type": "code",
   "execution_count": 53,
   "metadata": {},
   "outputs": [
    {
     "name": "stdout",
     "output_type": "stream",
     "text": [
      "[5, 5, 4, 2, 1, 4]\n"
     ]
    }
   ],
   "source": [
    "sentence = 'Hello world this is a test'\n",
    "word_lengths = [len(word) for word in sentence.split()]\n",
    "print(word_lengths)  # prints: [5, 5, 4, 2, 1, 4]"
   ]
  },
  {
   "attachments": {},
   "cell_type": "markdown",
   "metadata": {},
   "source": [
    "5. Create a list of all numbers from 1 to 10 that are divisible by either 2 or 5.\n",
    "\n",
    "Print the result.\n",
    "\n",
    "Note: can utilise the modulus % operator, and two conditionals 'if' and 'or'."
   ]
  },
  {
   "cell_type": "code",
   "execution_count": 54,
   "metadata": {},
   "outputs": [
    {
     "name": "stdout",
     "output_type": "stream",
     "text": [
      "[2, 4, 5, 6, 8, 10]\n"
     ]
    }
   ],
   "source": [
    "numbers = [x for x in range(1, 11) if x % 2 == 0 or x % 5 == 0]\n",
    "print(numbers)   # prints: [2, 4, 5, 6, 8, 10]"
   ]
  },
  {
   "cell_type": "code",
   "execution_count": null,
   "metadata": {},
   "outputs": [],
   "source": []
  },
  {
   "cell_type": "code",
   "execution_count": null,
   "metadata": {},
   "outputs": [],
   "source": []
  },
  {
   "attachments": {},
   "cell_type": "markdown",
   "metadata": {},
   "source": [
    "# Lecture Slide Code Snippets"
   ]
  },
  {
   "attachments": {},
   "cell_type": "markdown",
   "metadata": {},
   "source": []
  },
  {
   "attachments": {},
   "cell_type": "markdown",
   "metadata": {},
   "source": []
  },
  {
   "cell_type": "code",
   "execution_count": 55,
   "metadata": {},
   "outputs": [],
   "source": [
    "class Cat:\n",
    "    def __init__(self, name, age):\n",
    "        self.name = name\n",
    "        self.age = age\n",
    "    def bark(self):\n",
    "        return \"Miu! Miu!\"\n",
    "    def get_age(self):\n",
    "        return self.age\n",
    "    def set_age(self, new_age):\n",
    "        self.age = new_age\n"
   ]
  },
  {
   "attachments": {},
   "cell_type": "markdown",
   "metadata": {},
   "source": []
  },
  {
   "cell_type": "code",
   "execution_count": 56,
   "metadata": {},
   "outputs": [
    {
     "name": "stdout",
     "output_type": "stream",
     "text": [
      "Coco\n",
      "Miu! Miu!\n",
      "2\n",
      "6\n"
     ]
    }
   ],
   "source": [
    "cat1 = Cat(\"Coco\", 4)\n",
    "print(cat1.name)  # Output: Coco\n",
    "print(cat1.bark())  # Output:Miu! Miu!\n",
    "cat2 = Cat(\"Kiki\", 2)\n",
    "print(cat2.get_age())  # Output: 2\n",
    "cat2.set_age(6)\n",
    "print(cat2.get_age())  # Output: 6"
   ]
  },
  {
   "attachments": {},
   "cell_type": "markdown",
   "metadata": {},
   "source": []
  },
  {
   "cell_type": "code",
   "execution_count": 57,
   "metadata": {},
   "outputs": [],
   "source": [
    "class Motorbike:\n",
    "    def __init__(self, make, model):\n",
    "        self.make = make\n",
    "        self.model = model\n",
    "        self.speed = 0\n",
    "    def accelerate(self, speed_increase):\n",
    "        self.speed += speed_increase\n",
    "    def brake(self, speed_decrease):\n",
    "        self.speed -= speed_decrease\n",
    "    def get_speed(self):\n",
    "        return self.speed"
   ]
  },
  {
   "cell_type": "code",
   "execution_count": 58,
   "metadata": {},
   "outputs": [
    {
     "name": "stdout",
     "output_type": "stream",
     "text": [
      "40\n",
      "30\n"
     ]
    }
   ],
   "source": [
    "my_motorbike = Motorbike(\"FAREAST\", \"DF250RTS\")\n",
    "my_motorbike.accelerate(40)  # Increase speed by 40\n",
    "print(my_motorbike.get_speed())  # Output:40\n",
    "my_motorbike.brake(10)  # Decrease speed by 10\n",
    "print(my_motorbike.get_speed())  # Output: 30"
   ]
  },
  {
   "attachments": {},
   "cell_type": "markdown",
   "metadata": {},
   "source": []
  },
  {
   "cell_type": "code",
   "execution_count": 59,
   "metadata": {},
   "outputs": [],
   "source": [
    "class Motorbike:\n",
    "    def __init__(self, make, model):\n",
    "        self.make = make\n",
    "        self.model = model\n",
    "        self.speed = 0\n",
    "    def accelerate(self, speed_increase):\n",
    "        self.speed += speed_increase\n",
    "    def brake(self, speed_decrease):\n",
    "        self.speed -= speed_decrease\n",
    "\n",
    "    def get_speed(self):\n",
    "        return self.speed\n",
    "# Create an object (instance) of the Motorbike class\n",
    "my_motorbike = Motorbike(\"FAREAST\", \"DF250RTS\")"
   ]
  },
  {
   "attachments": {},
   "cell_type": "markdown",
   "metadata": {},
   "source": []
  },
  {
   "cell_type": "code",
   "execution_count": 60,
   "metadata": {},
   "outputs": [
    {
     "name": "stdout",
     "output_type": "stream",
     "text": [
      "Viola\n",
      "14\n",
      "Anders\n",
      "15\n"
     ]
    }
   ],
   "source": [
    "class Student:\n",
    "    def __init__(self, name, age):\n",
    "        self.name = name\n",
    "        self.age = age\n",
    "# Creating an instance of the Person class\n",
    "# and calling the constructor\n",
    "student1 = Student(\"Viola\", 14)\n",
    "student2 = Student(\"Anders\", 15)\n",
    "# Accessing the attributes of the objects\n",
    "print(student1.name)  # Output: Viola\n",
    "print(student1.age)   # Output: 14\n",
    "print(student2.name)  # Output: Anders\n",
    "print(student2.age)   # Output: 15\n"
   ]
  },
  {
   "cell_type": "code",
   "execution_count": 61,
   "metadata": {},
   "outputs": [
    {
     "name": "stdout",
     "output_type": "stream",
     "text": [
      "Bike 1 is being destroyed.\n",
      "Bike 2 is being destroyed.\n"
     ]
    }
   ],
   "source": [
    "class Motorbike:\n",
    "    def __init__(self, name):\n",
    "        self.name = name\n",
    "    def __del__(self):\n",
    "        print(f\"{self.name} is being destroyed.\")\n",
    "# Creating objects of the class\n",
    "bike1 = Motorbike(\"Bike 1\")\n",
    "bike2 = Motorbike(\"Bike 2\")\n",
    "# Deleting the objects\n",
    "del bike1\n",
    "del bike2"
   ]
  },
  {
   "cell_type": "code",
   "execution_count": 62,
   "metadata": {},
   "outputs": [
    {
     "name": "stdout",
     "output_type": "stream",
     "text": [
      "Class variable value: Ivo Danny\n",
      "Instance variable value: Voirrey Mitch\n",
      "Class variable value: Ivo Danny\n",
      "Instance variable value: Lynsay Izydor\n"
     ]
    }
   ],
   "source": [
    "class Person:\n",
    "    class_var = ''  # This is a class variable\n",
    "\n",
    "    def __init__(self, value):\n",
    "        self.instance_var = value  # This is an instance variable\n",
    "\n",
    "    def display(self):\n",
    "        print(\"Class variable value:\", Person.class_var)\n",
    "        print(\"Instance variable value:\", self.instance_var)\n",
    "# Create two objects of MyClass\n",
    "obj1 = Person('Voirrey Mitch')\n",
    "obj2 = Person('Lynsay Izydor')\n",
    "# Modify class variable using the class name\n",
    "Person.class_var = 'Ivo Danny'\n",
    "# Display instance variables of both objects\n",
    "# Output: Class variable value: Ivo Danny, Instance variable value: Voirrey Mitch\n",
    "obj1.display()\n",
    "# Output: Class variable value: Ivo Danny, Instance variable value: Lynsay Izydor\n",
    "obj2.display()\n"
   ]
  },
  {
   "cell_type": "code",
   "execution_count": null,
   "metadata": {},
   "outputs": [],
   "source": []
  },
  {
   "attachments": {},
   "cell_type": "markdown",
   "metadata": {},
   "source": [
    "class Animal:\n",
    "    def __init__(self, name):\n",
    "        self.name = name\n",
    "\n",
    "    def speak(self):\n",
    "        return \"Unknown sound\"\n",
    "\n",
    "# Lion class inherits from Animal class\n",
    "class Lion(Animal):\n",
    "    def speak(self):\n",
    "        return \"Roar!\"\n",
    "\n",
    "# Tiger class inherits from Animal class\n",
    "class Tiger(Animal):\n",
    "    def speak(self):\n",
    "        return \"Growl!\"\n",
    "\n",
    "# Create instances of subclasses\n",
    "lion_instance = Lion(\"King\")\n",
    "tiger_instance = Tiger(\"Tony\")\n",
    "\n",
    "# Call the speak method of the subclasses\n",
    "print(lion_instance.speak())  # Output: Roar!\n",
    "print(tiger_instance.speak())  # Output: Growl!"
   ]
  },
  {
   "cell_type": "code",
   "execution_count": 63,
   "metadata": {},
   "outputs": [
    {
     "name": "stdout",
     "output_type": "stream",
     "text": [
      "Circle area: 78.5\n",
      "Circle perimeter: 31.400000000000002\n",
      "Rectangle area: 40\n",
      "Rectangle perimeter: 26\n"
     ]
    }
   ],
   "source": [
    "class Shape:\n",
    "    def area(self):\n",
    "        return 0\n",
    "    def perimeter(self):\n",
    "        return 0;\n",
    "\n",
    "class Circle(Shape):\n",
    "    def __init__(self, radius):\n",
    "        self.radius = radius\n",
    "    \n",
    "    def area(self):\n",
    "        return 3.14 * self.radius ** 2\n",
    "    \n",
    "    def perimeter(self):\n",
    "        return 2*3.14*self.radius\n",
    "\n",
    "class Rectangle(Shape):\n",
    "    def __init__(self, width, height):\n",
    "        self.width = width\n",
    "        self.height = height\n",
    "    \n",
    "    def area(self):\n",
    "        return self.width * self.height\n",
    "\n",
    "    def perimeter(self):\n",
    "        return 2*(self.width + self.height)    \n",
    "\n",
    "# Using the overridden methods\n",
    "circle = Circle(5)\n",
    "rectangle = Rectangle(5, 8)\n",
    "\n",
    "# Output: Circle area: 78.5\n",
    "print(\"Circle area:\", circle.area())\n",
    "#Output: Circle perimeter: 31.40\n",
    "print(\"Circle perimeter:\", circle.perimeter())\n",
    "# Output: Rectangle area: 40\n",
    "print(\"Rectangle area:\", rectangle.area())\n",
    "#Output: Rectangle perimeter: 26\n",
    "print(\"Rectangle perimeter:\", rectangle.perimeter())"
   ]
  },
  {
   "cell_type": "code",
   "execution_count": 64,
   "metadata": {},
   "outputs": [
    {
     "name": "stdout",
     "output_type": "stream",
     "text": [
      "Sum of three numbers 6\n"
     ]
    }
   ],
   "source": [
    "class MyClass:    \n",
    "    def sum_nums(self, x, y):\n",
    "        print(\"Sum of two numbers\", x + y)\n",
    "    def sum_nums(self, x, y, z):\n",
    "        print(\"Sum of three numbers\", x + y + z)\n",
    "obj = MyClass()\n",
    "# Output: 6\n",
    "obj.sum_nums(1, 2, 3)"
   ]
  },
  {
   "cell_type": "code",
   "execution_count": 66,
   "metadata": {},
   "outputs": [
    {
     "name": "stdout",
     "output_type": "stream",
     "text": [
      "Sum of three numbers 6\n"
     ]
    }
   ],
   "source": [
    "class MyClass:    \n",
    "    def sum_nums(self, x, y):\n",
    "        print(\"Sum of two numbers\", x + y)    \n",
    "    def sum_nums(self, x, y, z):\n",
    "        print(\"Sum of three numbers\", x + y + z)\n",
    "obj = MyClass()\n",
    "obj.sum_nums(1, 2, 3)"
   ]
  },
  {
   "attachments": {},
   "cell_type": "markdown",
   "metadata": {},
   "source": []
  },
  {
   "cell_type": "code",
   "execution_count": 67,
   "metadata": {},
   "outputs": [
    {
     "name": "stdout",
     "output_type": "stream",
     "text": [
      "Roar!\n",
      "growl!\n"
     ]
    }
   ],
   "source": [
    "class Animal:\n",
    "    def speak(self):\n",
    "        pass\n",
    "\n",
    "class Tiger(Animal):\n",
    "    def speak(self):\n",
    "        return \"Roar!\"\n",
    "class Lion(Animal):\n",
    "    def speak(self):\n",
    "        return \"growl!\"\n",
    "def animal_sound(animal):\n",
    "    return animal.speak()\n",
    "tiger = Tiger()\n",
    "lion = Lion()\n",
    "\n",
    "# Output: Roar!\n",
    "print(animal_sound(tiger))\n",
    "# Output: growl!\n",
    "print(animal_sound(lion))"
   ]
  },
  {
   "cell_type": "code",
   "execution_count": 68,
   "metadata": {},
   "outputs": [
    {
     "name": "stdout",
     "output_type": "stream",
     "text": [
      "7\n",
      "288\n"
     ]
    }
   ],
   "source": [
    "class Myclass:\n",
    "    def product(self, x, y=None):\n",
    "        if y is None:\n",
    "            return x\n",
    "        else:\n",
    "            return x * y\n",
    "\n",
    "math = Myclass()\n",
    "print(math.product(7))       # Output: 7\n",
    "print(math.product(12, 24))  # Output: 288"
   ]
  },
  {
   "attachments": {},
   "cell_type": "markdown",
   "metadata": {},
   "source": []
  },
  {
   "cell_type": "code",
   "execution_count": 69,
   "metadata": {},
   "outputs": [
    {
     "name": "stdout",
     "output_type": "stream",
     "text": [
      "Harley-Davidson Iron 883 engine started\n",
      "Harley-Davidson\n",
      "Iron 883\n"
     ]
    }
   ],
   "source": [
    "class Bike:\n",
    "    def __init__(self, make, model):\n",
    "        self._make = make      # Protected attribute\n",
    "        self.__model = model   # Private attribute\n",
    "    \n",
    "    def start_engine(self):\n",
    "        print(f\"{self._make} {self.__model} engine started\")    \n",
    "    def __drive(self):\n",
    "        print(f\"{self._make} {self.__model} is driving\")\n",
    "# Creating an instance of the Bike class\n",
    "my_bike = Bike(\"Harley-Davidson\", \"Iron 883\")\n",
    "# Accessing public method\n",
    "my_bike.start_engine()\n",
    "# Accessing protected attribute\n",
    "print(my_bike._make)\n",
    "# Accessing private attribute \n",
    "print(my_bike._Bike__model)  \n"
   ]
  },
  {
   "cell_type": "code",
   "execution_count": 70,
   "metadata": {},
   "outputs": [
    {
     "name": "stdout",
     "output_type": "stream",
     "text": [
      "113.09724\n",
      "35\n"
     ]
    }
   ],
   "source": [
    "from abc import ABC, abstractmethod\n",
    "\n",
    "class Shape(ABC):\n",
    "    @abstractmethod\n",
    "    def area(self):\n",
    "        pass\n",
    "\n",
    "class Circle(Shape):\n",
    "    def __init__(self, radius):\n",
    "        self.radius = radius\n",
    "\n",
    "    def area(self):\n",
    "        return 3.14159 * self.radius ** 2\n",
    "\n",
    "class Rectangle(Shape):\n",
    "    def __init__(self, length, width):\n",
    "        self.length = length\n",
    "        self.width = width\n",
    "\n",
    "    def area(self):\n",
    "        return self.length * self.width\n",
    "circle = Circle(6)\n",
    "rectangle = Rectangle(5,7)\n",
    "print(circle.area())  # Output: 113.09724\n",
    "print(rectangle.area())  # Output: 35\n"
   ]
  },
  {
   "attachments": {},
   "cell_type": "markdown",
   "metadata": {},
   "source": [
    "try:\n",
    "   # Code that could raise an exception\n",
    "except ValueError:\n",
    "   # Handle ValueError exception \n",
    "except (TypeError, NameError):\n",
    "   # Handle multiple exception types\n",
    "except:\n",
    "   # Handle any other exceptions\n",
    "finally:\n",
    "   # Execute cleanup code"
   ]
  },
  {
   "cell_type": "code",
   "execution_count": 74,
   "metadata": {},
   "outputs": [
    {
     "name": "stdin",
     "output_type": "stream",
     "text": [
      "Input a number:  0\n"
     ]
    },
    {
     "name": "stdout",
     "output_type": "stream",
     "text": [
      "Cannot divide by zero!\n"
     ]
    }
   ],
   "source": [
    "try:\n",
    "    n = int(input(\"Input a number: \"))\n",
    "    result = 100 / n\n",
    "    print(\"Result:\", result)\n",
    "except ZeroDivisionError:\n",
    "    print(\"Cannot divide by zero!\")\n",
    "except ValueError:\n",
    "    print(\"Invalid input, please input a number.\")"
   ]
  },
  {
   "cell_type": "code",
   "execution_count": 75,
   "metadata": {},
   "outputs": [
    {
     "name": "stdin",
     "output_type": "stream",
     "text": [
      "Input a number:  4\n"
     ]
    }
   ],
   "source": [
    "try:\n",
    "  num = int(input(\"Input a number: \"))\n",
    "except ValueError:\n",
    "  print(\"Not a valid number!\")"
   ]
  },
  {
   "cell_type": "code",
   "execution_count": 76,
   "metadata": {},
   "outputs": [
    {
     "name": "stdin",
     "output_type": "stream",
     "text": [
      "Input a number:  4\n",
      "Input another number:  4\n"
     ]
    },
    {
     "name": "stdout",
     "output_type": "stream",
     "text": [
      "1.0\n"
     ]
    }
   ],
   "source": [
    "try:\n",
    "  x = int(input(\"Input a number: \"))\n",
    "  y = int(input(\"Input another number: \"))\n",
    "  print(x/y)\n",
    "except ValueError:\n",
    "  print(\"Please input only numbers\")\n",
    "except ZeroDivisionError:\n",
    "  print(\"Cannot divide by zero!\")\n",
    "except:\n",
    "  print(\"Unknown error occurred!\")"
   ]
  },
  {
   "cell_type": "code",
   "execution_count": 77,
   "metadata": {},
   "outputs": [
    {
     "name": "stdout",
     "output_type": "stream",
     "text": [
      "File not found.\n"
     ]
    },
    {
     "ename": "NameError",
     "evalue": "name 'file' is not defined",
     "output_type": "error",
     "traceback": [
      "\u001b[1;31m---------------------------------------------------------------------------\u001b[0m",
      "\u001b[1;31mNameError\u001b[0m                                 Traceback (most recent call last)",
      "Cell \u001b[1;32mIn[77], line 8\u001b[0m\n\u001b[0;32m      6\u001b[0m     \u001b[38;5;28mprint\u001b[39m(\u001b[38;5;124m\"\u001b[39m\u001b[38;5;124mFile not found.\u001b[39m\u001b[38;5;124m\"\u001b[39m)\n\u001b[0;32m      7\u001b[0m \u001b[38;5;28;01mfinally\u001b[39;00m:\n\u001b[1;32m----> 8\u001b[0m     \u001b[38;5;28;01mif\u001b[39;00m \u001b[43mfile\u001b[49m:\n\u001b[0;32m      9\u001b[0m         \u001b[38;5;66;03m# Ensure the file is properly closed,\u001b[39;00m\n\u001b[0;32m     10\u001b[0m         \u001b[38;5;66;03m# even if an exception occurs\u001b[39;00m\n\u001b[0;32m     11\u001b[0m         file\u001b[38;5;241m.\u001b[39mclose()\n",
      "\u001b[1;31mNameError\u001b[0m: name 'file' is not defined"
     ]
    }
   ],
   "source": [
    "try:\n",
    "    file = open(\"Untitled.txt\", \"r\")\n",
    "    content = file.read()\n",
    "    print(content)\n",
    "except FileNotFoundError:\n",
    "    print(\"File not found.\")\n",
    "finally:\n",
    "    if file:\n",
    "        # Ensure the file is properly closed,\n",
    "        # even if an exception occurs\n",
    "        file.close()"
   ]
  },
  {
   "attachments": {},
   "cell_type": "markdown",
   "metadata": {},
   "source": []
  },
  {
   "cell_type": "code",
   "execution_count": 78,
   "metadata": {},
   "outputs": [],
   "source": [
    "# lambda arguments: expression\n",
    "\n",
    "result = lambda x, y: x + y"
   ]
  },
  {
   "cell_type": "code",
   "execution_count": 79,
   "metadata": {},
   "outputs": [],
   "source": [
    "def regular_function(x, y):\n",
    "         return x *  y"
   ]
  },
  {
   "attachments": {},
   "cell_type": "markdown",
   "metadata": {},
   "source": []
  },
  {
   "cell_type": "code",
   "execution_count": 80,
   "metadata": {},
   "outputs": [
    {
     "ename": "NameError",
     "evalue": "name 'function' is not defined",
     "output_type": "error",
     "traceback": [
      "\u001b[1;31m---------------------------------------------------------------------------\u001b[0m",
      "\u001b[1;31mNameError\u001b[0m                                 Traceback (most recent call last)",
      "Cell \u001b[1;32mIn[80], line 1\u001b[0m\n\u001b[1;32m----> 1\u001b[0m \u001b[38;5;28mmap\u001b[39m(\u001b[43mfunction\u001b[49m, iterable)\n",
      "\u001b[1;31mNameError\u001b[0m: name 'function' is not defined"
     ]
    }
   ],
   "source": [
    "map(function, iterable)"
   ]
  },
  {
   "cell_type": "code",
   "execution_count": 81,
   "metadata": {},
   "outputs": [
    {
     "name": "stdout",
     "output_type": "stream",
     "text": [
      "[1, 8, 27, 64, 125]\n"
     ]
    }
   ],
   "source": [
    "# Find the cube of each list element.\n",
    "nums = [1, 2, 3, 4, 5]\n",
    "cube_numbers = map(lambda x: x ** 3, nums)\n",
    "\n",
    "# Output: [1, 8, 27, 64, 125]\n",
    "print(list(cube_numbers))"
   ]
  },
  {
   "cell_type": "code",
   "execution_count": 82,
   "metadata": {},
   "outputs": [
    {
     "name": "stdout",
     "output_type": "stream",
     "text": [
      "[1, 8, 27, 64, 125]\n"
     ]
    }
   ],
   "source": [
    "# Define a function to calculate the cube of a number\n",
    "def cube(x):\n",
    "    return x ** 3\n",
    "# Create a list of numbers\n",
    "numbers = [1, 2, 3, 4, 5]\n",
    "# Apply the cube function to each number in the list using map()\n",
    "cube_numbers = map(cube, numbers)\n",
    "# Convert the iterator to a list to see the results\n",
    "result = list(cube_numbers)\n",
    "print(result)  "
   ]
  },
  {
   "attachments": {},
   "cell_type": "markdown",
   "metadata": {},
   "source": [
    "filter(function, iterable)"
   ]
  },
  {
   "cell_type": "code",
   "execution_count": 83,
   "metadata": {},
   "outputs": [
    {
     "name": "stdout",
     "output_type": "stream",
     "text": [
      "[1, 3, 5, 7, 9]\n"
     ]
    }
   ],
   "source": [
    "# Define a function to check if a number is odd\n",
    "def is_odd(x):\n",
    "    return x % 2 != 0\n",
    "# Create a list of numbers\n",
    "numbers = [1, 2, 3, 4, 5, 6, 7, 8, 9, 10]\n",
    "# Use filter() to get only the odd numbers from the list\n",
    "odd_numbers = filter(is_odd, numbers)\n",
    "# Convert the iterator to a list to see the results\n",
    "result = list(odd_numbers)\n",
    "print(result)\n"
   ]
  },
  {
   "cell_type": "code",
   "execution_count": 84,
   "metadata": {},
   "outputs": [
    {
     "name": "stdout",
     "output_type": "stream",
     "text": [
      "[1, 3, 5, 7, 9]\n"
     ]
    }
   ],
   "source": [
    "# Create a list of numbers\n",
    "nums = [1, 2, 3, 4, 5, 6, 7, 8, 9, 10]\n",
    "# Use filter() with a lambda function to get only the odd numbers\n",
    "odd_nums = filter(lambda x: x % 2 != 0, nums)\n",
    "# Convert the iterator to a list to see the results\n",
    "result = list(odd_nums)\n",
    "print(result)\n"
   ]
  },
  {
   "cell_type": "code",
   "execution_count": 85,
   "metadata": {},
   "outputs": [
    {
     "name": "stdout",
     "output_type": "stream",
     "text": [
      "[2, 4]\n"
     ]
    }
   ],
   "source": [
    "nums = [1, 2, 3, 4, 5]\n",
    "evens = filter(lambda x: x % 2 == 0, nums)\n",
    "print(list(evens))  # Output: [2, 4]\n"
   ]
  },
  {
   "cell_type": "code",
   "execution_count": 86,
   "metadata": {},
   "outputs": [
    {
     "name": "stdout",
     "output_type": "stream",
     "text": [
      "['hello', 'world']\n"
     ]
    }
   ],
   "source": [
    "strs = [\"\", \"hello\", \"\", \"world\"]\n",
    "non_empty = filter(lambda x: x != \"\", strs)\n",
    "print(list(non_empty))  # Output: [\"hello\", \"world\"]\n"
   ]
  },
  {
   "attachments": {},
   "cell_type": "markdown",
   "metadata": {},
   "source": [
    "functools.reduce(function, iterable, initial)\n"
   ]
  },
  {
   "cell_type": "code",
   "execution_count": 87,
   "metadata": {},
   "outputs": [
    {
     "name": "stdout",
     "output_type": "stream",
     "text": [
      "120\n"
     ]
    }
   ],
   "source": [
    "from functools import reduce\n",
    "# Define a function to add two numbers\n",
    "def product(x, y):\n",
    "    return x * y\n",
    "# Create a list of numbers\n",
    "nums = [1, 2, 3, 4, 5]\n",
    "# Use reduce() to multiply all the numbers in the list\n",
    "result = reduce(product, nums)\n",
    "\n",
    "# Output: 120\n",
    "print(result) \n"
   ]
  },
  {
   "cell_type": "code",
   "execution_count": 88,
   "metadata": {},
   "outputs": [
    {
     "name": "stdout",
     "output_type": "stream",
     "text": [
      "120\n"
     ]
    }
   ],
   "source": [
    "from functools import reduce\n",
    "# Create a list of numbers\n",
    "nums = [1, 2, 3, 4, 5]\n",
    "# Use reduce() with a lambda function to \n",
    "#find the product of all numbers in the list\n",
    "result = reduce(lambda x, y: x * y, nums)\n",
    "\n",
    "# Output: 120\n",
    "print(result)  \n"
   ]
  },
  {
   "cell_type": "code",
   "execution_count": 89,
   "metadata": {},
   "outputs": [
    {
     "name": "stdout",
     "output_type": "stream",
     "text": [
      "15\n"
     ]
    }
   ],
   "source": [
    "# Reduce Function\n",
    "from functools import reduce\n",
    "nums = [1, 2, 3, 4, 5]\n",
    "result = reduce(lambda x, y: x + y, nums)\n",
    "print(result)  # Output: 15\n"
   ]
  },
  {
   "cell_type": "code",
   "execution_count": 90,
   "metadata": {},
   "outputs": [
    {
     "name": "stdout",
     "output_type": "stream",
     "text": [
      "[2, 4, 6, 8, 10]\n"
     ]
    }
   ],
   "source": [
    "# Map Function\n",
    "nums = [1, 2, 3, 4, 5]\n",
    "result = map(lambda x: x * 2, nums)\n",
    "print(list(result))  # Output: [2, 4, 6, 8, 10]\n"
   ]
  },
  {
   "cell_type": "code",
   "execution_count": 91,
   "metadata": {},
   "outputs": [
    {
     "name": "stdout",
     "output_type": "stream",
     "text": [
      "[2, 4]\n"
     ]
    }
   ],
   "source": [
    "# Filter Function\n",
    "nums = [1, 2, 3, 4, 5]\n",
    "result = filter(lambda x: x % 2 == 0, nums)\n",
    "print(list(result))  # Output: [2, 4]\n"
   ]
  },
  {
   "attachments": {},
   "cell_type": "markdown",
   "metadata": {},
   "source": []
  },
  {
   "cell_type": "code",
   "execution_count": 92,
   "metadata": {},
   "outputs": [
    {
     "name": "stdout",
     "output_type": "stream",
     "text": [
      "Using a traditional loop:\n",
      "[1, 8, 27, 64, 125]\n",
      "\n",
      "Using a list comprehension:\n",
      "[1, 8, 27, 64, 125]\n"
     ]
    }
   ],
   "source": [
    "# Using a traditional loop\n",
    "numbers = [1, 2, 3, 4, 5]\n",
    "cubes = []\n",
    "for num in numbers:\n",
    "    cubes.append(num ** 3)\n",
    "print(\"Using a traditional loop:\")\n",
    "print(cubes)  \n",
    "# Using a list comprehension\n",
    "cubes = [1, 2, 3, 4, 5]\n",
    "cubes = [num ** 3 for num in numbers]\n",
    "print(\"\\nUsing a list comprehension:\")\n",
    "print(cubes)  \n"
   ]
  },
  {
   "attachments": {},
   "cell_type": "markdown",
   "metadata": {},
   "source": [
    "new_list = [expression for item in original_list if condition]\n"
   ]
  },
  {
   "cell_type": "code",
   "execution_count": 93,
   "metadata": {},
   "outputs": [
    {
     "name": "stdout",
     "output_type": "stream",
     "text": [
      "[1, 8, 27, 64, 125]\n"
     ]
    }
   ],
   "source": [
    "# Traditional Loop\n",
    "numbers = [1, 2, 3, 4, 5]\n",
    "cubes = []\n",
    "for num in numbers:\n",
    "    cubes.append(num ** 3)\n",
    "print(cubes)  \n"
   ]
  },
  {
   "cell_type": "code",
   "execution_count": 94,
   "metadata": {},
   "outputs": [
    {
     "ename": "FileNotFoundError",
     "evalue": "[Errno 2] No such file or directory: 'filename.txt'",
     "output_type": "error",
     "traceback": [
      "\u001b[1;31m---------------------------------------------------------------------------\u001b[0m",
      "\u001b[1;31mFileNotFoundError\u001b[0m                         Traceback (most recent call last)",
      "Cell \u001b[1;32mIn[94], line 4\u001b[0m\n\u001b[0;32m      1\u001b[0m \u001b[38;5;66;03m# Open the file 'filename.txt'\u001b[39;00m\n\u001b[0;32m      2\u001b[0m \u001b[38;5;66;03m# in read mode ('r')\u001b[39;00m\n\u001b[0;32m      3\u001b[0m \u001b[38;5;66;03m# assign the file object to the variable 'file'\u001b[39;00m\n\u001b[1;32m----> 4\u001b[0m file \u001b[38;5;241m=\u001b[39m \u001b[38;5;28;43mopen\u001b[39;49m\u001b[43m(\u001b[49m\u001b[38;5;124;43m'\u001b[39;49m\u001b[38;5;124;43mfilename.txt\u001b[39;49m\u001b[38;5;124;43m'\u001b[39;49m\u001b[43m,\u001b[49m\u001b[43m \u001b[49m\u001b[38;5;124;43m'\u001b[39;49m\u001b[38;5;124;43mr\u001b[39;49m\u001b[38;5;124;43m'\u001b[39;49m\u001b[43m)\u001b[49m\n\u001b[0;32m      6\u001b[0m \u001b[38;5;66;03m# Read the entire content of the file \u001b[39;00m\n\u001b[0;32m      7\u001b[0m \u001b[38;5;66;03m# using the read() method \u001b[39;00m\n\u001b[0;32m      8\u001b[0m \u001b[38;5;66;03m# assign it to the variable 'content'\u001b[39;00m\n\u001b[0;32m      9\u001b[0m content \u001b[38;5;241m=\u001b[39m file\u001b[38;5;241m.\u001b[39mread()\n",
      "File \u001b[1;32m~\\AppData\\Roaming\\Python\\Python311\\site-packages\\IPython\\core\\interactiveshell.py:284\u001b[0m, in \u001b[0;36m_modified_open\u001b[1;34m(file, *args, **kwargs)\u001b[0m\n\u001b[0;32m    277\u001b[0m \u001b[38;5;28;01mif\u001b[39;00m file \u001b[38;5;129;01min\u001b[39;00m {\u001b[38;5;241m0\u001b[39m, \u001b[38;5;241m1\u001b[39m, \u001b[38;5;241m2\u001b[39m}:\n\u001b[0;32m    278\u001b[0m     \u001b[38;5;28;01mraise\u001b[39;00m \u001b[38;5;167;01mValueError\u001b[39;00m(\n\u001b[0;32m    279\u001b[0m         \u001b[38;5;124mf\u001b[39m\u001b[38;5;124m\"\u001b[39m\u001b[38;5;124mIPython won\u001b[39m\u001b[38;5;124m'\u001b[39m\u001b[38;5;124mt let you open fd=\u001b[39m\u001b[38;5;132;01m{\u001b[39;00mfile\u001b[38;5;132;01m}\u001b[39;00m\u001b[38;5;124m by default \u001b[39m\u001b[38;5;124m\"\u001b[39m\n\u001b[0;32m    280\u001b[0m         \u001b[38;5;124m\"\u001b[39m\u001b[38;5;124mas it is likely to crash IPython. If you know what you are doing, \u001b[39m\u001b[38;5;124m\"\u001b[39m\n\u001b[0;32m    281\u001b[0m         \u001b[38;5;124m\"\u001b[39m\u001b[38;5;124myou can use builtins\u001b[39m\u001b[38;5;124m'\u001b[39m\u001b[38;5;124m open.\u001b[39m\u001b[38;5;124m\"\u001b[39m\n\u001b[0;32m    282\u001b[0m     )\n\u001b[1;32m--> 284\u001b[0m \u001b[38;5;28;01mreturn\u001b[39;00m \u001b[43mio_open\u001b[49m\u001b[43m(\u001b[49m\u001b[43mfile\u001b[49m\u001b[43m,\u001b[49m\u001b[43m \u001b[49m\u001b[38;5;241;43m*\u001b[39;49m\u001b[43margs\u001b[49m\u001b[43m,\u001b[49m\u001b[43m \u001b[49m\u001b[38;5;241;43m*\u001b[39;49m\u001b[38;5;241;43m*\u001b[39;49m\u001b[43mkwargs\u001b[49m\u001b[43m)\u001b[49m\n",
      "\u001b[1;31mFileNotFoundError\u001b[0m: [Errno 2] No such file or directory: 'filename.txt'"
     ]
    }
   ],
   "source": [
    "# Open the file 'filename.txt'\n",
    "# in read mode ('r')\n",
    "# assign the file object to the variable 'file'\n",
    "file = open('filename.txt', 'r')\n",
    "\n",
    "# Read the entire content of the file \n",
    "# using the read() method \n",
    "# assign it to the variable 'content'\n",
    "content = file.read()\n",
    "\n",
    "# Close the file \n",
    "# using the close() method\n",
    "file.close()\n",
    "\n"
   ]
  },
  {
   "cell_type": "code",
   "execution_count": 95,
   "metadata": {},
   "outputs": [],
   "source": [
    "# Open the file 'filename.txt' \n",
    "# write mode ('w')\n",
    "# assign the file object to the variable 'file'\n",
    "file = open('filename.txt', 'w')\n",
    "\n",
    "# Write the string 'Hello, World!' to file\n",
    "# Using the write() method\n",
    "file.write('Hello, World!')\n",
    "\n",
    "# Close the file\n",
    "# using the close() method\n",
    "file.close()\n"
   ]
  },
  {
   "cell_type": "code",
   "execution_count": 97,
   "metadata": {},
   "outputs": [
    {
     "ename": "FileNotFoundError",
     "evalue": "[Errno 2] No such file or directory: 'filename.csv'",
     "output_type": "error",
     "traceback": [
      "\u001b[1;31m---------------------------------------------------------------------------\u001b[0m",
      "\u001b[1;31mFileNotFoundError\u001b[0m                         Traceback (most recent call last)",
      "Cell \u001b[1;32mIn[97], line 9\u001b[0m\n\u001b[0;32m      4\u001b[0m \u001b[38;5;28;01mimport\u001b[39;00m \u001b[38;5;21;01mcsv\u001b[39;00m\n\u001b[0;32m      6\u001b[0m \u001b[38;5;66;03m# Open the file 'filename.csv'\u001b[39;00m\n\u001b[0;32m      7\u001b[0m \u001b[38;5;66;03m# in read mode ('r')\u001b[39;00m\n\u001b[0;32m      8\u001b[0m \u001b[38;5;66;03m# assign the file object to the variable 'file'\u001b[39;00m\n\u001b[1;32m----> 9\u001b[0m \u001b[38;5;28;01mwith\u001b[39;00m \u001b[38;5;28;43mopen\u001b[39;49m\u001b[43m(\u001b[49m\u001b[38;5;124;43m'\u001b[39;49m\u001b[38;5;124;43mfilename.csv\u001b[39;49m\u001b[38;5;124;43m'\u001b[39;49m\u001b[43m,\u001b[49m\u001b[43m \u001b[49m\u001b[38;5;124;43m'\u001b[39;49m\u001b[38;5;124;43mr\u001b[39;49m\u001b[38;5;124;43m'\u001b[39;49m\u001b[43m)\u001b[49m \u001b[38;5;28;01mas\u001b[39;00m file:\n\u001b[0;32m     10\u001b[0m     \u001b[38;5;66;03m# Create a csv reader object\u001b[39;00m\n\u001b[0;32m     11\u001b[0m     reader \u001b[38;5;241m=\u001b[39m csv\u001b[38;5;241m.\u001b[39mreader(file)\n\u001b[0;32m     13\u001b[0m     \u001b[38;5;66;03m# Iterate over each row in the csv file\u001b[39;00m\n",
      "File \u001b[1;32m~\\AppData\\Roaming\\Python\\Python311\\site-packages\\IPython\\core\\interactiveshell.py:284\u001b[0m, in \u001b[0;36m_modified_open\u001b[1;34m(file, *args, **kwargs)\u001b[0m\n\u001b[0;32m    277\u001b[0m \u001b[38;5;28;01mif\u001b[39;00m file \u001b[38;5;129;01min\u001b[39;00m {\u001b[38;5;241m0\u001b[39m, \u001b[38;5;241m1\u001b[39m, \u001b[38;5;241m2\u001b[39m}:\n\u001b[0;32m    278\u001b[0m     \u001b[38;5;28;01mraise\u001b[39;00m \u001b[38;5;167;01mValueError\u001b[39;00m(\n\u001b[0;32m    279\u001b[0m         \u001b[38;5;124mf\u001b[39m\u001b[38;5;124m\"\u001b[39m\u001b[38;5;124mIPython won\u001b[39m\u001b[38;5;124m'\u001b[39m\u001b[38;5;124mt let you open fd=\u001b[39m\u001b[38;5;132;01m{\u001b[39;00mfile\u001b[38;5;132;01m}\u001b[39;00m\u001b[38;5;124m by default \u001b[39m\u001b[38;5;124m\"\u001b[39m\n\u001b[0;32m    280\u001b[0m         \u001b[38;5;124m\"\u001b[39m\u001b[38;5;124mas it is likely to crash IPython. If you know what you are doing, \u001b[39m\u001b[38;5;124m\"\u001b[39m\n\u001b[0;32m    281\u001b[0m         \u001b[38;5;124m\"\u001b[39m\u001b[38;5;124myou can use builtins\u001b[39m\u001b[38;5;124m'\u001b[39m\u001b[38;5;124m open.\u001b[39m\u001b[38;5;124m\"\u001b[39m\n\u001b[0;32m    282\u001b[0m     )\n\u001b[1;32m--> 284\u001b[0m \u001b[38;5;28;01mreturn\u001b[39;00m \u001b[43mio_open\u001b[49m\u001b[43m(\u001b[49m\u001b[43mfile\u001b[49m\u001b[43m,\u001b[49m\u001b[43m \u001b[49m\u001b[38;5;241;43m*\u001b[39;49m\u001b[43margs\u001b[49m\u001b[43m,\u001b[49m\u001b[43m \u001b[49m\u001b[38;5;241;43m*\u001b[39;49m\u001b[38;5;241;43m*\u001b[39;49m\u001b[43mkwargs\u001b[49m\u001b[43m)\u001b[49m\n",
      "\u001b[1;31mFileNotFoundError\u001b[0m: [Errno 2] No such file or directory: 'filename.csv'"
     ]
    }
   ],
   "source": [
    "# Import the csv module\n",
    "# provides functionality \n",
    "# to both read from and write to CSV files\n",
    "import csv\n",
    "\n",
    "# Open the file 'filename.csv'\n",
    "# in read mode ('r')\n",
    "# assign the file object to the variable 'file'\n",
    "with open('filename.csv', 'r') as file:\n",
    "    # Create a csv reader object\n",
    "    reader = csv.reader(file)\n",
    "    \n",
    "    # Iterate over each row in the csv file\n",
    "    for row in reader:\n",
    "        # Print the current row\n",
    "        print(row)\n"
   ]
  },
  {
   "cell_type": "code",
   "execution_count": 98,
   "metadata": {},
   "outputs": [],
   "source": [
    "import matplotlib.pyplot as plt"
   ]
  }
 ],
 "metadata": {
  "kernelspec": {
   "display_name": "Python 3 (ipykernel)",
   "language": "python",
   "name": "python3"
  },
  "language_info": {
   "codemirror_mode": {
    "name": "ipython",
    "version": 3
   },
   "file_extension": ".py",
   "mimetype": "text/x-python",
   "name": "python",
   "nbconvert_exporter": "python",
   "pygments_lexer": "ipython3",
   "version": "3.11.4"
  }
 },
 "nbformat": 4,
 "nbformat_minor": 4
}
