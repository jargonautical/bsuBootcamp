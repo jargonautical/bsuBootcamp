{
 "cells": [
  {
   "cell_type": "markdown",
   "metadata": {},
   "source": [
    "### Tasks - 05-1 - Data Visualisation Python Matplotlib and Seaborn"
   ]
  },
  {
   "cell_type": "markdown",
   "metadata": {},
   "source": [
    "### Task 1 - Matplotlib"
   ]
  },
  {
   "cell_type": "markdown",
   "metadata": {},
   "source": [
    "##### 1. Line Plot of Time Series Data\n",
    "Create a pandas DataFrame with a DateTime index and several columns of random values.\n",
    "\n",
    "\n",
    "Use matplotlib to create a line plot of this data."
   ]
  },
  {
   "cell_type": "code",
   "execution_count": 1,
   "metadata": {},
   "outputs": [],
   "source": [
    "import pandas as pd\n",
    "import random\n",
    "import datetime\n",
    "\n",
    "date_rng = pd.date_range(start='1/1/2020', end='2/20/2020', freq='D')\n",
    "df_time_series = pd.DataFrame(date_rng, columns=['date'])\n",
    "df_time_series['Temperature'] = [random.uniform(15, 25) for _ in range(len(date_rng))]\n",
    "df_time_series['Humidity'] = [random.uniform(30, 60) for _ in range(len(date_rng))]\n",
    "df_time_series['WindSpeed'] = [random.uniform(5, 20) for _ in range(len(date_rng))]\n",
    "df_time_series['Rainfall'] = [random.uniform(0, 10) for _ in range(len(date_rng))]\n",
    "df_time_series.set_index('date', inplace=True)"
   ]
  },
  {
   "cell_type": "code",
   "execution_count": null,
   "metadata": {},
   "outputs": [],
   "source": []
  },
  {
   "cell_type": "markdown",
   "metadata": {},
   "source": [
    "##### 2. Bar Chart of Categorical Data\n",
    "Create a pandas DataFrame with one column as categorical data and another column as corresponding numerical values.\n",
    "\n",
    "\n",
    "Use matplotlib to create a bar chart to show the frequency of each category."
   ]
  },
  {
   "cell_type": "code",
   "execution_count": 2,
   "metadata": {},
   "outputs": [],
   "source": [
    "colors = ['Red', 'Blue', 'Green', 'Yellow', 'Black']\n",
    "df_categorical = pd.DataFrame({\n",
    "    'Color': [random.choice(colors) for _ in range(50)],\n",
    "    'Sales': [random.randint(50, 200) for _ in range(50)],\n",
    "    'Profit': [random.randint(10, 50) for _ in range(50)],\n",
    "    'Returns': [random.randint(0, 10) for _ in range(50)],\n",
    "    'Discount': [random.randint(0, 20) for _ in range(50)]\n",
    "})"
   ]
  },
  {
   "cell_type": "code",
   "execution_count": null,
   "metadata": {},
   "outputs": [],
   "source": [
    "import matplotlib.pyplot as plt\n",
    "\n"
   ]
  },
  {
   "cell_type": "markdown",
   "metadata": {},
   "source": [
    "##### 3. Histogram of Numerical Data\n",
    "\n",
    "Create a pandas DataFrame with a single column filled with random numbers.\n",
    "\n",
    "\n",
    "Use matplotlib to create a histogram to show the distribution of these numbers."
   ]
  },
  {
   "cell_type": "code",
   "execution_count": 3,
   "metadata": {},
   "outputs": [],
   "source": [
    "df_numerical = pd.DataFrame({\n",
    "    'Age': [random.randint(20, 60) for _ in range(50)],\n",
    "    'Income': [random.randint(30000, 80000) for _ in range(50)],\n",
    "    'Savings': [random.randint(5000, 20000) for _ in range(50)],\n",
    "    'Expenditure': [random.randint(1000, 5000) for _ in range(50)]\n",
    "})"
   ]
  },
  {
   "cell_type": "code",
   "execution_count": null,
   "metadata": {},
   "outputs": [],
   "source": []
  },
  {
   "cell_type": "markdown",
   "metadata": {},
   "source": [
    "##### 4. Scatter Plot for Relationship Between Variables\n",
    "\n",
    "Create a pandas DataFrame with two columns filled with random numbers.\n",
    "\n",
    "\n",
    "Use matplotlib to create a scatter plot to show the relationship between the two variables."
   ]
  },
  {
   "cell_type": "code",
   "execution_count": 4,
   "metadata": {},
   "outputs": [],
   "source": [
    "df_scatter = pd.DataFrame({\n",
    "    'Height (cm)': [random.uniform(150, 200) for _ in range(50)],\n",
    "    'Weight (kg)': [random.uniform(50, 100) for _ in range(50)],\n",
    "    'Age': [random.randint(20, 60) for _ in range(50)],\n",
    "    'BMI': [random.uniform(18, 30) for _ in range(50)]\n",
    "})"
   ]
  },
  {
   "cell_type": "code",
   "execution_count": null,
   "metadata": {},
   "outputs": [],
   "source": []
  },
  {
   "cell_type": "markdown",
   "metadata": {},
   "source": [
    "##### 5. Pie Chart for Proportional Data:\n",
    "\n",
    "Create a pandas DataFrame with one column as different categories and another column as corresponding proportions.\n",
    "\n",
    "\n",
    "Use matplotlib to create a pie chart to show these proportions."
   ]
  },
  {
   "cell_type": "code",
   "execution_count": 5,
   "metadata": {},
   "outputs": [],
   "source": [
    "df_pie = pd.DataFrame({\n",
    "    'Company': ['Apple', 'Samsung', 'Huawei', 'Xiaomi', 'OPPO'],\n",
    "    'Market Share (%)': [random.uniform(10, 30) for _ in range(5)],\n",
    "    'Revenue (Billion $)': [random.uniform(20, 50) for _ in range(5)],\n",
    "    'Profit (Billion $)': [random.uniform(5, 15) for _ in range(5)]\n",
    "})"
   ]
  },
  {
   "cell_type": "code",
   "execution_count": null,
   "metadata": {},
   "outputs": [],
   "source": []
  },
  {
   "cell_type": "markdown",
   "metadata": {},
   "source": [
    "### Task 2 - Seaborn"
   ]
  },
  {
   "cell_type": "markdown",
   "metadata": {},
   "source": [
    "##### 1. Box Plot of a Variable:\n",
    "\n",
    "Load the ‘tips’ dataset from seaborn.\n",
    "\n",
    "\n",
    "Use seaborn to create a box plot of the ‘total_bill’ column."
   ]
  },
  {
   "cell_type": "code",
   "execution_count": 6,
   "metadata": {},
   "outputs": [],
   "source": [
    "import seaborn as sns\n",
    "import matplotlib.pyplot as plt\n"
   ]
  },
  {
   "cell_type": "markdown",
   "metadata": {},
   "source": [
    "##### 1b. Use seaborn to create a box plot of the ‘total_bill’ column, split by ‘day’ of the week."
   ]
  },
  {
   "cell_type": "code",
   "execution_count": null,
   "metadata": {},
   "outputs": [],
   "source": []
  },
  {
   "cell_type": "markdown",
   "metadata": {},
   "source": [
    "##### 2. Violin Plot of Categorical vs Numerical Data:\n",
    "\n",
    "Load the ‘titanic’ dataset from seaborn.\n",
    "\n",
    "\n",
    "Use seaborn to create a violin plot showing the distribution of ‘age’ across different ‘classes’."
   ]
  },
  {
   "cell_type": "code",
   "execution_count": 7,
   "metadata": {},
   "outputs": [],
   "source": [
    "# Load dataset\n",
    "\n",
    "\n",
    "# Create violin plot\n"
   ]
  },
  {
   "cell_type": "markdown",
   "metadata": {},
   "source": [
    "##### 2b. Use seaborn to create a violin plot showing the distribution of ‘age’ across different ‘classes’, split by ‘sex’."
   ]
  },
  {
   "cell_type": "code",
   "execution_count": null,
   "metadata": {},
   "outputs": [],
   "source": []
  },
  {
   "cell_type": "markdown",
   "metadata": {},
   "source": [
    "##### 3. Pair Plot for Multivariate Analysis:\n",
    "\n",
    "Load the ‘penguins’ dataset from seaborn.\n",
    "\n",
    "\n",
    "Use seaborn to create a pair plot of this data."
   ]
  },
  {
   "cell_type": "code",
   "execution_count": 8,
   "metadata": {},
   "outputs": [],
   "source": [
    "# Load dataset\n",
    "\n",
    "\n",
    "# Create pair plot\n"
   ]
  },
  {
   "cell_type": "markdown",
   "metadata": {},
   "source": [
    "##### 3b. Use seaborn to create a pair plot of this data, colored by species."
   ]
  },
  {
   "cell_type": "code",
   "execution_count": null,
   "metadata": {},
   "outputs": [],
   "source": []
  },
  {
   "cell_type": "markdown",
   "metadata": {},
   "source": [
    "##### 4. Bar Plot for Categorical Data:\n",
    "\n",
    "Load the ‘diamonds’ dataset from seaborn.\n",
    "\n",
    "\n",
    "Use seaborn to create a bar plot showing the average price of diamonds across different cuts."
   ]
  },
  {
   "cell_type": "code",
   "execution_count": 9,
   "metadata": {},
   "outputs": [],
   "source": [
    "# Load dataset\n",
    "\n",
    "\n",
    "# Create bar plot\n"
   ]
  },
  {
   "cell_type": "markdown",
   "metadata": {},
   "source": [
    "##### 4b. Use seaborn to create a bar plot showing the average price of diamonds across different cuts, colored by clarity."
   ]
  },
  {
   "cell_type": "code",
   "execution_count": null,
   "metadata": {},
   "outputs": [],
   "source": []
  },
  {
   "cell_type": "markdown",
   "metadata": {},
   "source": [
    "##### 5. Heatmap of Correlation Matrix\n",
    "\n",
    "Load the ‘iris’ dataset from seaborn.\n",
    "\n",
    "\n",
    "Calculate the correlation matrix of the dataset.\n",
    "\n",
    "\n",
    "Use seaborn to create a heatmap of this correlation matrix."
   ]
  },
  {
   "cell_type": "code",
   "execution_count": null,
   "metadata": {},
   "outputs": [],
   "source": [
    "import seaborn as sns\n",
    "import matplotlib.pyplot as plt\n",
    "\n",
    "# Load dataset\n",
    "iris = sns.load_dataset('')\n",
    "\n",
    "# Select only the numerical columns ('sepal_length', 'sepal_width', 'petal_length', 'petal_width')\n",
    "numerical_iris = \n",
    "\n",
    "# Calculate correlation matrix\n",
    "corr = numerical_iris.corr()\n",
    "\n",
    "# Create heatmap with annotations\n",
    "sns.heatmap(, annot=True, cmap='')#\n",
    "\n",
    "plt.show()"
   ]
  },
  {
   "cell_type": "markdown",
   "metadata": {},
   "source": [
    "##### 5b. (OPTIONAL) Research Correlation matrices.\n",
    "\n",
    "```\n",
    "Some Suggestions:\n",
    "\n",
    "Why are the results always between -1.0 to 1.0?\n",
    "\n",
    "What does a value closer to 1 mean?\n",
    "\n",
    "What does a value closer to -1 mean?\n",
    "```"
   ]
  }
 ],
 "metadata": {
  "kernelspec": {
   "display_name": "Python 3",
   "language": "python",
   "name": "python3"
  },
  "language_info": {
   "codemirror_mode": {
    "name": "ipython",
    "version": 3
   },
   "file_extension": ".py",
   "mimetype": "text/x-python",
   "name": "python",
   "nbconvert_exporter": "python",
   "pygments_lexer": "ipython3",
   "version": "3.11.3"
  }
 },
 "nbformat": 4,
 "nbformat_minor": 2
}
