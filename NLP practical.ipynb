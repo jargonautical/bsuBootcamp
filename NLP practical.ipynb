{
 "cells": [
  {
   "cell_type": "markdown",
   "id": "27ba1660-aee0-43d4-9b88-3fe5efdca5c1",
   "metadata": {},
   "source": [
    "# Basic NLP Tasks with NLTK"
   ]
  },
  {
   "cell_type": "markdown",
   "id": "ec008a87-2e7e-4dab-8762-9d2f3e33ceff",
   "metadata": {},
   "source": [
    "## Importing resources"
   ]
  },
  {
   "cell_type": "code",
   "execution_count": 1,
   "id": "cb25fdb2-742a-40b5-8a95-ffcbdcf2575b",
   "metadata": {},
   "outputs": [
    {
     "name": "stdout",
     "output_type": "stream",
     "text": [
      "*** Introductory Examples for the NLTK Book ***\n",
      "Loading text1, ..., text9 and sent1, ..., sent9\n",
      "Type the name of the text or sentence to view it.\n",
      "Type: 'texts()' or 'sents()' to list the materials.\n",
      "text1: Moby Dick by Herman Melville 1851\n",
      "text2: Sense and Sensibility by Jane Austen 1811\n",
      "text3: The Book of Genesis\n",
      "text4: Inaugural Address Corpus\n",
      "text5: Chat Corpus\n",
      "text6: Monty Python and the Holy Grail\n",
      "text7: Wall Street Journal\n",
      "text8: Personals Corpus\n",
      "text9: The Man Who Was Thursday by G . K . Chesterton 1908\n"
     ]
    }
   ],
   "source": [
    "import nltk\n",
    "nltk.download('gutenberg')\n",
    "nltk.download('genesis')\n",
    "nltk.download('inaugural')\n",
    "nltk.download('nps_chat')\n",
    "nltk.download('webtext')\n",
    "nltk.download('treebank')\n",
    "nltk.download('udhr')\n",
    "nltk.download('wordnet')\n",
    "nltk.download('punkt')\n",
    "nltk.download('tagsets')\n",
    "nltk.download('averaged_perceptron_tagger')\n",
    "\n",
    "from nltk.book import *"
   ]
  },
  {
   "cell_type": "markdown",
   "id": "7343471e-ab27-4fe4-bb61-ee0a8c24c755",
   "metadata": {},
   "source": [
    "## Exploring the data"
   ]
  },
  {
   "cell_type": "code",
   "execution_count": 2,
   "id": "b28d2be7-4cf6-4335-9e23-f6cc63fcbcc1",
   "metadata": {},
   "outputs": [
    {
     "data": {
      "text/plain": [
       "<Text: Moby Dick by Herman Melville 1851>"
      ]
     },
     "execution_count": 2,
     "metadata": {},
     "output_type": "execute_result"
    }
   ],
   "source": [
    "# look at a text\n",
    "text1"
   ]
  },
  {
   "cell_type": "code",
   "execution_count": 3,
   "id": "b6ed8abd-1da4-46f0-af2c-a5a7f58afbfd",
   "metadata": {},
   "outputs": [
    {
     "data": {
      "text/plain": [
       "['Call', 'me', 'Ishmael', '.']"
      ]
     },
     "execution_count": 3,
     "metadata": {},
     "output_type": "execute_result"
    }
   ],
   "source": [
    "# view the first sentence of the text\n",
    "sent1"
   ]
  },
  {
   "cell_type": "code",
   "execution_count": 6,
   "id": "76abe36c-16ab-4942-b6e0-053bbebf8874",
   "metadata": {},
   "outputs": [
    {
     "data": {
      "text/plain": [
       "44764"
      ]
     },
     "execution_count": 6,
     "metadata": {},
     "output_type": "execute_result"
    }
   ],
   "source": [
    "# see how long the text is\n",
    "len(text3)"
   ]
  },
  {
   "cell_type": "code",
   "execution_count": 7,
   "id": "f9999a2f-39e3-415b-abdf-866f4fd9a3ba",
   "metadata": {},
   "outputs": [
    {
     "data": {
      "text/plain": [
       "4"
      ]
     },
     "execution_count": 7,
     "metadata": {},
     "output_type": "execute_result"
    }
   ],
   "source": [
    "# or how long a sentence is\n",
    "len(sent1)"
   ]
  },
  {
   "cell_type": "code",
   "execution_count": 8,
   "id": "4f8cdd56-f3e9-4413-8c5e-c54737c1d8cd",
   "metadata": {},
   "outputs": [
    {
     "data": {
      "text/plain": [
       "19317"
      ]
     },
     "execution_count": 8,
     "metadata": {},
     "output_type": "execute_result"
    }
   ],
   "source": [
    "# how many unique words in a text?\n",
    "len(set(text1))"
   ]
  },
  {
   "cell_type": "code",
   "execution_count": 9,
   "id": "6883a497-0ed4-4747-be77-820e2bb67a09",
   "metadata": {},
   "outputs": [
    {
     "data": {
      "text/plain": [
       "['coined',\n",
       " 'modes',\n",
       " 'tat',\n",
       " 'overburdening',\n",
       " 'Chace',\n",
       " 'instant',\n",
       " 'cherubim',\n",
       " 'Twice',\n",
       " 'dinner',\n",
       " 'passports']"
      ]
     },
     "execution_count": 9,
     "metadata": {},
     "output_type": "execute_result"
    }
   ],
   "source": [
    "# what are the first 10 unique words?\n",
    "list(set(text1))[:10]"
   ]
  },
  {
   "cell_type": "code",
   "execution_count": 13,
   "id": "28e27c27-784d-4fa7-a607-2d86de82f78e",
   "metadata": {},
   "outputs": [
    {
     "data": {
      "text/plain": [
       "['!', '!\"', '!\"--', \"!'\", '!\\'\"', '!)', '!)\"', '!*', '!--', '!--\"']"
      ]
     },
     "execution_count": 13,
     "metadata": {},
     "output_type": "execute_result"
    }
   ],
   "source": [
    "# what are the first 10 unique words in alphabetical order?\n",
    "list(sorted(set(text1)))[:10]"
   ]
  },
  {
   "cell_type": "code",
   "execution_count": 14,
   "id": "bac27c0b-a871-476a-8893-3d56d7415219",
   "metadata": {},
   "outputs": [
    {
     "name": "stdout",
     "output_type": "stream",
     "text": [
      "There are  19317 words in the distribution.\n",
      "The first 10 words in the distribution are:\n",
      " ['[', 'Moby', 'Dick', 'by', 'Herman', 'Melville', '1851', ']', 'ETYMOLOGY', '.']\n",
      "The word \"whale\" appears  906 times.\n"
     ]
    }
   ],
   "source": [
    "# frequency of words in a text\n",
    "dist = FreqDist(text1)\n",
    "print('There are ', len(dist), 'words in the distribution.')\n",
    "vocab1 = dist.keys()\n",
    "print('The first 10 words in the distribution are:\\n', list(vocab1)[:10])\n",
    "print('The word \"whale\" appears ', dist['whale'], 'times.')"
   ]
  },
  {
   "cell_type": "code",
   "execution_count": 66,
   "id": "cb87b3c9-e114-4f19-8607-2a66367493a6",
   "metadata": {},
   "outputs": [
    {
     "data": {
      "text/plain": [
       "1661"
      ]
     },
     "execution_count": 66,
     "metadata": {},
     "output_type": "execute_result"
    }
   ],
   "source": [
    "dist['he']"
   ]
  },
  {
   "cell_type": "code",
   "execution_count": 21,
   "id": "18769b63-c651-49f4-ae20-21d694ef981a",
   "metadata": {},
   "outputs": [
    {
     "data": {
      "text/plain": [
       "['immediately',\n",
       " 'harpooneers',\n",
       " 'involuntarily',\n",
       " 'considerable',\n",
       " 'considering',\n",
       " 'unaccountable',\n",
       " 'circumstances',\n",
       " 'nevertheless',\n",
       " 'perpendicular',\n",
       " 'disappeared',\n",
       " 'circumstance',\n",
       " 'experienced',\n",
       " 'Nevertheless',\n",
       " 'exceedingly',\n",
       " 'peculiarities',\n",
       " 'countenance',\n",
       " 'significant',\n",
       " 'Nantucketer',\n",
       " 'indispensable',\n",
       " 'encountered',\n",
       " 'indifferent',\n",
       " 'continually',\n",
       " 'naturalists',\n",
       " 'straightway',\n",
       " 'simultaneously',\n",
       " 'occasionally']"
      ]
     },
     "execution_count": 21,
     "metadata": {},
     "output_type": "execute_result"
    }
   ],
   "source": [
    "# filtering for certain types of words\n",
    "# e.g. more than 5 letters, appears more than 100 times\n",
    "freqwords = [w for w in vocab1 if len(w) > 10 and dist[w] > 10]\n",
    "freqwords"
   ]
  },
  {
   "cell_type": "markdown",
   "id": "23ee1b96-5cd7-4d2c-acb7-2361ccd2cee3",
   "metadata": {},
   "source": [
    "## Working with words"
   ]
  },
  {
   "cell_type": "markdown",
   "id": "894b8e0b-d1b2-4973-b623-a7a082e438d3",
   "metadata": {},
   "source": [
    "### Normalization, stemming and lemmatization"
   ]
  },
  {
   "cell_type": "code",
   "execution_count": 22,
   "id": "03cdcfd3-4f75-4893-bece-4d2bc7f67bd4",
   "metadata": {},
   "outputs": [
    {
     "data": {
      "text/plain": [
       "['list', 'listed', 'lists', 'listing', 'listings']"
      ]
     },
     "execution_count": 22,
     "metadata": {},
     "output_type": "execute_result"
    }
   ],
   "source": [
    "# normalize\n",
    "input1 = \"List listed lists listing listings\"\n",
    "words1 = input1.lower().split(' ')\n",
    "words1"
   ]
  },
  {
   "cell_type": "code",
   "execution_count": 23,
   "id": "74520743-dc40-4208-b2cd-09ba983056f9",
   "metadata": {},
   "outputs": [
    {
     "data": {
      "text/plain": [
       "['list', 'list', 'list', 'list', 'list']"
      ]
     },
     "execution_count": 23,
     "metadata": {},
     "output_type": "execute_result"
    }
   ],
   "source": [
    "# get the stem for each word\n",
    "porter = nltk.PorterStemmer()\n",
    "[porter.stem(t) for t in words1]"
   ]
  },
  {
   "cell_type": "code",
   "execution_count": 24,
   "id": "2e264182-5d64-4c85-8053-88b49c4c48eb",
   "metadata": {},
   "outputs": [
    {
     "data": {
      "text/plain": [
       "['list', 'listed', 'list', 'listing', 'listing']"
      ]
     },
     "execution_count": 24,
     "metadata": {},
     "output_type": "execute_result"
    }
   ],
   "source": [
    "# lemmatize each word\n",
    "WNlemma = nltk.WordNetLemmatizer()\n",
    "[WNlemma.lemmatize(t) for t in words1]"
   ]
  },
  {
   "cell_type": "code",
   "execution_count": null,
   "id": "96d4372f-57cd-426a-a7b4-a217ca77b924",
   "metadata": {},
   "outputs": [],
   "source": [
    "# try with a different set of words"
   ]
  },
  {
   "cell_type": "code",
   "execution_count": 25,
   "id": "994caa84-05e0-464f-af68-7c6cb84cc52c",
   "metadata": {},
   "outputs": [
    {
     "data": {
      "text/plain": [
       "['Universal',\n",
       " 'Declaration',\n",
       " 'of',\n",
       " 'Human',\n",
       " 'Rights',\n",
       " 'Preamble',\n",
       " 'Whereas',\n",
       " 'recognition',\n",
       " 'of',\n",
       " 'the',\n",
       " 'inherent',\n",
       " 'dignity',\n",
       " 'and',\n",
       " 'of',\n",
       " 'the',\n",
       " 'equal',\n",
       " 'and',\n",
       " 'inalienable',\n",
       " 'rights',\n",
       " 'of']"
      ]
     },
     "execution_count": 25,
     "metadata": {},
     "output_type": "execute_result"
    }
   ],
   "source": [
    "udhr = nltk.corpus.udhr.words('English-Latin1')\n",
    "udhr[:20]"
   ]
  },
  {
   "cell_type": "code",
   "execution_count": 26,
   "id": "7df40fe4-7bdb-441c-8e8a-4bba895fc80c",
   "metadata": {},
   "outputs": [
    {
     "name": "stdout",
     "output_type": "stream",
     "text": [
      "['univers', 'declar', 'of', 'human', 'right', 'preambl', 'wherea', 'recognit', 'of', 'the', 'inher', 'digniti', 'and', 'of', 'the', 'equal', 'and', 'inalien', 'right', 'of'] \n",
      " ['Universal', 'Declaration', 'of', 'Human', 'Rights', 'Preamble', 'Whereas', 'recognition', 'of', 'the', 'inherent', 'dignity', 'and', 'of', 'the', 'equal', 'and', 'inalienable', 'right', 'of']\n"
     ]
    }
   ],
   "source": [
    "port = [porter.stem(t) for t in udhr[:20]]\n",
    "WNlemma = nltk.WordNetLemmatizer()\n",
    "lemma = [WNlemma.lemmatize(t) for t in udhr[:20]]\n",
    "print(port, '\\n', lemma)"
   ]
  },
  {
   "cell_type": "markdown",
   "id": "e416b8a6-96c8-43c3-93bf-2c3cb47af376",
   "metadata": {},
   "source": [
    "### Pre-processing"
   ]
  },
  {
   "cell_type": "code",
   "execution_count": 27,
   "id": "4a79cdfa-1b31-4f32-86ff-98a5e158759f",
   "metadata": {},
   "outputs": [
    {
     "data": {
      "text/plain": [
       "['Children', \"shouldn't\", 'drink', 'a', 'sugary', 'drink', 'before', 'bed.']"
      ]
     },
     "execution_count": 27,
     "metadata": {},
     "output_type": "execute_result"
    }
   ],
   "source": [
    "# simple string split \n",
    "text11 = \"Children shouldn't drink a sugary drink before bed.\" # a sample sentence\n",
    "text11.split(' ')"
   ]
  },
  {
   "cell_type": "code",
   "execution_count": 28,
   "id": "2785242a-fcb1-4a9b-a2c6-2c7cface61ff",
   "metadata": {},
   "outputs": [
    {
     "data": {
      "text/plain": [
       "['Children',\n",
       " 'should',\n",
       " \"n't\",\n",
       " 'drink',\n",
       " 'a',\n",
       " 'sugary',\n",
       " 'drink',\n",
       " 'before',\n",
       " 'bed',\n",
       " '.']"
      ]
     },
     "execution_count": 28,
     "metadata": {},
     "output_type": "execute_result"
    }
   ],
   "source": [
    "# using nltk inbuilt 'tokenize' function\n",
    "nltk.word_tokenize(text11)"
   ]
  },
  {
   "cell_type": "code",
   "execution_count": 29,
   "id": "06c5265d-4ab7-4816-8581-6ab222d1f0fa",
   "metadata": {},
   "outputs": [
    {
     "name": "stdout",
     "output_type": "stream",
     "text": [
      "There are 4 sentences.\n",
      "They are:\n",
      " ['This is the first sentence.', 'A gallon of milk in the U.S. costs $2.99.', 'Is this the third sentence?', 'Yes, it is!']\n"
     ]
    }
   ],
   "source": [
    "# extracting sentences using another inbuilt function\n",
    "text12 = \"This is the first sentence. A gallon of milk in the U.S. costs $2.99. Is this the third sentence? Yes, it is!\"\n",
    "sentences = nltk.sent_tokenize(text12)\n",
    "print('There are', len(sentences), 'sentences.')\n",
    "print('They are:\\n', sentences)"
   ]
  },
  {
   "cell_type": "markdown",
   "id": "78924024-3ea3-4173-9dad-5ade9118ec9f",
   "metadata": {},
   "source": [
    "### Recognising and tagging parts of speech"
   ]
  },
  {
   "cell_type": "code",
   "execution_count": 42,
   "id": "c12c3780-1f4d-4b8f-9cd4-cafc82fe8944",
   "metadata": {},
   "outputs": [
    {
     "name": "stdout",
     "output_type": "stream",
     "text": [
      "NN: noun, common, singular or mass\n",
      "    common-carrier cabbage knuckle-duster Casino afghan shed thermostat\n",
      "    investment slide humour falloff slick wind hyena override subhumanity\n",
      "    machinist ...\n",
      "NNP: noun, proper, singular\n",
      "    Motown Venneboerger Czestochwa Ranzer Conchita Trumplane Christos\n",
      "    Oceanside Escobar Kreisler Sawyer Cougar Yvette Ervin ODI Darryl CTCA\n",
      "    Shannon A.K.C. Meltex Liverpool ...\n",
      "NNPS: noun, proper, plural\n",
      "    Americans Americas Amharas Amityvilles Amusements Anarcho-Syndicalists\n",
      "    Andalusians Andes Andruses Angels Animals Anthony Antilles Antiques\n",
      "    Apache Apaches Apocrypha ...\n",
      "NNS: noun, common, plural\n",
      "    undergraduates scotches bric-a-brac products bodyguards facets coasts\n",
      "    divestitures storehouses designs clubs fragrances averages\n",
      "    subjectivists apprehensions muses factory-jobs ...\n"
     ]
    }
   ],
   "source": [
    "nltk.help.upenn_tagset('N') # what does this do?"
   ]
  },
  {
   "cell_type": "code",
   "execution_count": 35,
   "id": "4f3154ee-0360-4408-b1a7-0ed046d196c4",
   "metadata": {},
   "outputs": [
    {
     "data": {
      "text/plain": [
       "[('Lucy', 'NNP'),\n",
       " ('loves', 'VBZ'),\n",
       " ('Power', 'NNP'),\n",
       " ('BI', 'NNP'),\n",
       " ('except', 'IN'),\n",
       " ('when', 'WRB'),\n",
       " ('she', 'PRP'),\n",
       " ('does', 'VBZ'),\n",
       " (\"n't\", 'RB')]"
      ]
     },
     "execution_count": 35,
     "metadata": {},
     "output_type": "execute_result"
    }
   ],
   "source": [
    "text14 = nltk.word_tokenize(\"Lucy loves Power BI except when she doesn't\")\n",
    "nltk.pos_tag(text14)"
   ]
  },
  {
   "cell_type": "code",
   "execution_count": 38,
   "id": "19ade275-9da7-42ec-914d-685ac7282443",
   "metadata": {},
   "outputs": [
    {
     "name": "stdout",
     "output_type": "stream",
     "text": [
      "(S (NP Alice) (VP (V loves) (NP Bob)))\n"
     ]
    }
   ],
   "source": [
    "# Parsing sentence structure\n",
    "text15 = nltk.word_tokenize(\"Alice loves Bob\")\n",
    "grammar = nltk.CFG.fromstring(\"\"\"\n",
    "S -> NP VP\n",
    "VP -> V NP\n",
    "NP -> 'Alice' | 'Bob'\n",
    "V -> 'loves'\n",
    "\"\"\")\n",
    "\n",
    "parser = nltk.ChartParser(grammar)\n",
    "trees = parser.parse_all(text15)\n",
    "for tree in trees:\n",
    "    print(tree)"
   ]
  },
  {
   "cell_type": "markdown",
   "id": "37afbfc4-45b4-4b00-9e6b-53c0b6d2437d",
   "metadata": {},
   "source": [
    "### POS tagging and parsing ambiguity"
   ]
  },
  {
   "cell_type": "code",
   "execution_count": 39,
   "id": "c01782ac-3ffe-48ec-80c2-9243e35d8386",
   "metadata": {},
   "outputs": [
    {
     "data": {
      "text/plain": [
       "[('The', 'DT'), ('old', 'JJ'), ('man', 'NN'), ('the', 'DT'), ('boat', 'NN')]"
      ]
     },
     "execution_count": 39,
     "metadata": {},
     "output_type": "execute_result"
    }
   ],
   "source": [
    "text18 = nltk.word_tokenize(\"The old man the boat\")\n",
    "nltk.pos_tag(text18)"
   ]
  },
  {
   "cell_type": "code",
   "execution_count": 40,
   "id": "4f62831a-8d85-4619-9f6c-cfe8ebd7238a",
   "metadata": {},
   "outputs": [
    {
     "data": {
      "text/plain": [
       "[('Colorless', 'NNP'),\n",
       " ('green', 'JJ'),\n",
       " ('ideas', 'NNS'),\n",
       " ('sleep', 'VBP'),\n",
       " ('furiously', 'RB')]"
      ]
     },
     "execution_count": 40,
     "metadata": {},
     "output_type": "execute_result"
    }
   ],
   "source": [
    "text19 = nltk.word_tokenize(\"Colorless green ideas sleep furiously\")\n",
    "nltk.pos_tag(text19)"
   ]
  },
  {
   "cell_type": "markdown",
   "id": "3966b45c-20ee-489b-a279-75850071d56c",
   "metadata": {},
   "source": [
    "## Putting the tools to work"
   ]
  },
  {
   "cell_type": "markdown",
   "id": "fa3f0ffc-7e4a-43c3-8366-acc3117a0cb3",
   "metadata": {},
   "source": [
    "### Sentiment analysis"
   ]
  },
  {
   "cell_type": "code",
   "execution_count": 43,
   "id": "d324b6f5-fdc0-466f-b860-6cc35e4ffb51",
   "metadata": {},
   "outputs": [
    {
     "data": {
      "text/html": [
       "<div>\n",
       "<style scoped>\n",
       "    .dataframe tbody tr th:only-of-type {\n",
       "        vertical-align: middle;\n",
       "    }\n",
       "\n",
       "    .dataframe tbody tr th {\n",
       "        vertical-align: top;\n",
       "    }\n",
       "\n",
       "    .dataframe thead th {\n",
       "        text-align: right;\n",
       "    }\n",
       "</style>\n",
       "<table border=\"1\" class=\"dataframe\">\n",
       "  <thead>\n",
       "    <tr style=\"text-align: right;\">\n",
       "      <th></th>\n",
       "      <th>Product Name</th>\n",
       "      <th>Brand Name</th>\n",
       "      <th>Price</th>\n",
       "      <th>Rating</th>\n",
       "      <th>Reviews</th>\n",
       "      <th>Review Votes</th>\n",
       "    </tr>\n",
       "  </thead>\n",
       "  <tbody>\n",
       "    <tr>\n",
       "      <th>42417</th>\n",
       "      <td>Apple iPhone 5s 32GB (Gold) - AT&amp;T</td>\n",
       "      <td>Apple</td>\n",
       "      <td>54.34</td>\n",
       "      <td>5</td>\n",
       "      <td>I brought the phone for my son and he loves it...</td>\n",
       "      <td>0.0</td>\n",
       "    </tr>\n",
       "    <tr>\n",
       "      <th>36001</th>\n",
       "      <td>Apple iPhone 5c 8GB Unlocked GSM Smartphone - ...</td>\n",
       "      <td>Apple</td>\n",
       "      <td>115.00</td>\n",
       "      <td>5</td>\n",
       "      <td>Yay, it works!</td>\n",
       "      <td>0.0</td>\n",
       "    </tr>\n",
       "    <tr>\n",
       "      <th>50220</th>\n",
       "      <td>Apple iPhone 5s Unlocked Cellphone, 64 GB, Gold</td>\n",
       "      <td>Apple</td>\n",
       "      <td>409.95</td>\n",
       "      <td>1</td>\n",
       "      <td>I bought a used iphone 5s from the seller mobi...</td>\n",
       "      <td>1.0</td>\n",
       "    </tr>\n",
       "    <tr>\n",
       "      <th>43607</th>\n",
       "      <td>Apple iPhone 5s 32GB (Gold) - T-Mobile</td>\n",
       "      <td>Apple</td>\n",
       "      <td>210.00</td>\n",
       "      <td>4</td>\n",
       "      <td>I gave it 4 star... it was a excellent</td>\n",
       "      <td>0.0</td>\n",
       "    </tr>\n",
       "    <tr>\n",
       "      <th>62427</th>\n",
       "      <td>Apple iPhone 6, Gold, 128 GB (Verizon)</td>\n",
       "      <td>Apple</td>\n",
       "      <td>119.99</td>\n",
       "      <td>5</td>\n",
       "      <td>EXCELLENT PRODUCT...WITHOUT ANY MARKS OF USAGE</td>\n",
       "      <td>NaN</td>\n",
       "    </tr>\n",
       "  </tbody>\n",
       "</table>\n",
       "</div>"
      ],
      "text/plain": [
       "                                            Product Name Brand Name   Price  \\\n",
       "42417                 Apple iPhone 5s 32GB (Gold) - AT&T      Apple   54.34   \n",
       "36001  Apple iPhone 5c 8GB Unlocked GSM Smartphone - ...      Apple  115.00   \n",
       "50220    Apple iPhone 5s Unlocked Cellphone, 64 GB, Gold      Apple  409.95   \n",
       "43607             Apple iPhone 5s 32GB (Gold) - T-Mobile      Apple  210.00   \n",
       "62427             Apple iPhone 6, Gold, 128 GB (Verizon)      Apple  119.99   \n",
       "\n",
       "       Rating                                            Reviews  Review Votes  \n",
       "42417       5  I brought the phone for my son and he loves it...           0.0  \n",
       "36001       5                                     Yay, it works!           0.0  \n",
       "50220       1  I bought a used iphone 5s from the seller mobi...           1.0  \n",
       "43607       4             I gave it 4 star... it was a excellent           0.0  \n",
       "62427       5     EXCELLENT PRODUCT...WITHOUT ANY MARKS OF USAGE           NaN  "
      ]
     },
     "execution_count": 43,
     "metadata": {},
     "output_type": "execute_result"
    }
   ],
   "source": [
    "import pandas as pd\n",
    "import numpy as np\n",
    "\n",
    "# Read in the data\n",
    "df = pd.read_csv('Amazon_Unlocked_Mobile.csv')\n",
    "\n",
    "# Sample the data to speed up computation (optional)\n",
    "df = df.sample(frac=0.1, random_state=10)\n",
    "\n",
    "df.head()"
   ]
  },
  {
   "cell_type": "code",
   "execution_count": 44,
   "id": "c6bda9ba-f6ca-42e1-8382-6de76cf93c45",
   "metadata": {},
   "outputs": [
    {
     "data": {
      "text/html": [
       "<div>\n",
       "<style scoped>\n",
       "    .dataframe tbody tr th:only-of-type {\n",
       "        vertical-align: middle;\n",
       "    }\n",
       "\n",
       "    .dataframe tbody tr th {\n",
       "        vertical-align: top;\n",
       "    }\n",
       "\n",
       "    .dataframe thead th {\n",
       "        text-align: right;\n",
       "    }\n",
       "</style>\n",
       "<table border=\"1\" class=\"dataframe\">\n",
       "  <thead>\n",
       "    <tr style=\"text-align: right;\">\n",
       "      <th></th>\n",
       "      <th>Product Name</th>\n",
       "      <th>Brand Name</th>\n",
       "      <th>Price</th>\n",
       "      <th>Rating</th>\n",
       "      <th>Reviews</th>\n",
       "      <th>Review Votes</th>\n",
       "      <th>Positively Rated</th>\n",
       "    </tr>\n",
       "  </thead>\n",
       "  <tbody>\n",
       "    <tr>\n",
       "      <th>42417</th>\n",
       "      <td>Apple iPhone 5s 32GB (Gold) - AT&amp;T</td>\n",
       "      <td>Apple</td>\n",
       "      <td>54.34</td>\n",
       "      <td>5</td>\n",
       "      <td>I brought the phone for my son and he loves it...</td>\n",
       "      <td>0.0</td>\n",
       "      <td>1</td>\n",
       "    </tr>\n",
       "    <tr>\n",
       "      <th>36001</th>\n",
       "      <td>Apple iPhone 5c 8GB Unlocked GSM Smartphone - ...</td>\n",
       "      <td>Apple</td>\n",
       "      <td>115.00</td>\n",
       "      <td>5</td>\n",
       "      <td>Yay, it works!</td>\n",
       "      <td>0.0</td>\n",
       "      <td>1</td>\n",
       "    </tr>\n",
       "    <tr>\n",
       "      <th>50220</th>\n",
       "      <td>Apple iPhone 5s Unlocked Cellphone, 64 GB, Gold</td>\n",
       "      <td>Apple</td>\n",
       "      <td>409.95</td>\n",
       "      <td>1</td>\n",
       "      <td>I bought a used iphone 5s from the seller mobi...</td>\n",
       "      <td>1.0</td>\n",
       "      <td>0</td>\n",
       "    </tr>\n",
       "    <tr>\n",
       "      <th>43607</th>\n",
       "      <td>Apple iPhone 5s 32GB (Gold) - T-Mobile</td>\n",
       "      <td>Apple</td>\n",
       "      <td>210.00</td>\n",
       "      <td>4</td>\n",
       "      <td>I gave it 4 star... it was a excellent</td>\n",
       "      <td>0.0</td>\n",
       "      <td>1</td>\n",
       "    </tr>\n",
       "    <tr>\n",
       "      <th>35948</th>\n",
       "      <td>Apple iPhone 5c 8GB Unlocked GSM Smartphone - ...</td>\n",
       "      <td>Apple</td>\n",
       "      <td>115.00</td>\n",
       "      <td>1</td>\n",
       "      <td>Did not function properly. Kinda wish my $80 b...</td>\n",
       "      <td>0.0</td>\n",
       "      <td>0</td>\n",
       "    </tr>\n",
       "  </tbody>\n",
       "</table>\n",
       "</div>"
      ],
      "text/plain": [
       "                                            Product Name Brand Name   Price  \\\n",
       "42417                 Apple iPhone 5s 32GB (Gold) - AT&T      Apple   54.34   \n",
       "36001  Apple iPhone 5c 8GB Unlocked GSM Smartphone - ...      Apple  115.00   \n",
       "50220    Apple iPhone 5s Unlocked Cellphone, 64 GB, Gold      Apple  409.95   \n",
       "43607             Apple iPhone 5s 32GB (Gold) - T-Mobile      Apple  210.00   \n",
       "35948  Apple iPhone 5c 8GB Unlocked GSM Smartphone - ...      Apple  115.00   \n",
       "\n",
       "       Rating                                            Reviews  \\\n",
       "42417       5  I brought the phone for my son and he loves it...   \n",
       "36001       5                                     Yay, it works!   \n",
       "50220       1  I bought a used iphone 5s from the seller mobi...   \n",
       "43607       4             I gave it 4 star... it was a excellent   \n",
       "35948       1  Did not function properly. Kinda wish my $80 b...   \n",
       "\n",
       "       Review Votes  Positively Rated  \n",
       "42417           0.0                 1  \n",
       "36001           0.0                 1  \n",
       "50220           1.0                 0  \n",
       "43607           0.0                 1  \n",
       "35948           0.0                 0  "
      ]
     },
     "execution_count": 44,
     "metadata": {},
     "output_type": "execute_result"
    }
   ],
   "source": [
    "# Drop missing values\n",
    "df.dropna(inplace=True)\n",
    "\n",
    "# Remove any 'neutral' ratings equal to 3 (why do we do this?)\n",
    "df = df[df['Rating'] != 3]\n",
    "\n",
    "# Encode 4s and 5s as 1 (rated positively)\n",
    "# Encode 1s and 2s as 0 (rated poorly)\n",
    "df['Positively Rated'] = np.where(df['Rating'] > 3, 1, 0)\n",
    "df.head()"
   ]
  },
  {
   "cell_type": "code",
   "execution_count": 46,
   "id": "0e4f7661-7724-4cba-9d6c-c02193ceaa4f",
   "metadata": {},
   "outputs": [
    {
     "data": {
      "text/plain": [
       "1.0"
      ]
     },
     "execution_count": 46,
     "metadata": {},
     "output_type": "execute_result"
    }
   ],
   "source": [
    "# Explore the data\n",
    "# Are there more positive or more negative ratings in our sample?\n",
    "df['Positively Rated'].median()"
   ]
  },
  {
   "cell_type": "markdown",
   "id": "05cd2383-3cab-4238-bccf-74e8f3515ae6",
   "metadata": {},
   "source": [
    "### Train / Test split"
   ]
  },
  {
   "cell_type": "code",
   "execution_count": 47,
   "id": "9b0560ff-a2b6-4e13-9f65-48b51456d76e",
   "metadata": {},
   "outputs": [],
   "source": [
    "from sklearn.model_selection import train_test_split\n",
    "\n",
    "# Split data into training and test sets\n",
    "X_train, X_test, y_train, y_test = train_test_split(df['Reviews'], \n",
    "                                                    df['Positively Rated'], \n",
    "                                                    random_state=0)"
   ]
  },
  {
   "cell_type": "code",
   "execution_count": 48,
   "id": "a951dfea-9a2c-4fb6-8318-7726ebf8d929",
   "metadata": {},
   "outputs": [
    {
     "name": "stdout",
     "output_type": "stream",
     "text": [
      "X_train first entry:\n",
      "\n",
      " Worst phone I have ever bought haven't had it more then a month or two and it freezes, resets to factory on its own, glitches to black screens, and tries to load pages I haven't even asked it to load, it charges so slow and the battery life sucks horribly, it launches a Justin beiber song randomly that hangs up your phone calls, and won't stay locked, snaps countless pictures and videos randomly in your pocket even while having a password lock on it, I absolutely hate this phone and regret buying two of them, the one I bought my girlfriend didn't work from the moment I bought it, DO NOT BUY THIS PHONE!!!\n",
      "\n",
      "\n",
      "X_train shape:  (4522,)\n"
     ]
    }
   ],
   "source": [
    "# quick check to see what it looks like\n",
    "print('X_train first entry:\\n\\n', X_train.iloc[0])\n",
    "print('\\n\\nX_train shape: ', X_train.shape)"
   ]
  },
  {
   "cell_type": "markdown",
   "id": "7c8cdef7-79da-49da-8dea-619ca2653c2c",
   "metadata": {},
   "source": [
    "### Reshape the data as the model requires it - VECTORIZATION"
   ]
  },
  {
   "cell_type": "code",
   "execution_count": 49,
   "id": "8b93cac1-6445-4144-a726-8f243b570be1",
   "metadata": {},
   "outputs": [],
   "source": [
    "from sklearn.feature_extraction.text import CountVectorizer\n",
    "# Fit the CountVectorizer to the training data\n",
    "vect = CountVectorizer().fit(X_train)"
   ]
  },
  {
   "cell_type": "code",
   "execution_count": 50,
   "id": "85ca7ece-4302-47b4-bfeb-e688f86a68b8",
   "metadata": {},
   "outputs": [
    {
     "data": {
      "text/plain": [
       "array(['00', 'error', 'perfected', 'went'], dtype=object)"
      ]
     },
     "execution_count": 50,
     "metadata": {},
     "output_type": "execute_result"
    }
   ],
   "source": [
    "vect.get_feature_names_out()[::2000]"
   ]
  },
  {
   "cell_type": "code",
   "execution_count": 51,
   "id": "afb02b86-37e5-4c87-b14b-4dcf5728b8e7",
   "metadata": {},
   "outputs": [
    {
     "data": {
      "text/plain": [
       "6185"
      ]
     },
     "execution_count": 51,
     "metadata": {},
     "output_type": "execute_result"
    }
   ],
   "source": [
    "len(vect.get_feature_names_out())"
   ]
  },
  {
   "cell_type": "markdown",
   "id": "3e19a17b-4625-4737-a50c-95a638d98550",
   "metadata": {},
   "source": [
    "### Transform the training data and train the model"
   ]
  },
  {
   "cell_type": "code",
   "execution_count": 52,
   "id": "19268731-2b62-4c8f-acc0-65a4f1aa5458",
   "metadata": {},
   "outputs": [
    {
     "data": {
      "text/plain": [
       "<4522x6185 sparse matrix of type '<class 'numpy.int64'>'\n",
       "\twith 92917 stored elements in Compressed Sparse Row format>"
      ]
     },
     "execution_count": 52,
     "metadata": {},
     "output_type": "execute_result"
    }
   ],
   "source": [
    "# transform the documents in the training data to a document-term matrix\n",
    "X_train_vectorized = vect.transform(X_train)\n",
    "X_train_vectorized"
   ]
  },
  {
   "cell_type": "code",
   "execution_count": 53,
   "id": "9146f359-3569-42d7-accc-847e17e6bdf4",
   "metadata": {},
   "outputs": [
    {
     "data": {
      "text/html": [
       "<style>#sk-container-id-1 {color: black;background-color: white;}#sk-container-id-1 pre{padding: 0;}#sk-container-id-1 div.sk-toggleable {background-color: white;}#sk-container-id-1 label.sk-toggleable__label {cursor: pointer;display: block;width: 100%;margin-bottom: 0;padding: 0.3em;box-sizing: border-box;text-align: center;}#sk-container-id-1 label.sk-toggleable__label-arrow:before {content: \"▸\";float: left;margin-right: 0.25em;color: #696969;}#sk-container-id-1 label.sk-toggleable__label-arrow:hover:before {color: black;}#sk-container-id-1 div.sk-estimator:hover label.sk-toggleable__label-arrow:before {color: black;}#sk-container-id-1 div.sk-toggleable__content {max-height: 0;max-width: 0;overflow: hidden;text-align: left;background-color: #f0f8ff;}#sk-container-id-1 div.sk-toggleable__content pre {margin: 0.2em;color: black;border-radius: 0.25em;background-color: #f0f8ff;}#sk-container-id-1 input.sk-toggleable__control:checked~div.sk-toggleable__content {max-height: 200px;max-width: 100%;overflow: auto;}#sk-container-id-1 input.sk-toggleable__control:checked~label.sk-toggleable__label-arrow:before {content: \"▾\";}#sk-container-id-1 div.sk-estimator input.sk-toggleable__control:checked~label.sk-toggleable__label {background-color: #d4ebff;}#sk-container-id-1 div.sk-label input.sk-toggleable__control:checked~label.sk-toggleable__label {background-color: #d4ebff;}#sk-container-id-1 input.sk-hidden--visually {border: 0;clip: rect(1px 1px 1px 1px);clip: rect(1px, 1px, 1px, 1px);height: 1px;margin: -1px;overflow: hidden;padding: 0;position: absolute;width: 1px;}#sk-container-id-1 div.sk-estimator {font-family: monospace;background-color: #f0f8ff;border: 1px dotted black;border-radius: 0.25em;box-sizing: border-box;margin-bottom: 0.5em;}#sk-container-id-1 div.sk-estimator:hover {background-color: #d4ebff;}#sk-container-id-1 div.sk-parallel-item::after {content: \"\";width: 100%;border-bottom: 1px solid gray;flex-grow: 1;}#sk-container-id-1 div.sk-label:hover label.sk-toggleable__label {background-color: #d4ebff;}#sk-container-id-1 div.sk-serial::before {content: \"\";position: absolute;border-left: 1px solid gray;box-sizing: border-box;top: 0;bottom: 0;left: 50%;z-index: 0;}#sk-container-id-1 div.sk-serial {display: flex;flex-direction: column;align-items: center;background-color: white;padding-right: 0.2em;padding-left: 0.2em;position: relative;}#sk-container-id-1 div.sk-item {position: relative;z-index: 1;}#sk-container-id-1 div.sk-parallel {display: flex;align-items: stretch;justify-content: center;background-color: white;position: relative;}#sk-container-id-1 div.sk-item::before, #sk-container-id-1 div.sk-parallel-item::before {content: \"\";position: absolute;border-left: 1px solid gray;box-sizing: border-box;top: 0;bottom: 0;left: 50%;z-index: -1;}#sk-container-id-1 div.sk-parallel-item {display: flex;flex-direction: column;z-index: 1;position: relative;background-color: white;}#sk-container-id-1 div.sk-parallel-item:first-child::after {align-self: flex-end;width: 50%;}#sk-container-id-1 div.sk-parallel-item:last-child::after {align-self: flex-start;width: 50%;}#sk-container-id-1 div.sk-parallel-item:only-child::after {width: 0;}#sk-container-id-1 div.sk-dashed-wrapped {border: 1px dashed gray;margin: 0 0.4em 0.5em 0.4em;box-sizing: border-box;padding-bottom: 0.4em;background-color: white;}#sk-container-id-1 div.sk-label label {font-family: monospace;font-weight: bold;display: inline-block;line-height: 1.2em;}#sk-container-id-1 div.sk-label-container {text-align: center;}#sk-container-id-1 div.sk-container {/* jupyter's `normalize.less` sets `[hidden] { display: none; }` but bootstrap.min.css set `[hidden] { display: none !important; }` so we also need the `!important` here to be able to override the default hidden behavior on the sphinx rendered scikit-learn.org. See: https://github.com/scikit-learn/scikit-learn/issues/21755 */display: inline-block !important;position: relative;}#sk-container-id-1 div.sk-text-repr-fallback {display: none;}</style><div id=\"sk-container-id-1\" class=\"sk-top-container\"><div class=\"sk-text-repr-fallback\"><pre>LogisticRegression(max_iter=1000)</pre><b>In a Jupyter environment, please rerun this cell to show the HTML representation or trust the notebook. <br />On GitHub, the HTML representation is unable to render, please try loading this page with nbviewer.org.</b></div><div class=\"sk-container\" hidden><div class=\"sk-item\"><div class=\"sk-estimator sk-toggleable\"><input class=\"sk-toggleable__control sk-hidden--visually\" id=\"sk-estimator-id-1\" type=\"checkbox\" checked><label for=\"sk-estimator-id-1\" class=\"sk-toggleable__label sk-toggleable__label-arrow\">LogisticRegression</label><div class=\"sk-toggleable__content\"><pre>LogisticRegression(max_iter=1000)</pre></div></div></div></div></div>"
      ],
      "text/plain": [
       "LogisticRegression(max_iter=1000)"
      ]
     },
     "execution_count": 53,
     "metadata": {},
     "output_type": "execute_result"
    }
   ],
   "source": [
    "from sklearn.linear_model import LogisticRegression\n",
    "\n",
    "# Train the model (why have we chosen this one?)\n",
    "model = LogisticRegression(max_iter=1000)\n",
    "model.fit(X_train_vectorized, y_train)"
   ]
  },
  {
   "cell_type": "markdown",
   "id": "eebabbc3-cc4a-4d2f-a4c0-15a07e021e69",
   "metadata": {},
   "source": [
    "### Evaluate the model"
   ]
  },
  {
   "cell_type": "code",
   "execution_count": 54,
   "id": "19285d35-ed7e-4185-a3b9-667f0c3e97c5",
   "metadata": {},
   "outputs": [
    {
     "name": "stdout",
     "output_type": "stream",
     "text": [
      "AUC:  0.8846215735271845\n"
     ]
    }
   ],
   "source": [
    "from sklearn.metrics import roc_auc_score\n",
    "\n",
    "# Predict the transformed test documents\n",
    "predictions = model.predict(vect.transform(X_test))\n",
    "\n",
    "print('AUC: ', roc_auc_score(y_test, predictions))"
   ]
  },
  {
   "cell_type": "code",
   "execution_count": 55,
   "id": "a02decce-2202-4a45-9cf5-eb312583961e",
   "metadata": {},
   "outputs": [
    {
     "name": "stdout",
     "output_type": "stream",
     "text": [
      "Smallest Coefs:\n",
      "['horrible' 'not' 'poor' 'bad' 'fake' 'disappointed' 'terrible' 'dies'\n",
      " 'broken' 'locked']\n",
      "\n",
      "Largest Coefs: \n",
      "['great' 'love' 'excellent' 'perfect' 'nice' 'good' 'perfectly' 'amazing'\n",
      " 'scratches' 'happy']\n"
     ]
    }
   ],
   "source": [
    "# get the feature names as numpy array\n",
    "feature_names = np.array(vect.get_feature_names_out())\n",
    "\n",
    "# Sort the coefficients from the model\n",
    "sorted_coef_index = model.coef_[0].argsort()\n",
    "\n",
    "# Find the 10 smallest and 10 largest coefficients\n",
    "# The 10 largest coefficients are being indexed using [:-11:-1] \n",
    "# so the list returned is in order of largest to smallest\n",
    "print('Smallest Coefs:\\n{}\\n'.format(feature_names[sorted_coef_index[:10]]))\n",
    "print('Largest Coefs: \\n{}'.format(feature_names[sorted_coef_index[:-11:-1]]))"
   ]
  },
  {
   "cell_type": "code",
   "execution_count": 56,
   "id": "7c2b5cff-78a5-4149-9806-2799e06216ba",
   "metadata": {},
   "outputs": [
    {
     "name": "stdout",
     "output_type": "stream",
     "text": [
      "[0 0]\n"
     ]
    }
   ],
   "source": [
    "# BUT ... we have a problem!\n",
    "# These 2 reviews are treated the same by our current model\n",
    "print(model.predict(vect.transform(['not an issue, phone is working',\n",
    "                                    'an issue, phone is not working'])))"
   ]
  },
  {
   "cell_type": "markdown",
   "id": "3a097b71-0740-4209-a2ff-130dcb998939",
   "metadata": {},
   "source": [
    "## Using n-grams"
   ]
  },
  {
   "cell_type": "code",
   "execution_count": 57,
   "id": "53131830-4c46-4fef-8d16-85e78066aaab",
   "metadata": {},
   "outputs": [
    {
     "name": "stdout",
     "output_type": "stream",
     "text": [
      "AUC:  0.700458125094654\n",
      "Smallest Coefs:\n",
      "['does not work' 'do not buy' 'did not work' 'send it back'\n",
      " 'is not working' 'to return it' 'am not satisfied'\n",
      " 'disappointed with this' 'when got it' 'not brand new']\n",
      "\n",
      "Largest Coefs: \n",
      "['love this phone' 'very happy with' 'as good as' 'in great condition'\n",
      " 'it works great' 'for my daughter' 'phone is great' 'very good phone'\n",
      " 'better than expected' 'exactly as described']\n"
     ]
    }
   ],
   "source": [
    "# Fit the CountVectorizer to the training data specifiying a minimum \n",
    "# document frequency of 5 and extracting 1-grams and 2-grams\n",
    "vect = CountVectorizer(min_df=5, ngram_range=(3,5)).fit(X_train)\n",
    "X_train_vectorized = vect.transform(X_train)\n",
    "model = LogisticRegression(max_iter=1000)\n",
    "model.fit(X_train_vectorized, y_train)\n",
    "predictions = model.predict(vect.transform(X_test))\n",
    "print('AUC: ', roc_auc_score(y_test, predictions))\n",
    "feature_names = np.array(vect.get_feature_names_out())\n",
    "sorted_coef_index = model.coef_[0].argsort()\n",
    "print('Smallest Coefs:\\n{}\\n'.format(feature_names[sorted_coef_index[:10]]))\n",
    "print('Largest Coefs: \\n{}'.format(feature_names[sorted_coef_index[:-11:-1]]))"
   ]
  },
  {
   "cell_type": "code",
   "execution_count": 58,
   "id": "eb393643-238c-410e-b52a-dd28f30ea3bb",
   "metadata": {},
   "outputs": [
    {
     "name": "stdout",
     "output_type": "stream",
     "text": [
      "[1 0]\n"
     ]
    }
   ],
   "source": [
    "# These reviews are now correctly identified\n",
    "print(model.predict(vect.transform(['not an issue, phone is working',\n",
    "                                    'an issue, phone is not working'])))"
   ]
  },
  {
   "cell_type": "markdown",
   "id": "345af7dd-cf22-4d11-800e-7f61ac44dab4",
   "metadata": {},
   "source": [
    "# Topic modelling"
   ]
  },
  {
   "cell_type": "markdown",
   "id": "1568d583-9afa-47fb-9f79-6b76ef270829",
   "metadata": {},
   "source": [
    "### Course and teaching reviews"
   ]
  },
  {
   "cell_type": "code",
   "execution_count": 59,
   "id": "7460381e-606d-4d49-a14b-d0467799a6c0",
   "metadata": {},
   "outputs": [
    {
     "data": {
      "text/html": [
       "<div>\n",
       "<style scoped>\n",
       "    .dataframe tbody tr th:only-of-type {\n",
       "        vertical-align: middle;\n",
       "    }\n",
       "\n",
       "    .dataframe tbody tr th {\n",
       "        vertical-align: top;\n",
       "    }\n",
       "\n",
       "    .dataframe thead th {\n",
       "        text-align: right;\n",
       "    }\n",
       "</style>\n",
       "<table border=\"1\" class=\"dataframe\">\n",
       "  <thead>\n",
       "    <tr style=\"text-align: right;\">\n",
       "      <th></th>\n",
       "      <th>Id</th>\n",
       "      <th>Review</th>\n",
       "      <th>Label</th>\n",
       "    </tr>\n",
       "  </thead>\n",
       "  <tbody>\n",
       "    <tr>\n",
       "      <th>57729</th>\n",
       "      <td>57729</td>\n",
       "      <td>I took the course out of curiosity and really ...</td>\n",
       "      <td>5</td>\n",
       "    </tr>\n",
       "    <tr>\n",
       "      <th>1117</th>\n",
       "      <td>1117</td>\n",
       "      <td>I love this class. So much important history t...</td>\n",
       "      <td>5</td>\n",
       "    </tr>\n",
       "    <tr>\n",
       "      <th>61889</th>\n",
       "      <td>61889</td>\n",
       "      <td>VERY very good! it gave such a wonderful abili...</td>\n",
       "      <td>5</td>\n",
       "    </tr>\n",
       "    <tr>\n",
       "      <th>64137</th>\n",
       "      <td>64137</td>\n",
       "      <td>The information given is great so far. I would...</td>\n",
       "      <td>4</td>\n",
       "    </tr>\n",
       "    <tr>\n",
       "      <th>39678</th>\n",
       "      <td>39678</td>\n",
       "      <td>Really fun, learned a lot about Technology</td>\n",
       "      <td>5</td>\n",
       "    </tr>\n",
       "  </tbody>\n",
       "</table>\n",
       "</div>"
      ],
      "text/plain": [
       "          Id                                             Review  Label\n",
       "57729  57729  I took the course out of curiosity and really ...      5\n",
       "1117    1117  I love this class. So much important history t...      5\n",
       "61889  61889  VERY very good! it gave such a wonderful abili...      5\n",
       "64137  64137  The information given is great so far. I would...      4\n",
       "39678  39678         Really fun, learned a lot about Technology      5"
      ]
     },
     "execution_count": 59,
     "metadata": {},
     "output_type": "execute_result"
    }
   ],
   "source": [
    "import pandas as pd\n",
    "df = pd.read_csv('reviews.csv')\n",
    "df = df.sample(frac=0.1, random_state=10)\n",
    "df.head()"
   ]
  },
  {
   "cell_type": "code",
   "execution_count": 60,
   "id": "d37731f0-e37e-458b-9fe5-d898713f0d04",
   "metadata": {},
   "outputs": [],
   "source": [
    "from nltk.sentiment.vader import SentimentIntensityAnalyzer\n",
    "sia=SentimentIntensityAnalyzer()\n",
    "df['polarity scores'] = df['Review'].apply(lambda x: sia.polarity_scores(x)['compound'])"
   ]
  },
  {
   "cell_type": "code",
   "execution_count": 61,
   "id": "66f40ed8-a5a3-4560-a297-9a4135ab12e8",
   "metadata": {},
   "outputs": [
    {
     "data": {
      "text/html": [
       "<div>\n",
       "<style scoped>\n",
       "    .dataframe tbody tr th:only-of-type {\n",
       "        vertical-align: middle;\n",
       "    }\n",
       "\n",
       "    .dataframe tbody tr th {\n",
       "        vertical-align: top;\n",
       "    }\n",
       "\n",
       "    .dataframe thead th {\n",
       "        text-align: right;\n",
       "    }\n",
       "</style>\n",
       "<table border=\"1\" class=\"dataframe\">\n",
       "  <thead>\n",
       "    <tr style=\"text-align: right;\">\n",
       "      <th></th>\n",
       "      <th>Id</th>\n",
       "      <th>Review</th>\n",
       "      <th>Label</th>\n",
       "      <th>polarity scores</th>\n",
       "    </tr>\n",
       "  </thead>\n",
       "  <tbody>\n",
       "    <tr>\n",
       "      <th>57729</th>\n",
       "      <td>57729</td>\n",
       "      <td>I took the course out of curiosity and really ...</td>\n",
       "      <td>5</td>\n",
       "      <td>0.5563</td>\n",
       "    </tr>\n",
       "    <tr>\n",
       "      <th>1117</th>\n",
       "      <td>1117</td>\n",
       "      <td>I love this class. So much important history t...</td>\n",
       "      <td>5</td>\n",
       "      <td>0.9295</td>\n",
       "    </tr>\n",
       "    <tr>\n",
       "      <th>61889</th>\n",
       "      <td>61889</td>\n",
       "      <td>VERY very good! it gave such a wonderful abili...</td>\n",
       "      <td>5</td>\n",
       "      <td>0.8875</td>\n",
       "    </tr>\n",
       "    <tr>\n",
       "      <th>64137</th>\n",
       "      <td>64137</td>\n",
       "      <td>The information given is great so far. I would...</td>\n",
       "      <td>4</td>\n",
       "      <td>0.8542</td>\n",
       "    </tr>\n",
       "    <tr>\n",
       "      <th>39678</th>\n",
       "      <td>39678</td>\n",
       "      <td>Really fun, learned a lot about Technology</td>\n",
       "      <td>5</td>\n",
       "      <td>0.5563</td>\n",
       "    </tr>\n",
       "  </tbody>\n",
       "</table>\n",
       "</div>"
      ],
      "text/plain": [
       "          Id                                             Review  Label  \\\n",
       "57729  57729  I took the course out of curiosity and really ...      5   \n",
       "1117    1117  I love this class. So much important history t...      5   \n",
       "61889  61889  VERY very good! it gave such a wonderful abili...      5   \n",
       "64137  64137  The information given is great so far. I would...      4   \n",
       "39678  39678         Really fun, learned a lot about Technology      5   \n",
       "\n",
       "       polarity scores  \n",
       "57729           0.5563  \n",
       "1117            0.9295  \n",
       "61889           0.8875  \n",
       "64137           0.8542  \n",
       "39678           0.5563  "
      ]
     },
     "execution_count": 61,
     "metadata": {},
     "output_type": "execute_result"
    }
   ],
   "source": [
    "df.head()"
   ]
  },
  {
   "cell_type": "code",
   "execution_count": 73,
   "id": "4bbc145f-6cce-4c9a-bd97-9c383e3e7441",
   "metadata": {},
   "outputs": [
    {
     "data": {
      "image/png": "[encoded data removed]",
      "text/plain": [
       "<Figure size 800x800 with 1 Axes>"
      ]
     },
     "metadata": {},
     "output_type": "display_data"
    }
   ],
   "source": [
    "from wordcloud import WordCloud, STOPWORDS\n",
    "import matplotlib.pyplot as plt\n",
    "stopwords = set(STOPWORDS)\n",
    "\n",
    "def show_wordcloud(data, title = None):\n",
    "    wordcloud = WordCloud(\n",
    "        background_color='white',\n",
    "        stopwords=stopwords,\n",
    "        max_words=200,\n",
    "        max_font_size=40, \n",
    "        scale=3,\n",
    "        random_state=1 # chosen at random by flipping a coin; it was heads\n",
    "    ).generate(str(data))\n",
    "\n",
    "    fig = plt.figure(1, figsize=(8, 8))\n",
    "    plt.axis('off')\n",
    "    if title: \n",
    "        fig.suptitle(title, fontsize=20)\n",
    "        fig.subplots_adjust(top=2.3)\n",
    "\n",
    "    plt.imshow(wordcloud)\n",
    "    plt.show()\n",
    "\n",
    "show_wordcloud(df['Review'])"
   ]
  },
  {
   "cell_type": "code",
   "execution_count": 62,
   "id": "7f0dced3-7ebb-4713-98dc-ada030bc7dcc",
   "metadata": {},
   "outputs": [],
   "source": [
    "import scipy.sparse as ss # for making sparse matrices\n",
    "from corextopic import corextopic as ct # a topic modelling methodology"
   ]
  },
  {
   "cell_type": "code",
   "execution_count": 78,
   "id": "0a47b829-741c-411e-ac02-f64c5fef6992",
   "metadata": {},
   "outputs": [],
   "source": [
    "vectorizer = CountVectorizer(stop_words='english', lowercase=True, binary=True)\n",
    "corex_docs = df['Review'].tolist()\n",
    "doc_word = vectorizer.fit_transform(corex_docs)\n",
    "doc_word = ss.csr_matrix(doc_word)\n",
    "words = list(np.asarray(vectorizer.get_feature_names_out()))"
   ]
  },
  {
   "cell_type": "code",
   "execution_count": 80,
   "id": "714eea4b-ad77-4373-8f09-405ca4c8a827",
   "metadata": {},
   "outputs": [
    {
     "name": "stderr",
     "output_type": "stream",
     "text": [
      "[nltk_data] Downloading package stopwords to\n",
      "[nltk_data]     C:\\Users\\LucyKnight\\AppData\\Roaming\\nltk_data...\n",
      "[nltk_data]   Package stopwords is already up-to-date!\n"
     ]
    }
   ],
   "source": [
    "# extending stopwords\n",
    "nltk.download('stopwords')\n",
    "from nltk.corpus import stopwords\n",
    "stop_words = list(stopwords.words('english'))\n",
    "stop_words.extend(['andrew', 'ng', 'chuck', 'israel', 'really'])"
   ]
  },
  {
   "cell_type": "code",
   "execution_count": 81,
   "id": "cce4cc42-150f-426c-b188-49b8d2b4382f",
   "metadata": {},
   "outputs": [],
   "source": [
    "target_num_topics = 20 # num topics CorEx will identify\n",
    "topic_model = ct.Corex(n_hidden=target_num_topics, words=words, max_iter=1000, verbose=False, seed=2020)\n",
    "topic_model.fit(doc_word, words=words);\n",
    "topics = topic_model.get_topics()\n",
    "for c in [col for col in df.columns if col.startswith('topic_')]:\n",
    "    del df[c]\n",
    "for topic_num in range(0, len(topics)):\n",
    "    df['topic_' + str(topic_num)] = topic_model.log_p_y_given_x[:,topic_num]\n",
    "corex_cols = [col for col in df if col.startswith('topic_')]\n",
    "df['best_topic'] = df[corex_cols].idxmax(axis=1)"
   ]
  },
  {
   "cell_type": "code",
   "execution_count": 82,
   "id": "3008e7fb-3960-48d6-8127-96ca057822fb",
   "metadata": {},
   "outputs": [
    {
     "name": "stdout",
     "output_type": "stream",
     "text": [
      "topic_0,hours,answers,sure,available,wrong,fact,imagine,value,response,process\n",
      "\n",
      "topic_1,week,better,don,quite,tools,come,parts,possible,issue,free\n",
      "\n",
      "topic_2,english,grammar,community,punctuation,language,presenting,neural,3d,degree,academic\n",
      "\n",
      "topic_3,world,history,new,note,company,human,digital,studies,information,saw\n",
      "\n",
      "topic_4,time,just,final,assignment,project,did,took,end,actually,doing\n",
      "\n",
      "topic_5,life,eye,changing,involved,guest,opening,making,increase,opener,daily\n",
      "\n",
      "topic_6,like,make,think,course,peer,html,css,know,web,javascript\n",
      "\n",
      "topic_7,video,book,high,quality,reading,especially,content,times,thought,discussion\n",
      "\n",
      "topic_8,learning,machine,andrew,ng,best,coursera,taken,ve,university,algorithms\n",
      "\n",
      "topic_9,videos,lectures,material,little,bit,quizzes,easy,makes,follow,presented\n",
      "\n",
      "topic_10,programming,assignments,concepts,code,students,use,problems,understanding,help,difficult\n",
      "\n",
      "topic_11,data,science,knowledge,overview,subject,health,food,interested,matter,introduction\n",
      "\n",
      "topic_12,forward,looking,look,specialization,weeks,feel,people,given,certificate,definitely\n",
      "\n",
      "topic_13,questions,examples,real,topics,additional,answer,prof,depth,taking,question\n",
      "\n",
      "topic_14,courses,design,review,computer,say,graphic,level,suggest,add,areas\n",
      "\n",
      "topic_15,highly,recommend,recommended,strongly,friends,range,person,wanting,wide,middle\n",
      "\n",
      "topic_16,dr,chuck,professor,thank,engaging,complex,fun,teacher,amazing,explains\n",
      "\n",
      "topic_17,skills,way,work,improve,using,writing,different,write,teach,skill\n",
      "\n",
      "topic_18,lot,learned,really,things,enjoyed,learnt,helped,enjoy,class,months\n",
      "\n",
      "topic_19,learn,want,exercises,practical,wants,python,basics,effectively,try,iot\n",
      "\n"
     ]
    }
   ],
   "source": [
    "for n,topic in enumerate(topics):\n",
    "    topic_words, foo, bar = zip(*topic)\n",
    "    outText = 'topic_' + str(n) + ',' + ','.join(topic_words) + '\\n'\n",
    "    print(outText)"
   ]
  },
  {
   "cell_type": "code",
   "execution_count": 70,
   "id": "104159a8-abf4-424e-99de-ce949fe7b8f2",
   "metadata": {},
   "outputs": [
    {
     "data": {
      "text/html": [
       "<div>\n",
       "<style scoped>\n",
       "    .dataframe tbody tr th:only-of-type {\n",
       "        vertical-align: middle;\n",
       "    }\n",
       "\n",
       "    .dataframe tbody tr th {\n",
       "        vertical-align: top;\n",
       "    }\n",
       "\n",
       "    .dataframe thead th {\n",
       "        text-align: right;\n",
       "    }\n",
       "</style>\n",
       "<table border=\"1\" class=\"dataframe\">\n",
       "  <thead>\n",
       "    <tr style=\"text-align: right;\">\n",
       "      <th></th>\n",
       "      <th>Id</th>\n",
       "      <th>Review</th>\n",
       "      <th>Label</th>\n",
       "      <th>polarity scores</th>\n",
       "      <th>topic_0</th>\n",
       "      <th>topic_1</th>\n",
       "      <th>topic_2</th>\n",
       "      <th>topic_3</th>\n",
       "      <th>topic_4</th>\n",
       "      <th>best_topic</th>\n",
       "    </tr>\n",
       "  </thead>\n",
       "  <tbody>\n",
       "    <tr>\n",
       "      <th>57729</th>\n",
       "      <td>57729</td>\n",
       "      <td>I took the course out of curiosity and really ...</td>\n",
       "      <td>5</td>\n",
       "      <td>0.5563</td>\n",
       "      <td>-10.270223</td>\n",
       "      <td>-6.580618</td>\n",
       "      <td>-7.153057</td>\n",
       "      <td>-3.26617</td>\n",
       "      <td>-3.605187</td>\n",
       "      <td>topic_3</td>\n",
       "    </tr>\n",
       "  </tbody>\n",
       "</table>\n",
       "</div>"
      ],
      "text/plain": [
       "          Id                                             Review  Label  \\\n",
       "57729  57729  I took the course out of curiosity and really ...      5   \n",
       "\n",
       "       polarity scores    topic_0   topic_1   topic_2  topic_3   topic_4  \\\n",
       "57729           0.5563 -10.270223 -6.580618 -7.153057 -3.26617 -3.605187   \n",
       "\n",
       "      best_topic  \n",
       "57729    topic_3  "
      ]
     },
     "execution_count": 70,
     "metadata": {},
     "output_type": "execute_result"
    }
   ],
   "source": [
    "df.head(1)"
   ]
  },
  {
   "cell_type": "code",
   "execution_count": null,
   "id": "3b154f3a-fb78-468f-8547-1c14b42898ec",
   "metadata": {},
   "outputs": [],
   "source": [
    "## Choosing our own topics"
   ]
  },
  {
   "cell_type": "code",
   "execution_count": 74,
   "id": "0b348cd6-6176-4c10-929c-e7745a66510d",
   "metadata": {},
   "outputs": [
    {
     "name": "stdout",
     "output_type": "stream",
     "text": [
      "topic_0,confidence,css,html,web,javascript,history,js,development,world,music\n",
      "\n",
      "topic_1,practical,examples,machine,ng,exercises,theory,andrew,room,early,aspects\n",
      "\n",
      "topic_2,interesting,useful,good,informative,interviews,boring,great,israel,captivating,holbo\n",
      "\n",
      "topic_3,video,time,course,videos,like,way,lectures,think,just,assignments\n",
      "\n",
      "topic_4,assignment,week,peer,make,little,final,work,code,programming,review\n",
      "\n"
     ]
    }
   ],
   "source": [
    "anchor_words = ['confidence', 'practical', 'interesting', 'video','assignment']\n",
    "topic_model.fit(doc_word, words=words, anchors=anchor_words, anchor_strength=6);\n",
    "topics = topic_model.get_topics()\n",
    "topic_list = []\n",
    "\n",
    "for n,topic in enumerate(topics):\n",
    "    topic_words, foo, bar = zip(*topic)\n",
    "    outText = 'topic_' + str(n) + ',' + ','.join(topic_words) + '\\n'\n",
    "    print(outText)\n",
    "    #with open('topicsList.txt', 'a') as f:\n",
    "    #    # write a row to the  file\n",
    "    #    f.write(outText)\n"
   ]
  },
  {
   "cell_type": "code",
   "execution_count": 83,
   "id": "32c3f545-eb8c-4b8f-9c7c-8b6448a766a6",
   "metadata": {},
   "outputs": [
    {
     "data": {
      "image/png": "[encoded data removed]",
      "text/plain": [
       "<Figure size 1000x500 with 1 Axes>"
      ]
     },
     "metadata": {},
     "output_type": "display_data"
    }
   ],
   "source": [
    "import matplotlib.pyplot as plt\n",
    "%matplotlib inline\n",
    "plt.figure(figsize=(10,5))\n",
    "plt.bar(range(topic_model.tcs.shape[0]), topic_model.tcs, color='#4e79a7', width=0.5)\n",
    "plt.xlabel('Topic', fontsize=16)\n",
    "plt.ylabel('Total Correlation (nats)', fontsize=16);"
   ]
  },
  {
   "cell_type": "code",
   "execution_count": null,
   "id": "a4481e02-7ebe-423c-b65a-9bf860b5cecf",
   "metadata": {},
   "outputs": [],
   "source": [
    "# extending stopwords\n",
    "stop_words.extend(['words', 'I', 'want', 'to', 'exclude'])"
   ]
  },
  {
   "cell_type": "markdown",
   "id": "7d18f29e-32d9-4f92-89f9-71bc395fac33",
   "metadata": {},
   "source": [
    "## Visualising your analysis"
   ]
  },
  {
   "cell_type": "code",
   "execution_count": null,
   "id": "ac6a12db-c58f-424d-a576-f67d05bc51c5",
   "metadata": {},
   "outputs": [],
   "source": [
    "# write the topic IDs and descriptions to text file\n",
    "for n,topic in enumerate(topics):\n",
    "    topic_words, foo, bar = zip(*topic)\n",
    "    outText = 'topic_' + str(n) + ',' + ','.join(topic_words) + '\\n'\n",
    "    with open('topicsList.txt', 'a') as f:\n",
    "        # write a row to the  file\n",
    "        f.write(outText)"
   ]
  },
  {
   "cell_type": "code",
   "execution_count": null,
   "id": "236f7b58-7964-4887-9fb9-8810d2e26f1a",
   "metadata": {},
   "outputs": [],
   "source": [
    "# export the dataframe to CSV \n",
    "# (if you want to visualise in another platform)\n",
    "df.to_csv('data_out.csv')"
   ]
  },
  {
   "cell_type": "code",
   "execution_count": null,
   "id": "5d114b2c-d348-42ec-a149-bacd6ad47dc9",
   "metadata": {},
   "outputs": [],
   "source": [
    "# if you had an answer, what would it look like ... ?"
   ]
  },
  {
   "cell_type": "markdown",
   "id": "d65e6f25-42a1-48fb-9874-9b07abb80fdb",
   "metadata": {},
   "source": [
    "for link in doc:  \n",
    "fetch the doc behind the link  \n",
    "    add to a doc set  \n",
    "    for each doc in doc set:  \n",
    "        scrape doc  \n",
    "        add doc contents to dataset  \n",
    "    "
   ]
  }
 ],
 "metadata": {
  "kernelspec": {
   "display_name": "Python 3 (ipykernel)",
   "language": "python",
   "name": "python3"
  },
  "language_info": {
   "codemirror_mode": {
    "name": "ipython",
    "version": 3
   },
   "file_extension": ".py",
   "mimetype": "text/x-python",
   "name": "python",
   "nbconvert_exporter": "python",
   "pygments_lexer": "ipython3",
   "version": "3.11.4"
  }
 },
 "nbformat": 4,
 "nbformat_minor": 5
}
