{
 "cells": [
  {
   "cell_type": "markdown",
   "metadata": {},
   "source": [
    "### Task 1 - Group by"
   ]
  },
  {
   "cell_type": "markdown",
   "metadata": {},
   "source": [
    "##### 1. Given a DataFrame ‘df’ with columns ‘A’, ‘B’, and ‘C’, where ‘A’ and ‘B’ are categorical variables and ‘C’ is a numerical variable, write a code to group the DataFrame by column ‘A’ and calculate the sum of ‘C’ for each group.\n",
    "\n",
    "```\n",
    "'Store': ['Store1', 'Store2', 'Store1', 'Store2', 'Store1', 'Store2', 'Store1', 'Store1'],\n",
    "'Product': ['Apple', 'Banana', 'Cherry', 'Apple', 'Banana', 'Cherry', 'Apple', 'Banana'],\n",
    "'Sales': [100, 200, 150, 300, 250, 150, 200, 300]\n",
    "```\n",
    "\n",
    "Note: The groupby function is used to split the data into groups based on some criteria. The sum function is then used to calculate the sum of ‘C’ for each group.\n",
    "\n",
    "```\n",
    "Do not forget to import pandas as pd\n",
    "```"
   ]
  },
  {
   "cell_type": "code",
   "execution_count": 1,
   "metadata": {},
   "outputs": [
    {
     "data": {
      "text/plain": [
       "Store\n",
       "Store1    1000\n",
       "Store2     650\n",
       "Name: Sales, dtype: int64"
      ]
     },
     "execution_count": 1,
     "metadata": {},
     "output_type": "execute_result"
    }
   ],
   "source": [
    "import pandas as pd\n",
    "\n",
    "# Create a sample DataFrame\n",
    "df = pd.DataFrame({\n",
    "    'Store': ['Store1', 'Store2', 'Store1', 'Store2', 'Store1', 'Store2', 'Store1', 'Store1'],\n",
    "    'Product': ['Apple', 'Banana', 'Cherry', 'Apple', 'Banana', 'Cherry', 'Apple', 'Banana'],\n",
    "    'Sales': [100, 200, 150, 300, 250, 150, 200, 300]\n",
    "})\n",
    "\n",
    "# Group the DataFrame by column 'Store' and calculate the sum of 'Sales'\n",
    "grouped = df.groupby('Store')['Sales'].sum()\n",
    "grouped"
   ]
  },
  {
   "cell_type": "markdown",
   "metadata": {},
   "source": [
    "##### 2. Now, modify your code to group the DataFrame by both columns ‘A’ and ‘B’, and calculate the sum of ‘C’ for each group.\n",
    "\n",
    "```\n",
    "Note: You can pass a list of column names to the groupby function to group by multiple columns. The resulting groups are hierarchical and can provide more detailed insights.\n",
    "```"
   ]
  },
  {
   "cell_type": "code",
   "execution_count": 2,
   "metadata": {},
   "outputs": [
    {
     "data": {
      "text/plain": [
       "Store   Product\n",
       "Store1  Apple      300\n",
       "        Banana     550\n",
       "        Cherry     150\n",
       "Store2  Apple      300\n",
       "        Banana     200\n",
       "        Cherry     150\n",
       "Name: Sales, dtype: int64"
      ]
     },
     "execution_count": 2,
     "metadata": {},
     "output_type": "execute_result"
    }
   ],
   "source": [
    "# Group the DataFrame by columns 'Store' and 'Product' and calculate the sum of 'Sales'\n",
    "grouped = df.groupby(['Store', 'Product'])['Sales'].sum()\n",
    "grouped"
   ]
  },
  {
   "cell_type": "markdown",
   "metadata": {},
   "source": [
    "##### 3. Given a DataFrame ‘df’ with columns ‘City’, ‘Property_Type’, and ‘Price’, where ‘City’ and ‘Property_Type’ are categorical variables and ‘Price’ is a numerical variable, write a code to group the DataFrame by column ‘City’ and calculate the total price for each city.\n",
    "\n",
    "```\n",
    "'City': ['London', 'Paris', 'London', 'Paris', 'London', 'Paris', 'London', 'London'],\n",
    "'Property_Type': ['House', 'Apartment', 'House', 'Apartment', 'House', 'Apartment', 'House', 'Apartment'],\n",
    "'Price': [500000, 400000, 600000, 450000, 550000, 500000, 650000, 700000]\n",
    "```\n",
    "\n",
    "Note: The groupby function is used to split the data into groups based on some criteria. The sum function is then used to calculate the sum of ‘Price’ for each group."
   ]
  },
  {
   "cell_type": "code",
   "execution_count": 3,
   "metadata": {},
   "outputs": [
    {
     "name": "stdout",
     "output_type": "stream",
     "text": [
      "City\n",
      "London    3000000\n",
      "Paris     1350000\n",
      "Name: Price, dtype: int64\n"
     ]
    }
   ],
   "source": [
    "# Create a sample DataFrame\n",
    "df = pd.DataFrame({\n",
    "    'City': ['London', 'Paris', 'London', 'Paris', 'London', 'Paris', 'London', 'London'],\n",
    "    'Property_Type': ['House', 'Apartment', 'House', 'Apartment', 'House', 'Apartment', 'House', 'Apartment'],\n",
    "    'Price': [500000, 400000, 600000, 450000, 550000, 500000, 650000, 700000]\n",
    "})\n",
    "\n",
    "# Group the DataFrame by column 'City' and calculate the sum of 'Price'\n",
    "grouped = df.groupby('City')['Price'].sum()\n",
    "print(grouped)"
   ]
  },
  {
   "cell_type": "markdown",
   "metadata": {},
   "source": [
    "##### 4. Now, modify your code to group the DataFrame by both columns ‘City’ and ‘Property_Type’, and calculate the total price for each combination.\n",
    "\n",
    "Note: You can pass a list of column names to the groupby function to group by multiple columns. The resulting groups are hierarchical and can provide more detailed insights."
   ]
  },
  {
   "cell_type": "code",
   "execution_count": 4,
   "metadata": {},
   "outputs": [
    {
     "name": "stdout",
     "output_type": "stream",
     "text": [
      "City    Property_Type\n",
      "London  Apartment         700000\n",
      "        House            2300000\n",
      "Paris   Apartment        1350000\n",
      "Name: Price, dtype: int64\n"
     ]
    }
   ],
   "source": [
    "# Group the DataFrame by columns 'City' and 'Property_Type' and calculate the sum of 'Price'\n",
    "grouped = df.groupby(['City', 'Property_Type'])['Price'].sum()\n",
    "print(grouped)"
   ]
  },
  {
   "cell_type": "markdown",
   "metadata": {},
   "source": [
    "### Task 2 - Data Aggregation"
   ]
  },
  {
   "cell_type": "markdown",
   "metadata": {},
   "source": [
    "##### 1. Given the same DataFrame, write a code to calculate the sum, max, min, mean, median and count of column ‘C’.\n",
    "\n",
    "```\n",
    "'Store': ['Store1', 'Store2', 'Store1', 'Store2', 'Store1', 'Store2', 'Store1', 'Store1'],\n",
    "'Product': ['Apple', 'Banana', 'Cherry', 'Apple', 'Banana', 'Cherry', 'Apple', 'Banana'],\n",
    "'Sales': [100, 200, 150, 300, 250, 150, 200, 300]\n",
    "```\n",
    "Note: The groupby function is used to split the data into groups based on some criteria. The sum function is then used to calculate the sum of ‘Sales’ for each group."
   ]
  },
  {
   "cell_type": "code",
   "execution_count": 7,
   "metadata": {},
   "outputs": [
    {
     "name": "stdout",
     "output_type": "stream",
     "text": [
      "sum       1650.00\n",
      "max        300.00\n",
      "min        100.00\n",
      "mean       206.25\n",
      "median     200.00\n",
      "count        8.00\n",
      "Name: Sales, dtype: float64\n"
     ]
    }
   ],
   "source": [
    "\n",
    "df = pd.DataFrame({\n",
    "    'Store': ['Store1', 'Store2', 'Store1', 'Store2', 'Store1', 'Store2', 'Store1', 'Store1'],\n",
    "    'Product': ['Apple', 'Banana', 'Cherry', 'Apple', 'Banana', 'Cherry', 'Apple', 'Banana'],\n",
    "    'Sales': [100, 200, 150, 300, 250, 150, 200, 300]\n",
    "})\n",
    "# Calculate aggregation functions on column 'Sales'\n",
    "aggregations = df['Sales'].agg(['sum', 'max', 'min', 'mean', 'median', 'count'])\n",
    "print(aggregations)"
   ]
  },
  {
   "cell_type": "markdown",
   "metadata": {},
   "source": [
    "##### 2. Now, modify your code to calculate these aggregation functions for each group of column ‘Store’.\n",
    "\n",
    "Note: You can combine groupby and agg functions to apply multiple aggregations on each group."
   ]
  },
  {
   "cell_type": "code",
   "execution_count": 8,
   "metadata": {},
   "outputs": [
    {
     "name": "stdout",
     "output_type": "stream",
     "text": [
      "Store\n",
      "Store1    200\n",
      "Store2    150\n",
      "Name: Sales, dtype: int64\n"
     ]
    }
   ],
   "source": [
    "# Define a custom function for calculating range\n",
    "def range_func(x):\n",
    "    return x.max() - x.min()\n",
    "\n",
    "# Calculate range of column'Sales' for each group of column'Store'\n",
    "grouped = df.groupby('Store')['Sales'].agg(range_func)\n",
    "print(grouped)"
   ]
  },
  {
   "cell_type": "markdown",
   "metadata": {},
   "source": [
    "##### 3. Given the same DataFrame, write a code to calculate the total (sum), maximum (max), minimum (min), average (mean), middle value (median) and number (count) of prices.\n",
    "\n",
    "Note: The agg function is used to apply one or more operations over specified axis. It’s a flexible way to apply multiple aggregations on a Series or DataFrame."
   ]
  },
  {
   "cell_type": "code",
   "execution_count": 12,
   "metadata": {},
   "outputs": [
    {
     "name": "stdout",
     "output_type": "stream",
     "text": [
      "sum       4350000.0\n",
      "max        700000.0\n",
      "min        400000.0\n",
      "mean       543750.0\n",
      "median     525000.0\n",
      "count           8.0\n",
      "Name: Price, dtype: float64\n"
     ]
    }
   ],
   "source": [
    "df = pd.DataFrame({\n",
    "    'City': ['London', 'Paris', 'London', 'Paris', 'London', 'Paris', 'London', 'London'],\n",
    "    'Property_Type': ['House', 'Apartment', 'House', 'Apartment', 'House', 'Apartment', 'House', 'Apartment'],\n",
    "    'Price': [500000, 400000, 600000, 450000, 550000, 500000, 650000, 700000]\n",
    "})\n",
    "# Calculate aggregation functions on column 'Price'\n",
    "aggregations = df['Price'].agg(['sum', 'max', 'min', 'mean', 'median', 'count'])\n",
    "print(aggregations)"
   ]
  },
  {
   "cell_type": "markdown",
   "metadata": {},
   "source": [
    "##### 4. Now, modify your code to calculate these aggregation functions for each group of column ‘City’.\n",
    "\n",
    "Note: You can combine groupby and agg functions to apply multiple aggregations on each group."
   ]
  },
  {
   "cell_type": "code",
   "execution_count": 13,
   "metadata": {},
   "outputs": [
    {
     "name": "stdout",
     "output_type": "stream",
     "text": [
      "            sum     max     min      mean    median  count\n",
      "City                                                      \n",
      "London  3000000  700000  500000  600000.0  600000.0      5\n",
      "Paris   1350000  500000  400000  450000.0  450000.0      3\n"
     ]
    }
   ],
   "source": [
    "# Calculate aggregation functions on column 'Price' for each group of column 'City'\n",
    "grouped = df.groupby('City')['Price'].agg(['sum', 'max', 'min', 'mean', 'median', 'count'])\n",
    "print(grouped)"
   ]
  },
  {
   "cell_type": "markdown",
   "metadata": {},
   "source": [
    "##### 5. Write a code to calculate the range (max - min) of prices for each city. You need to define a custom function for calculating range and use it in agg().\n",
    "\n",
    "Note: The agg function also allows you to use custom functions. This provides great flexibility in performing complex aggregations."
   ]
  },
  {
   "cell_type": "code",
   "execution_count": 14,
   "metadata": {},
   "outputs": [
    {
     "name": "stdout",
     "output_type": "stream",
     "text": [
      "City\n",
      "London    200000\n",
      "Paris     100000\n",
      "Name: Price, dtype: int64\n"
     ]
    }
   ],
   "source": [
    "# Define a custom function for calculating range\n",
    "def range_func(x):\n",
    "    return x.max() - x.min()\n",
    "\n",
    "# Calculate range of column'Price' for each group of column'City'\n",
    "grouped = df.groupby('City')['Price'].agg(range_func)\n",
    "print(grouped)"
   ]
  },
  {
   "cell_type": "markdown",
   "metadata": {},
   "source": [
    "### Task 3 - Data Visualisation"
   ]
  },
  {
   "cell_type": "markdown",
   "metadata": {},
   "source": [
    "##### 1. Given a small DataFrame ‘df_small’ with columns ‘Age’, ‘Income’, and ‘Spending_Score’, where all are numerical variables, write a code to calculate the correlation between these variables.\n",
    "\n",
    "```\n",
    "'Age': [25, 35, 45, 55, 65],\n",
    "'Income': [30000, 40000, 50000, 60000, 70000],\n",
    "'Spending_Score': [20, 40, 60, 80, 100]\n",
    "```\n",
    "\n",
    "Note: The corr function is used to compute pairwise correlation of columns. Correlation coefficients quantify the degree to which a relationship between two variables can be described by a number."
   ]
  },
  {
   "cell_type": "code",
   "execution_count": 17,
   "metadata": {},
   "outputs": [
    {
     "data": {
      "text/html": [
       "<div>\n",
       "<style scoped>\n",
       "    .dataframe tbody tr th:only-of-type {\n",
       "        vertical-align: middle;\n",
       "    }\n",
       "\n",
       "    .dataframe tbody tr th {\n",
       "        vertical-align: top;\n",
       "    }\n",
       "\n",
       "    .dataframe thead th {\n",
       "        text-align: right;\n",
       "    }\n",
       "</style>\n",
       "<table border=\"1\" class=\"dataframe\">\n",
       "  <thead>\n",
       "    <tr style=\"text-align: right;\">\n",
       "      <th></th>\n",
       "      <th>Age</th>\n",
       "      <th>Income</th>\n",
       "      <th>Spending_Score</th>\n",
       "    </tr>\n",
       "  </thead>\n",
       "  <tbody>\n",
       "    <tr>\n",
       "      <th>Age</th>\n",
       "      <td>1.000000</td>\n",
       "      <td>-0.274721</td>\n",
       "      <td>0.242536</td>\n",
       "    </tr>\n",
       "    <tr>\n",
       "      <th>Income</th>\n",
       "      <td>-0.274721</td>\n",
       "      <td>1.000000</td>\n",
       "      <td>0.866186</td>\n",
       "    </tr>\n",
       "    <tr>\n",
       "      <th>Spending_Score</th>\n",
       "      <td>0.242536</td>\n",
       "      <td>0.866186</td>\n",
       "      <td>1.000000</td>\n",
       "    </tr>\n",
       "  </tbody>\n",
       "</table>\n",
       "</div>"
      ],
      "text/plain": [
       "                     Age    Income  Spending_Score\n",
       "Age             1.000000 -0.274721        0.242536\n",
       "Income         -0.274721  1.000000        0.866186\n",
       "Spending_Score  0.242536  0.866186        1.000000"
      ]
     },
     "execution_count": 17,
     "metadata": {},
     "output_type": "execute_result"
    }
   ],
   "source": [
    "# Create a small DataFrame\n",
    "df_small = pd.DataFrame({\n",
    "    'Age': [25, 35, 45, 55, 65],\n",
    "    'Income': [100000, 40000, 50000, 60000, 70000],\n",
    "    'Spending_Score': [100, 40, 60, 80, 100]\n",
    "})\n",
    "\n",
    "# Calculate the correlation between the variables\n",
    "correlation = df_small.corr()\n",
    "correlation"
   ]
  },
  {
   "cell_type": "markdown",
   "metadata": {},
   "source": [
    "##### 2. Given a DataFrame ‘df_bar’ with columns ‘Product’ and ‘Sales’, where ‘Product’ is a categorical variable and ‘Sales’ is a numerical variable, write a code to create a bar plot showing the total sales for each product.\n",
    "\n",
    "```\n",
    "'Product': ['Apple', 'Banana', 'Cherry', 'Date', 'Elderberry'],\n",
    "'Sales': [1000, 2000, 1500, 1800, 1200]\n",
    "```\n",
    "\n",
    "Note: The plot function with kind=‘bar’ is used to create bar plots. Bar plots are useful for comparing quantities of different categories."
   ]
  },
  {
   "cell_type": "code",
   "execution_count": 18,
   "metadata": {},
   "outputs": [
    {
     "data": {
      "text/plain": [
       "<Axes: title={'center': 'Sales by Product'}, xlabel='Product'>"
      ]
     },
     "execution_count": 18,
     "metadata": {},
     "output_type": "execute_result"
    },
    {
     "data": {
      "image/png": "[encoded data removed]",
      "text/plain": [
       "<Figure size 640x480 with 1 Axes>"
      ]
     },
     "metadata": {},
     "output_type": "display_data"
    }
   ],
   "source": [
    "# Create a DataFrame\n",
    "df_bar = pd.DataFrame({\n",
    "    'Product': ['Apple', 'Banana', 'Cherry', 'Date', 'Elderberry'],\n",
    "    'Sales': [1000, 2000, 1500, 1800, 1200]\n",
    "})\n",
    "\n",
    "# Create a bar plot\n",
    "df_bar.plot(x='Product', y='Sales', kind='bar', title='Sales by Product')"
   ]
  },
  {
   "cell_type": "markdown",
   "metadata": {},
   "source": [
    "##### 3. Create a DataFrame with columns ‘Age’ and ‘Income’, where both are numerical variables, write a code to create a scatter plot showing the relationship between age and income.\n",
    "\n",
    "```\n",
    "    Remember data must be numeric type\n",
    "\n",
    "\n",
    "    # import random\n",
    "    import random\n",
    "    \n",
    "    'Age': [random.randint(20, 70) for _ in range(100)],\n",
    "    'Income': [random.randint(20000, 70000) for _ in range(100)]\n",
    "```\n",
    "\n",
    "Note: Scatter plots are useful for visualizing relationships between two numerical variables."
   ]
  },
  {
   "cell_type": "code",
   "execution_count": 19,
   "metadata": {},
   "outputs": [
    {
     "data": {
      "text/plain": [
       "<Axes: title={'center': 'Income by Age'}, xlabel='Age', ylabel='Income'>"
      ]
     },
     "execution_count": 19,
     "metadata": {},
     "output_type": "execute_result"
    },
    {
     "data": {
      "image/png": "[encoded data removed]",
      "text/plain": [
       "<Figure size 640x480 with 1 Axes>"
      ]
     },
     "metadata": {},
     "output_type": "display_data"
    }
   ],
   "source": [
    "import pandas as pd\n",
    "import random\n",
    "\n",
    "# Create a DataFrame\n",
    "df_scatter = pd.DataFrame({\n",
    "    'Age': [random.randint(20, 70) for _ in range(100)],\n",
    "    'Income': [random.randint(20000, 70000) for _ in range(100)]\n",
    "})\n",
    "\n",
    "# Create a scatter plot\n",
    "df_scatter.plot(x='Age', y='Income', kind='scatter', title='Income by Age')"
   ]
  },
  {
   "cell_type": "markdown",
   "metadata": {},
   "source": [
    "##### 4. Given a DataFrame ‘df_hist’ with column ‘Scores’, which is a numerical variable representing scores of students in an exam, write a code to create a histogram showing the distribution of scores.\n",
    "\n",
    "```\n",
    "'Scores': [80, 85, 90, 95, 100, 97, 100]\n",
    "```"
   ]
  },
  {
   "cell_type": "code",
   "execution_count": 21,
   "metadata": {},
   "outputs": [
    {
     "data": {
      "text/plain": [
       "<Axes: title={'center': 'Distribution of Scores'}, ylabel='Frequency'>"
      ]
     },
     "execution_count": 21,
     "metadata": {},
     "output_type": "execute_result"
    },
    {
     "data": {
      "image/png": "[encoded data removed]",
      "text/plain": [
       "<Figure size 640x480 with 1 Axes>"
      ]
     },
     "metadata": {},
     "output_type": "display_data"
    }
   ],
   "source": [
    "# Create a DataFrame\n",
    "df_hist = pd.DataFrame({\n",
    "    'Scores': [50, 50, 60, 65, 60, 70, 75, 80, 85, 90, 95, 60, 97, 100]\n",
    "})\n",
    "\n",
    "# Create a histogram\n",
    "df_hist.plot(y='Scores', kind='hist', title='Distribution of Scores')"
   ]
  },
  {
   "cell_type": "markdown",
   "metadata": {},
   "source": [
    "##### 5. Expand the Scores DataFrame (at least 10 more random values) from the last question and recreate the histogram."
   ]
  },
  {
   "cell_type": "code",
   "execution_count": 22,
   "metadata": {},
   "outputs": [
    {
     "data": {
      "text/plain": [
       "<Axes: title={'center': 'Distribution of Scores'}, ylabel='Frequency'>"
      ]
     },
     "execution_count": 22,
     "metadata": {},
     "output_type": "execute_result"
    },
    {
     "data": {
      "image/png": "[encoded data removed]",
      "text/plain": [
       "<Figure size 640x480 with 1 Axes>"
      ]
     },
     "metadata": {},
     "output_type": "display_data"
    }
   ],
   "source": [
    "# Create a DataFrame\n",
    "df_hist = pd.DataFrame({\n",
    "    'Scores': [50, 50, 60, 65, 60, 70, 75, 80, 85, 90, 95, 60, 97, 100, 50, 50, 60, 65, 60, 70, 75, 80, 85, 90, 95, 60, 97, 100, 50, 50, 60, 65, 60, 70, 75, 80, 85, 90, 95, 60, 97, 100, 50, 50, 60, 65, 60, 70, 75, 80, 85, 90, 95, 60, 97, 100, 50, 50, 60, 65, 60, 70, 75, 80, 85, 90, 95, 60, 97, 100, 80, 71, 85, 90, 95, 100, 97, 100]\n",
    "})\n",
    "\n",
    "# Create a histogram\n",
    "df_hist.plot(y='Scores', kind='hist', title='Distribution of Scores')"
   ]
  },
  {
   "cell_type": "markdown",
   "metadata": {},
   "source": [
    "### Task 4 - Time Series Data"
   ]
  },
  {
   "cell_type": "markdown",
   "metadata": {},
   "source": [
    "##### 1. Given a DataFrame ‘df_date’ with a column ‘Date’ containing dates in the format ‘YYYY-MM-DD’, write a code to convert the ‘Date’ column to datetime format.\n",
    "\n",
    "```\n",
    "'Date': ['2023-01-01', '2023-02-01', '2023-03-01', '2023-04-01', '2023-05-01', '2023-06-01'],\n",
    "'Value': [1, 2, 3, 4, 5, 6]\n",
    "```\n",
    "\n",
    "Note: The pd.to_datetime() function is used to convert the ‘Date’ column to datetime format. This is useful when you want to perform time series analysis on the data."
   ]
  },
  {
   "cell_type": "code",
   "execution_count": 23,
   "metadata": {},
   "outputs": [
    {
     "data": {
      "text/html": [
       "<div>\n",
       "<style scoped>\n",
       "    .dataframe tbody tr th:only-of-type {\n",
       "        vertical-align: middle;\n",
       "    }\n",
       "\n",
       "    .dataframe tbody tr th {\n",
       "        vertical-align: top;\n",
       "    }\n",
       "\n",
       "    .dataframe thead th {\n",
       "        text-align: right;\n",
       "    }\n",
       "</style>\n",
       "<table border=\"1\" class=\"dataframe\">\n",
       "  <thead>\n",
       "    <tr style=\"text-align: right;\">\n",
       "      <th></th>\n",
       "      <th>Date</th>\n",
       "      <th>Value</th>\n",
       "    </tr>\n",
       "  </thead>\n",
       "  <tbody>\n",
       "    <tr>\n",
       "      <th>0</th>\n",
       "      <td>2023-01-01</td>\n",
       "      <td>1</td>\n",
       "    </tr>\n",
       "    <tr>\n",
       "      <th>1</th>\n",
       "      <td>2023-02-01</td>\n",
       "      <td>2</td>\n",
       "    </tr>\n",
       "    <tr>\n",
       "      <th>2</th>\n",
       "      <td>2023-03-01</td>\n",
       "      <td>3</td>\n",
       "    </tr>\n",
       "    <tr>\n",
       "      <th>3</th>\n",
       "      <td>2023-04-01</td>\n",
       "      <td>4</td>\n",
       "    </tr>\n",
       "    <tr>\n",
       "      <th>4</th>\n",
       "      <td>2023-05-01</td>\n",
       "      <td>5</td>\n",
       "    </tr>\n",
       "    <tr>\n",
       "      <th>5</th>\n",
       "      <td>2023-06-01</td>\n",
       "      <td>6</td>\n",
       "    </tr>\n",
       "  </tbody>\n",
       "</table>\n",
       "</div>"
      ],
      "text/plain": [
       "        Date  Value\n",
       "0 2023-01-01      1\n",
       "1 2023-02-01      2\n",
       "2 2023-03-01      3\n",
       "3 2023-04-01      4\n",
       "4 2023-05-01      5\n",
       "5 2023-06-01      6"
      ]
     },
     "execution_count": 23,
     "metadata": {},
     "output_type": "execute_result"
    }
   ],
   "source": [
    "# Create a DataFrame\n",
    "df_date = pd.DataFrame({\n",
    "    'Date': ['2023-01-01', '2023-02-01', '2023-03-01', '2023-04-01', '2023-05-01', '2023-06-01'],\n",
    "    'Value': [1, 2, 3, 4, 5, 6]\n",
    "})\n",
    "\n",
    "# Convert the 'Date' column to datetime format\n",
    "df_date['Date'] = pd.to_datetime(df_date['Date'])\n",
    "df_date"
   ]
  },
  {
   "cell_type": "markdown",
   "metadata": {},
   "source": [
    "##### 2. Now that you have converted the ‘Date’ column to datetime format, write a code to set this column as the index of the DataFrame.\n",
    "\n",
    "\n",
    "Note: Setting the ‘Date’ column as the index allows you to easily perform operations on specific dates."
   ]
  },
  {
   "cell_type": "code",
   "execution_count": 24,
   "metadata": {},
   "outputs": [
    {
     "data": {
      "text/html": [
       "<div>\n",
       "<style scoped>\n",
       "    .dataframe tbody tr th:only-of-type {\n",
       "        vertical-align: middle;\n",
       "    }\n",
       "\n",
       "    .dataframe tbody tr th {\n",
       "        vertical-align: top;\n",
       "    }\n",
       "\n",
       "    .dataframe thead th {\n",
       "        text-align: right;\n",
       "    }\n",
       "</style>\n",
       "<table border=\"1\" class=\"dataframe\">\n",
       "  <thead>\n",
       "    <tr style=\"text-align: right;\">\n",
       "      <th></th>\n",
       "      <th>Value</th>\n",
       "    </tr>\n",
       "    <tr>\n",
       "      <th>Date</th>\n",
       "      <th></th>\n",
       "    </tr>\n",
       "  </thead>\n",
       "  <tbody>\n",
       "    <tr>\n",
       "      <th>2023-01-01</th>\n",
       "      <td>1</td>\n",
       "    </tr>\n",
       "    <tr>\n",
       "      <th>2023-02-01</th>\n",
       "      <td>2</td>\n",
       "    </tr>\n",
       "    <tr>\n",
       "      <th>2023-03-01</th>\n",
       "      <td>3</td>\n",
       "    </tr>\n",
       "    <tr>\n",
       "      <th>2023-04-01</th>\n",
       "      <td>4</td>\n",
       "    </tr>\n",
       "    <tr>\n",
       "      <th>2023-05-01</th>\n",
       "      <td>5</td>\n",
       "    </tr>\n",
       "    <tr>\n",
       "      <th>2023-06-01</th>\n",
       "      <td>6</td>\n",
       "    </tr>\n",
       "  </tbody>\n",
       "</table>\n",
       "</div>"
      ],
      "text/plain": [
       "            Value\n",
       "Date             \n",
       "2023-01-01      1\n",
       "2023-02-01      2\n",
       "2023-03-01      3\n",
       "2023-04-01      4\n",
       "2023-05-01      5\n",
       "2023-06-01      6"
      ]
     },
     "execution_count": 24,
     "metadata": {},
     "output_type": "execute_result"
    }
   ],
   "source": [
    "# Set the 'Date' column as the index\n",
    "df_date.set_index('Date', inplace=True)\n",
    "df_date"
   ]
  },
  {
   "cell_type": "markdown",
   "metadata": {},
   "source": [
    "##### 3. Write a code to resample the DataFrame at a monthly frequency and calculate the mean of the ‘Value’ column for each month.\n",
    "\n",
    "Note: The resample() function is used to resample time-series data. The string ‘M’ is used for monthly frequency. Then use mean"
   ]
  },
  {
   "cell_type": "code",
   "execution_count": 25,
   "metadata": {},
   "outputs": [
    {
     "data": {
      "text/html": [
       "<div>\n",
       "<style scoped>\n",
       "    .dataframe tbody tr th:only-of-type {\n",
       "        vertical-align: middle;\n",
       "    }\n",
       "\n",
       "    .dataframe tbody tr th {\n",
       "        vertical-align: top;\n",
       "    }\n",
       "\n",
       "    .dataframe thead th {\n",
       "        text-align: right;\n",
       "    }\n",
       "</style>\n",
       "<table border=\"1\" class=\"dataframe\">\n",
       "  <thead>\n",
       "    <tr style=\"text-align: right;\">\n",
       "      <th></th>\n",
       "      <th>Value</th>\n",
       "    </tr>\n",
       "    <tr>\n",
       "      <th>Date</th>\n",
       "      <th></th>\n",
       "    </tr>\n",
       "  </thead>\n",
       "  <tbody>\n",
       "    <tr>\n",
       "      <th>2023-01-31</th>\n",
       "      <td>1.0</td>\n",
       "    </tr>\n",
       "    <tr>\n",
       "      <th>2023-02-28</th>\n",
       "      <td>2.0</td>\n",
       "    </tr>\n",
       "    <tr>\n",
       "      <th>2023-03-31</th>\n",
       "      <td>3.0</td>\n",
       "    </tr>\n",
       "    <tr>\n",
       "      <th>2023-04-30</th>\n",
       "      <td>4.0</td>\n",
       "    </tr>\n",
       "    <tr>\n",
       "      <th>2023-05-31</th>\n",
       "      <td>5.0</td>\n",
       "    </tr>\n",
       "    <tr>\n",
       "      <th>2023-06-30</th>\n",
       "      <td>6.0</td>\n",
       "    </tr>\n",
       "  </tbody>\n",
       "</table>\n",
       "</div>"
      ],
      "text/plain": [
       "            Value\n",
       "Date             \n",
       "2023-01-31    1.0\n",
       "2023-02-28    2.0\n",
       "2023-03-31    3.0\n",
       "2023-04-30    4.0\n",
       "2023-05-31    5.0\n",
       "2023-06-30    6.0"
      ]
     },
     "execution_count": 25,
     "metadata": {},
     "output_type": "execute_result"
    }
   ],
   "source": [
    "# Resample the DataFrame at a monthly frequency and calculate the mean\n",
    "df_monthly_mean = df_date.resample('M').mean()\n",
    "df_monthly_mean"
   ]
  },
  {
   "cell_type": "markdown",
   "metadata": {},
   "source": [
    "##### 4. Given a DataFrame ‘df1’ with columns ‘Date’, ‘Temperature’, ‘Humidity’, ‘WindSpeed’, and ‘Rainfall’, where ‘Date’ is in the format ‘YYYY-MM-DD’ and the rest are numerical variables, write a code to resample the DataFrame at a monthly frequency and calculate the mean of all columns for each month.\n",
    "\n",
    "```\n",
    "'Date': pd.date_range(start='2023-01-01', periods=6),\n",
    "'Temperature': [20, 21, 19, 22, 20, 21],\n",
    "'Humidity': [30, 32, 31, 29, 30, 31],\n",
    "'WindSpeed': [10, 11, 10, 12, 11, 10],\n",
    "'Rainfall': [0, 0.2, 0.1, 0.3, 0.2, 0]\n",
    "```\n",
    "\n",
    "Note: The resample() function is used to resample time-series data. The string ‘M’ is used for monthly frequency. The mean() function is then used to calculate the mean of all columns for each month."
   ]
  },
  {
   "cell_type": "code",
   "execution_count": 26,
   "metadata": {},
   "outputs": [
    {
     "data": {
      "text/html": [
       "<div>\n",
       "<style scoped>\n",
       "    .dataframe tbody tr th:only-of-type {\n",
       "        vertical-align: middle;\n",
       "    }\n",
       "\n",
       "    .dataframe tbody tr th {\n",
       "        vertical-align: top;\n",
       "    }\n",
       "\n",
       "    .dataframe thead th {\n",
       "        text-align: right;\n",
       "    }\n",
       "</style>\n",
       "<table border=\"1\" class=\"dataframe\">\n",
       "  <thead>\n",
       "    <tr style=\"text-align: right;\">\n",
       "      <th></th>\n",
       "      <th>Temperature</th>\n",
       "      <th>Humidity</th>\n",
       "      <th>WindSpeed</th>\n",
       "      <th>Rainfall</th>\n",
       "    </tr>\n",
       "    <tr>\n",
       "      <th>Date</th>\n",
       "      <th></th>\n",
       "      <th></th>\n",
       "      <th></th>\n",
       "      <th></th>\n",
       "    </tr>\n",
       "  </thead>\n",
       "  <tbody>\n",
       "    <tr>\n",
       "      <th>2023-01-31</th>\n",
       "      <td>20.5</td>\n",
       "      <td>30.5</td>\n",
       "      <td>10.666667</td>\n",
       "      <td>0.133333</td>\n",
       "    </tr>\n",
       "  </tbody>\n",
       "</table>\n",
       "</div>"
      ],
      "text/plain": [
       "            Temperature  Humidity  WindSpeed  Rainfall\n",
       "Date                                                  \n",
       "2023-01-31         20.5      30.5  10.666667  0.133333"
      ]
     },
     "execution_count": 26,
     "metadata": {},
     "output_type": "execute_result"
    }
   ],
   "source": [
    "# Create a DataFrame\n",
    "df1 = pd.DataFrame({\n",
    "    'Date': pd.date_range(start='2023-01-01', periods=6),\n",
    "    'Temperature': [20, 21, 19, 22, 20, 21],\n",
    "    'Humidity': [30, 32, 31, 29, 30, 31],\n",
    "    'WindSpeed': [10, 11, 10, 12, 11, 10],\n",
    "    'Rainfall': [0, 0.2, 0.1, 0.3, 0.2, 0]\n",
    "})\n",
    "\n",
    "# Set the 'Date' column as the index\n",
    "df1.set_index('Date', inplace=True)\n",
    "\n",
    "# Resample the DataFrame at a monthly frequency and calculate the mean\n",
    "df_monthly_mean = df1.resample('M').mean()\n",
    "df_monthly_mean"
   ]
  },
  {
   "cell_type": "markdown",
   "metadata": {},
   "source": [
    "#### 5. Given a DataFrame ‘df1’ with columns ‘Date’, ‘Temperature’, ‘Humidity’, ‘WindSpeed’, and ‘Rainfall’, where ‘Date’ is in the format ‘YYYY-MM-DD’ and the rest are numerical variables, write a code to calculate the rolling mean of ‘Temperature’ with a window size of 3.\n",
    "\n",
    "```\n",
    "'Date': pd.date_range(start='2023-01-01', periods=6),\n",
    "'Temperature': [20, 21, 19, 22, 20, 21],\n",
    "'Humidity': [30, 32, 31, 29, 30, 31],\n",
    "'WindSpeed': [10, 11, 10, 12, 11, 10],\n",
    "'Rainfall': [0, 0.2, 0.1, 0.3, 0.2, 0]\n",
    "```\n",
    "\n",
    "Note: The rolling() function is used to calculate the rolling mean of a time series. The window size determines the number of observations used for calculating the mean."
   ]
  },
  {
   "cell_type": "code",
   "execution_count": 27,
   "metadata": {},
   "outputs": [
    {
     "data": {
      "text/plain": [
       "Date\n",
       "2023-01-01          NaN\n",
       "2023-01-02          NaN\n",
       "2023-01-03    20.000000\n",
       "2023-01-04    20.666667\n",
       "2023-01-05    20.333333\n",
       "2023-01-06    21.000000\n",
       "Name: Temperature, dtype: float64"
      ]
     },
     "execution_count": 27,
     "metadata": {},
     "output_type": "execute_result"
    }
   ],
   "source": [
    "# Create a DataFrame\n",
    "df1 = pd.DataFrame({\n",
    "    'Date': pd.date_range(start='2023-01-01', periods=6),\n",
    "    'Temperature': [20, 21, 19, 22, 20, 21],\n",
    "    'Humidity': [30, 32, 31, 29, 30, 31],\n",
    "    'WindSpeed': [10, 11, 10, 12, 11, 10],\n",
    "    'Rainfall': [0, 0.2, 0.1, 0.3, 0.2, 0]\n",
    "})\n",
    "\n",
    "# Set the 'Date' column as the index\n",
    "df1.set_index('Date', inplace=True)\n",
    "\n",
    "# Calculate the rolling mean of 'Temperature'\n",
    "df1['Temperature'].rolling(window=3).mean()"
   ]
  },
  {
   "cell_type": "markdown",
   "metadata": {},
   "source": [
    "##### 6. Now consider another DataFrame ‘df2’ with the same columns but different data. Modify your code to calculate the rolling standard deviation of ‘Humidity’ with a window size of 2.\n",
    "\n",
    "function = .std()"
   ]
  },
  {
   "cell_type": "code",
   "execution_count": 28,
   "metadata": {},
   "outputs": [
    {
     "data": {
      "text/plain": [
       "Date\n",
       "2023-02-01         NaN\n",
       "2023-02-02    0.707107\n",
       "2023-02-03    0.707107\n",
       "2023-02-04    0.707107\n",
       "2023-02-05    0.707107\n",
       "2023-02-06    0.707107\n",
       "Name: Humidity, dtype: float64"
      ]
     },
     "execution_count": 28,
     "metadata": {},
     "output_type": "execute_result"
    }
   ],
   "source": [
    "# Create another DataFrame\n",
    "df2 = pd.DataFrame({\n",
    "    'Date': pd.date_range(start='2023-02-01', periods=6),\n",
    "    'Temperature': [15, 16, 14, 15, 16, 15],\n",
    "    'Humidity': [35, 36, 35, 34, 35, 36],\n",
    "    'WindSpeed': [9, 10, 9, 8, 9, 10],\n",
    "    'Rainfall': [0.1, 0.2, 0.1, 0.2, 0.1, 0]\n",
    "})\n",
    "\n",
    "# Set the 'Date' column as the index\n",
    "df2.set_index('Date', inplace=True)\n",
    "\n",
    "# Calculate the rolling standard deviation of 'Humidity'\n",
    "df2['Humidity'].rolling(window=2).std()"
   ]
  },
  {
   "cell_type": "markdown",
   "metadata": {},
   "source": [
    "### Task 5 - Categorial Data"
   ]
  },
  {
   "cell_type": "markdown",
   "metadata": {},
   "source": [
    "##### 1. Given a DataFrame ‘df1’ with a column ‘Size’ containing ordinal data (‘Small’, ‘Medium’, ‘Large’), write a code to sort the DataFrame based on the ‘Size’ column in ascending order.\n",
    "\n",
    "```\n",
    "'Product': ['Product A', 'Product B', 'Product C', 'Product D', 'Product E'],\n",
    "'Size': ['Medium', 'Small', 'Large', 'Small', 'Medium']\n",
    "```\n",
    "\n",
    "Note: The pd.Categorical() function is used to convert the ‘Size’ column to a categorical type with ordered categories. The sort_values() function is then used to sort the DataFrame by the ‘Size’ column."
   ]
  },
  {
   "cell_type": "code",
   "execution_count": 29,
   "metadata": {},
   "outputs": [
    {
     "data": {
      "text/html": [
       "<div>\n",
       "<style scoped>\n",
       "    .dataframe tbody tr th:only-of-type {\n",
       "        vertical-align: middle;\n",
       "    }\n",
       "\n",
       "    .dataframe tbody tr th {\n",
       "        vertical-align: top;\n",
       "    }\n",
       "\n",
       "    .dataframe thead th {\n",
       "        text-align: right;\n",
       "    }\n",
       "</style>\n",
       "<table border=\"1\" class=\"dataframe\">\n",
       "  <thead>\n",
       "    <tr style=\"text-align: right;\">\n",
       "      <th></th>\n",
       "      <th>Product</th>\n",
       "      <th>Size</th>\n",
       "    </tr>\n",
       "  </thead>\n",
       "  <tbody>\n",
       "    <tr>\n",
       "      <th>1</th>\n",
       "      <td>Product B</td>\n",
       "      <td>Small</td>\n",
       "    </tr>\n",
       "    <tr>\n",
       "      <th>3</th>\n",
       "      <td>Product D</td>\n",
       "      <td>Small</td>\n",
       "    </tr>\n",
       "    <tr>\n",
       "      <th>0</th>\n",
       "      <td>Product A</td>\n",
       "      <td>Medium</td>\n",
       "    </tr>\n",
       "    <tr>\n",
       "      <th>4</th>\n",
       "      <td>Product E</td>\n",
       "      <td>Medium</td>\n",
       "    </tr>\n",
       "    <tr>\n",
       "      <th>2</th>\n",
       "      <td>Product C</td>\n",
       "      <td>Large</td>\n",
       "    </tr>\n",
       "  </tbody>\n",
       "</table>\n",
       "</div>"
      ],
      "text/plain": [
       "     Product    Size\n",
       "1  Product B   Small\n",
       "3  Product D   Small\n",
       "0  Product A  Medium\n",
       "4  Product E  Medium\n",
       "2  Product C   Large"
      ]
     },
     "execution_count": 29,
     "metadata": {},
     "output_type": "execute_result"
    }
   ],
   "source": [
    "df1 = pd.DataFrame({\n",
    "    'Product': ['Product A', 'Product B', 'Product C', 'Product D', 'Product E'],\n",
    "    'Size': ['Medium', 'Small', 'Large', 'Small', 'Medium']\n",
    "})\n",
    "\n",
    "# Convert the 'Size' column to a categorical type with ordered categories\n",
    "df1['Size'] = pd.Categorical(df1['Size'], categories=['Small', 'Medium', 'Large'], ordered=True)\n",
    "\n",
    "# Sort the DataFrame by the 'Size' column\n",
    "df1.sort_values(by='Size', inplace=True)\n",
    "df1"
   ]
  },
  {
   "cell_type": "markdown",
   "metadata": {},
   "source": [
    "##### 2. Now consider another DataFrame ‘df2’ with the same columns but different data. Modify your code to sort this DataFrame based on the ‘Size’ column in descending order.\n",
    "\n",
    "```\n",
    "'Product': ['Product F', 'Product G', 'Product H', 'Product I', 'Product J'],\n",
    "'Size': ['Large', 'Medium', 'Small', 'Large', 'Medium']\n",
    "```\n",
    "\n",
    "Note: The sort_values() function with ascending=False is used to sort the DataFrame by the ‘Size’ column in descending order."
   ]
  },
  {
   "cell_type": "code",
   "execution_count": 30,
   "metadata": {},
   "outputs": [
    {
     "data": {
      "text/html": [
       "<div>\n",
       "<style scoped>\n",
       "    .dataframe tbody tr th:only-of-type {\n",
       "        vertical-align: middle;\n",
       "    }\n",
       "\n",
       "    .dataframe tbody tr th {\n",
       "        vertical-align: top;\n",
       "    }\n",
       "\n",
       "    .dataframe thead th {\n",
       "        text-align: right;\n",
       "    }\n",
       "</style>\n",
       "<table border=\"1\" class=\"dataframe\">\n",
       "  <thead>\n",
       "    <tr style=\"text-align: right;\">\n",
       "      <th></th>\n",
       "      <th>Product</th>\n",
       "      <th>Size</th>\n",
       "    </tr>\n",
       "  </thead>\n",
       "  <tbody>\n",
       "    <tr>\n",
       "      <th>0</th>\n",
       "      <td>Product F</td>\n",
       "      <td>Large</td>\n",
       "    </tr>\n",
       "    <tr>\n",
       "      <th>3</th>\n",
       "      <td>Product I</td>\n",
       "      <td>Large</td>\n",
       "    </tr>\n",
       "    <tr>\n",
       "      <th>1</th>\n",
       "      <td>Product G</td>\n",
       "      <td>Medium</td>\n",
       "    </tr>\n",
       "    <tr>\n",
       "      <th>4</th>\n",
       "      <td>Product J</td>\n",
       "      <td>Medium</td>\n",
       "    </tr>\n",
       "    <tr>\n",
       "      <th>2</th>\n",
       "      <td>Product H</td>\n",
       "      <td>Small</td>\n",
       "    </tr>\n",
       "  </tbody>\n",
       "</table>\n",
       "</div>"
      ],
      "text/plain": [
       "     Product    Size\n",
       "0  Product F   Large\n",
       "3  Product I   Large\n",
       "1  Product G  Medium\n",
       "4  Product J  Medium\n",
       "2  Product H   Small"
      ]
     },
     "execution_count": 30,
     "metadata": {},
     "output_type": "execute_result"
    }
   ],
   "source": [
    "# Create another DataFrame\n",
    "df2 = pd.DataFrame({\n",
    "    'Product': ['Product F', 'Product G', 'Product H', 'Product I', 'Product J'],\n",
    "    'Size': ['Large', 'Medium', 'Small', 'Large', 'Medium']\n",
    "})\n",
    "\n",
    "# Convert the 'Size' column to a categorical type with ordered categories\n",
    "df2['Size'] = pd.Categorical(df2['Size'], categories=['Small', 'Medium', 'Large'], ordered=True)\n",
    "\n",
    "# Sort the DataFrame by the 'Size' column in descending order\n",
    "df2.sort_values(by='Size', ascending=False, inplace=True)\n",
    "df2"
   ]
  },
  {
   "cell_type": "markdown",
   "metadata": {},
   "source": [
    "##### 3. Given a DataFrame ‘df3’ with a column ‘Color’ containing nominal data (‘Red’, ‘Blue’, and ‘Green’), write a code to convert this column into dummy variables.\n",
    "\n",
    "```\n",
    "'Product': ['Product K', 'Product L', 'Product M'],\n",
    "'Color': ['Red', 'Blue', 'Green']\n",
    "```\n",
    "\n",
    "Note: The pd.get_dummies() function is used to convert categorical variable(s) into dummy/indicator variables. Each category becomes a new column in the DataFrame and is binary."
   ]
  },
  {
   "cell_type": "code",
   "execution_count": 31,
   "metadata": {},
   "outputs": [
    {
     "data": {
      "text/html": [
       "<div>\n",
       "<style scoped>\n",
       "    .dataframe tbody tr th:only-of-type {\n",
       "        vertical-align: middle;\n",
       "    }\n",
       "\n",
       "    .dataframe tbody tr th {\n",
       "        vertical-align: top;\n",
       "    }\n",
       "\n",
       "    .dataframe thead th {\n",
       "        text-align: right;\n",
       "    }\n",
       "</style>\n",
       "<table border=\"1\" class=\"dataframe\">\n",
       "  <thead>\n",
       "    <tr style=\"text-align: right;\">\n",
       "      <th></th>\n",
       "      <th>Product</th>\n",
       "      <th>Color_Blue</th>\n",
       "      <th>Color_Green</th>\n",
       "      <th>Color_Red</th>\n",
       "    </tr>\n",
       "  </thead>\n",
       "  <tbody>\n",
       "    <tr>\n",
       "      <th>0</th>\n",
       "      <td>Product K</td>\n",
       "      <td>0</td>\n",
       "      <td>0</td>\n",
       "      <td>1</td>\n",
       "    </tr>\n",
       "    <tr>\n",
       "      <th>1</th>\n",
       "      <td>Product L</td>\n",
       "      <td>1</td>\n",
       "      <td>0</td>\n",
       "      <td>0</td>\n",
       "    </tr>\n",
       "    <tr>\n",
       "      <th>2</th>\n",
       "      <td>Product M</td>\n",
       "      <td>0</td>\n",
       "      <td>1</td>\n",
       "      <td>0</td>\n",
       "    </tr>\n",
       "  </tbody>\n",
       "</table>\n",
       "</div>"
      ],
      "text/plain": [
       "     Product  Color_Blue  Color_Green  Color_Red\n",
       "0  Product K           0            0          1\n",
       "1  Product L           1            0          0\n",
       "2  Product M           0            1          0"
      ]
     },
     "execution_count": 31,
     "metadata": {},
     "output_type": "execute_result"
    }
   ],
   "source": [
    "df3 = pd.DataFrame({\n",
    "    'Product': ['Product K', 'Product L', 'Product M'],\n",
    "    'Color': ['Red', 'Blue', 'Green']\n",
    "})\n",
    "\n",
    "# Convert the ‘Color’ column into dummy variables\n",
    "df3 = pd.get_dummies(df3, columns=['Color'])\n",
    "df3"
   ]
  },
  {
   "cell_type": "markdown",
   "metadata": {},
   "source": [
    "##### 4. Now consider another DataFrame ‘df4’ with a column ‘Age’ containing numerical data. Write a code to divide this column into bins using pd.cut() and pd.qcut().\n",
    "\n",
    "```\n",
    "\"Name\": [\"Person A\", \"Person B\", \"Person C\", \"Person D\", \"Person E\"],\n",
    "\"Age\": [20, 25, 30, 35, 40]\n",
    "```\n",
    "\n",
    "Note: The pd.cut() function is used to segment and sort data values into bins. This function is also useful for going from a continuous variable to a categorical variable. On the other hand, pd.qcut() is a quantile-based discretization function which discretize variable into equal-sized buckets based on rank or based on sample quantiles."
   ]
  },
  {
   "cell_type": "code",
   "execution_count": 33,
   "metadata": {},
   "outputs": [
    {
     "name": "stdout",
     "output_type": "stream",
     "text": [
      "       Name  Age        Age_Cut\n",
      "0  Person A   20  (19.98, 30.0]\n",
      "1  Person B   25  (19.98, 30.0]\n",
      "2  Person C   30  (19.98, 30.0]\n",
      "3  Person D   35   (30.0, 40.0]\n",
      "4  Person E   40   (30.0, 40.0]\n"
     ]
    },
    {
     "data": {
      "text/html": [
       "<div>\n",
       "<style scoped>\n",
       "    .dataframe tbody tr th:only-of-type {\n",
       "        vertical-align: middle;\n",
       "    }\n",
       "\n",
       "    .dataframe tbody tr th {\n",
       "        vertical-align: top;\n",
       "    }\n",
       "\n",
       "    .dataframe thead th {\n",
       "        text-align: right;\n",
       "    }\n",
       "</style>\n",
       "<table border=\"1\" class=\"dataframe\">\n",
       "  <thead>\n",
       "    <tr style=\"text-align: right;\">\n",
       "      <th></th>\n",
       "      <th>Name</th>\n",
       "      <th>Age</th>\n",
       "      <th>Age_Cut</th>\n",
       "      <th>Age_QCut</th>\n",
       "    </tr>\n",
       "  </thead>\n",
       "  <tbody>\n",
       "    <tr>\n",
       "      <th>0</th>\n",
       "      <td>Person A</td>\n",
       "      <td>20</td>\n",
       "      <td>(19.98, 30.0]</td>\n",
       "      <td>(19.999, 30.0]</td>\n",
       "    </tr>\n",
       "    <tr>\n",
       "      <th>1</th>\n",
       "      <td>Person B</td>\n",
       "      <td>25</td>\n",
       "      <td>(19.98, 30.0]</td>\n",
       "      <td>(19.999, 30.0]</td>\n",
       "    </tr>\n",
       "    <tr>\n",
       "      <th>2</th>\n",
       "      <td>Person C</td>\n",
       "      <td>30</td>\n",
       "      <td>(19.98, 30.0]</td>\n",
       "      <td>(19.999, 30.0]</td>\n",
       "    </tr>\n",
       "    <tr>\n",
       "      <th>3</th>\n",
       "      <td>Person D</td>\n",
       "      <td>35</td>\n",
       "      <td>(30.0, 40.0]</td>\n",
       "      <td>(30.0, 40.0]</td>\n",
       "    </tr>\n",
       "    <tr>\n",
       "      <th>4</th>\n",
       "      <td>Person E</td>\n",
       "      <td>40</td>\n",
       "      <td>(30.0, 40.0]</td>\n",
       "      <td>(30.0, 40.0]</td>\n",
       "    </tr>\n",
       "  </tbody>\n",
       "</table>\n",
       "</div>"
      ],
      "text/plain": [
       "       Name  Age        Age_Cut        Age_QCut\n",
       "0  Person A   20  (19.98, 30.0]  (19.999, 30.0]\n",
       "1  Person B   25  (19.98, 30.0]  (19.999, 30.0]\n",
       "2  Person C   30  (19.98, 30.0]  (19.999, 30.0]\n",
       "3  Person D   35   (30.0, 40.0]    (30.0, 40.0]\n",
       "4  Person E   40   (30.0, 40.0]    (30.0, 40.0]"
      ]
     },
     "execution_count": 33,
     "metadata": {},
     "output_type": "execute_result"
    }
   ],
   "source": [
    "df4 = pd.DataFrame({\n",
    "    \"Name\": [\"Person A\", \"Person B\", \"Person C\", \"Person D\", \"Person E\"],\n",
    "    \"Age\": [20, 25, 30, 35, 40]\n",
    "})\n",
    "\n",
    "# Divide the ‘Age’ column into bins using pd.cut()\n",
    "df4['Age_Cut'] = pd.cut(df4['Age'], bins=2)\n",
    "print(df4)\n",
    "\n",
    "# Divide the ‘Age’ column into bins using pd.qcut()\n",
    "df4['Age_QCut'] = pd.qcut(df4['Age'], q=2)\n",
    "df4"
   ]
  },
  {
   "cell_type": "markdown",
   "metadata": {},
   "source": [
    "### Task 6 (Homework) - Element-wise Operations"
   ]
  },
  {
   "cell_type": "markdown",
   "metadata": {},
   "source": [
    "##### 1. Given a DataFrame ‘df1’ with columns ‘A’, ‘B’, and ‘C’, writecode to calculate the sum of ‘A’ and ‘B’ and store the result in ‘C’.\n",
    "\n",
    "```\n",
    "'A': [1, 2, 3, 4, 5],\n",
    "'B': [6, 7, 8, 9, 10]\n",
    "```\n",
    "\n",
    "Note: This is an example of a non-element-wise operation in pandas. The ‘+’ operator is used to add the corresponding elements of ‘A’ and ‘B’."
   ]
  },
  {
   "cell_type": "code",
   "execution_count": null,
   "metadata": {},
   "outputs": [],
   "source": [
    "df1 = pd.DataFrame({\n",
    "    'A': [1, 2, 3, 4, 5],\n",
    "    'B': [6, 7, 8, 9, 10]\n",
    "})\n",
    "\n",
    "# Calculate the sum of 'A' and 'B'\n",
    "df1['C'] = df1['A'] + df1['B']\n",
    "df1"
   ]
  },
  {
   "cell_type": "markdown",
   "metadata": {},
   "source": [
    "##### 2. Now consider another DataFrame ‘df2’ with the same columns but different data. Modify your code to calculate the product of ‘A’ and ‘B’ and store the result in ‘C’.\n",
    "\n",
    "```\n",
    "'A': [1, 2, 3, 4, 5],\n",
    "'B': [6, 7, 8, 9, 10]\n",
    "```\n",
    "\n",
    "Note: The ‘*’ operator is used to multiply the corresponding elements of ‘A’ and ‘B’."
   ]
  },
  {
   "cell_type": "code",
   "execution_count": null,
   "metadata": {},
   "outputs": [],
   "source": [
    "\n",
    "df2 = pd.DataFrame({\n",
    "    'A': [1, 2, 3, 4, 5],\n",
    "    'B': [6, 7, 8, 9, 10]\n",
    "})\n",
    "\n",
    "# Calculate the product of 'A' and 'B'\n",
    "df2['C'] = df2['A'] * df2['B']\n",
    "df2"
   ]
  },
  {
   "cell_type": "markdown",
   "metadata": {},
   "source": [
    "##### 3. Given a DataFrame ‘df3’ with columns ‘D’, ‘E’, and ‘F’, write code to calculate the sum of ‘D’ and ‘E’ using eval() function and store the result in ‘F’.\n",
    "\n",
    "```\n",
    "'D': [11, 12, 13, 14, 15],\n",
    "'E': [16, 17, 18, 19, 20]\n",
    "```\n",
    "\n",
    "Note: The eval() function in pandas is used to evaluate an expression that operates on columns in a DataFrame. It allows element-wise operations to be expressed more succinctly."
   ]
  },
  {
   "cell_type": "code",
   "execution_count": null,
   "metadata": {},
   "outputs": [],
   "source": [
    "df3 = pd.DataFrame({\n",
    "    'D': [11, 12, 13, 14, 15],\n",
    "    'E': [16, 17, 18, 19, 20]\n",
    "})\n",
    "\n",
    "# Calculate the sum of ‘D’ and ‘E’ using eval() function\n",
    "df3['F'] = df3.eval('D + E')\n",
    "df3"
   ]
  },
  {
   "cell_type": "markdown",
   "metadata": {},
   "source": [
    "##### 4. Modify your code to calculate the product of ‘D’ and ‘E’ using eval() function and store the result in ‘F’.\n",
    "\n",
    "Note: The eval() function allows for more complex expressions involving multiplication."
   ]
  },
  {
   "cell_type": "code",
   "execution_count": null,
   "metadata": {},
   "outputs": [],
   "source": [
    "# Calculate the sum of ‘D’ and ‘E’ using eval() function\n",
    "df3['F'] = df3.eval('D * E')\n",
    "df3"
   ]
  },
  {
   "cell_type": "markdown",
   "metadata": {},
   "source": [
    "##### 5. Given a DataFrame ‘df5’ with columns ‘Product’, ‘Sales_2019’, and ‘Sales_2020’, write code to filter rows where ‘Sales_2019’ is greater than ‘Sales_2020’ using query() function.\n",
    "\n",
    "```\n",
    "'Product': ['Product A', 'Product B', 'Product C', 'Product D', 'Product E'],\n",
    "'Sales_2019': [200, 300, 250, 350, 275],\n",
    "'Sales_2020': [220, 280, 260, 330, 290]\n",
    "```\n",
    "\n",
    "Note: The query() function in pandas is used to filter rows of a DataFrame based on a query expression."
   ]
  },
  {
   "cell_type": "code",
   "execution_count": null,
   "metadata": {},
   "outputs": [],
   "source": [
    "df5 = pd.DataFrame({\n",
    "    'Product': ['Product A', 'Product B', 'Product C', 'Product D', 'Product E'],\n",
    "    'Sales_2019': [200, 300, 250, 350, 275],\n",
    "    'Sales_2020': [220, 280, 260, 330, 290]\n",
    "})\n",
    "\n",
    "# Filter rows where ‘Sales_2019’ is greater than ‘Sales_2020’ using query() function\n",
    "result = df5.query('Sales_2019 > Sales_2020')\n",
    "result"
   ]
  },
  {
   "cell_type": "markdown",
   "metadata": {},
   "source": [
    "##### 6. Given a DataFrame ‘df6’ with columns ‘City’, ‘Population_2019’, and ‘Population_2020’, write code to first calculate the population growth from 2019 to 2020 using eval() function and store the result in a new column ‘Growth’. Then, use query() function to filter rows where ‘Growth’ is greater than 0.\n",
    "\n",
    "```\n",
    "'City': ['City F', 'City G', 'City H', 'City I', 'City J'],\n",
    "'Population_2019': [21000, 22000, 23000, 24000, 25000],\n",
    "'Population_2020': [21500, 22500, 22500, 23500, 24500]\n",
    "```\n",
    "\n",
    "Note: The eval() function in pandas is used to evaluate an expression that operates on columns in a DataFrame. It allows element-wise operations to be expressed more succinctly. The query() function is used to filter rows of a DataFrame based on a query expression."
   ]
  },
  {
   "cell_type": "code",
   "execution_count": null,
   "metadata": {},
   "outputs": [],
   "source": [
    "df7 = pd.DataFrame({\n",
    "    'City': ['City F', 'City G', 'City H', 'City I', 'City J'],\n",
    "    'Population_2019': [21000, 22000, 23000, 24000, 25000],\n",
    "    'Population_2020': [21500, 22500, 22500, 23500, 24500]\n",
    "})\n",
    "\n",
    "# Calculate the population growth from 2019 to 2020 using eval() function\n",
    "df7['Growth'] = df7.eval('Population_2020 - Population_2019')\n",
    "\n",
    "# Filter rows where ‘Growth’ is greater than 0 using query() function\n",
    "result = df7.query('Growth > 0')\n",
    "result"
   ]
  },
  {
   "cell_type": "markdown",
   "metadata": {},
   "source": [
    "##### 7. (Optional) Investigate implemented multi-indexing, eval() and query() in the same code block."
   ]
  },
  {
   "cell_type": "code",
   "execution_count": null,
   "metadata": {},
   "outputs": [],
   "source": []
  },
  {
   "cell_type": "markdown",
   "metadata": {},
   "source": [
    "### Task 7 (Homework) - Handling Outliers"
   ]
  },
  {
   "cell_type": "markdown",
   "metadata": {},
   "source": [
    "##### 1. Given the DataFrame ‘df1’, identify outliers in the ‘Temperature’ column using a histogram.\n",
    "\n",
    "```\n",
    "df1 = pd.DataFrame({\n",
    "    'Month': ['Jan', 'Feb', 'Mar', 'Apr', 'May', 'Jun', 'Jul', 'Aug', 'Sep', 'Oct', 'Nov', 'Dec'],\n",
    "    'Temperature': [15, 16, 14, 18, 20, 22, 24, 23, 21, 19, 17, 15],\n",
    "    'Humidity': [30, 32, 35, 40, 45, 50, 55, 50, 45, 40, 35, 30],\n",
    "    'Rainfall': [50, 60, 80, 100, 120, 140, 160, 140, 120, 100, 80, 60],\n",
    "    'WindSpeed': [10, 11, 12, 13, 14, 15, 16, 15, 14, 13 ,12 ,11],\n",
    "    'Snowfall': [30 ,25 ,20 ,15 ,10 ,5 ,0 ,5 ,10 ,15 ,20 ,25],\n",
    "    'CloudCover': [6 ,7 ,8 ,9 ,10 ,9 ,8 ,7 ,6 ,5 ,4 ,3]\n",
    "})\n",
    "```\n",
    "\n",
    "Note: The plot() function with kind=‘hist’ is used to create a histogram. Outliers can be identified as values that are far from the rest of the data."
   ]
  },
  {
   "cell_type": "code",
   "execution_count": null,
   "metadata": {},
   "outputs": [],
   "source": [
    "df1 = pd.DataFrame({\n",
    "    'Month': ['Jan', 'Feb', 'Mar', 'Apr', 'May', 'Jun', 'Jul', 'Aug', 'Sep', 'Oct', 'Nov', 'Dec'],\n",
    "    'Temperature': [15, 16, 14, 18, 20, 22, 24, 23, 21, 19, 17, 15],\n",
    "    'Humidity': [30, 32, 35, 40, 45, 50, 55, 50, 45, 40, 35, 30],\n",
    "    'Rainfall': [50, 60, 80, 100, 120, 140, 160, 140, 120, 100, 80, 60],\n",
    "    'WindSpeed': [10, 11, 12, 13, 14, 15, 16, 15, 14, 13 ,12 ,11],\n",
    "    'Snowfall': [30 ,25 ,20 ,15 ,10 ,5 ,0 ,5 ,10 ,15 ,20 ,25],\n",
    "    'CloudCover': [6 ,7 ,8 ,9 ,10 ,9 ,8 ,7 ,6 ,5 ,4 ,3]\n",
    "})\n",
    "\n",
    "# Identify outliers in the 'Temperature' column using a histogram\n",
    "df1['Temperature'].plot(kind='hist', bins=30)"
   ]
  },
  {
   "cell_type": "markdown",
   "metadata": {},
   "source": [
    "##### 2. Now consider the same DataFrame ‘df1’. Modify your code to identify outliers in the ‘Humidity’ column using a box plot.\n",
    "\n",
    "Note: The plot() function with kind=‘box’ is used to create a box plot. Outliers can be identified as values that are outside the whiskers of the box plot. These are typically values that are more than 1.5 * IQR (Inter-Quartile Range) away from either the first quartile (25%) or third quartile (75%) in a box plot."
   ]
  },
  {
   "cell_type": "code",
   "execution_count": null,
   "metadata": {},
   "outputs": [],
   "source": [
    "# Identify outliers in the 'Humidity' column using a box plot\n",
    "df1['Humidity'].plot(kind='box')"
   ]
  },
  {
   "cell_type": "markdown",
   "metadata": {},
   "source": [
    "### Task 8 (Homework) - Investigate Memory Optimisations in Python and Pandas"
   ]
  },
  {
   "cell_type": "markdown",
   "metadata": {},
   "source": [
    "##### 1. (Optional) Explore the following code and see how it works. Change values, try your own dataset, try larger datasets."
   ]
  },
  {
   "cell_type": "code",
   "execution_count": null,
   "metadata": {},
   "outputs": [],
   "source": [
    "# Optimize the memory usage by changing the data types of the columns\n",
    "df1_optimized = df1.copy()\n",
    "df1_optimized['Temperature'] = df1_optimized['Temperature'].astype('float32')\n",
    "df1_optimized['Humidity'] = df1_optimized['Humidity'].astype('int32')\n",
    "\n",
    "# Check the memory usage of each column after optimisation\n",
    "print(df1_optimized.memory_usage(deep=True))"
   ]
  },
  {
   "cell_type": "code",
   "execution_count": null,
   "metadata": {},
   "outputs": [],
   "source": [
    "# Optimize the memory usage by changing the data types of the columns\n",
    "df1_optimized = df1.copy()\n",
    "df1_optimized['Temperature'] = df1_optimized['Temperature'].astype('float32')\n",
    "df1_optimized['Humidity'] = df1_optimized['Humidity'].astype('int32')\n",
    "\n",
    "# Check the memory usage of each column after optimisation\n",
    "print(df1_optimized.memory_usage(deep=True))\n"
   ]
  },
  {
   "cell_type": "code",
   "execution_count": null,
   "metadata": {},
   "outputs": [],
   "source": [
    "# Memory usage before optimisation\n",
    "mem_before = df1.memory_usage(deep=True)\n",
    "\n",
    "# Memory usage after optimisation\n",
    "mem_after = df1_optimized.memory_usage(deep=True)\n",
    "\n",
    "# Create a DataFrame for plotting\n",
    "df_mem = pd.DataFrame({'Before': mem_before, 'After': mem_after})\n",
    "\n",
    "# Plot the memory usage\n",
    "df_mem.plot(kind='bar', title='Memory Usage Before and After Optimisation')\n"
   ]
  }
 ],
 "metadata": {
  "kernelspec": {
   "display_name": "Python 3 (ipykernel)",
   "language": "python",
   "name": "python3"
  },
  "language_info": {
   "codemirror_mode": {
    "name": "ipython",
    "version": 3
   },
   "file_extension": ".py",
   "mimetype": "text/x-python",
   "name": "python",
   "nbconvert_exporter": "python",
   "pygments_lexer": "ipython3",
   "version": "3.11.4"
  }
 },
 "nbformat": 4,
 "nbformat_minor": 4
}
